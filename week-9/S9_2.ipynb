{
 "cells": [
  {
   "cell_type": "code",
   "execution_count": 1,
   "metadata": {
    "colab": {
     "base_uri": "https://localhost:8080/",
     "height": 146
    },
    "id": "ta-RPuoK6oB4",
    "outputId": "0ff17bc0-bc8c-4cf0-f695-ac32a1144645"
   },
   "outputs": [
    {
     "name": "stdout",
     "output_type": "stream",
     "text": [
      "Cloning into 'EVA5'...\n",
      "remote: Enumerating objects: 352, done.\u001b[K\n",
      "remote: Counting objects: 100% (352/352), done.\u001b[K\n",
      "remote: Compressing objects: 100% (261/261), done.\u001b[K\n",
      "remote: Total 352 (delta 180), reused 221 (delta 77), pack-reused 0\u001b[K\n",
      "Receiving objects: 100% (352/352), 14.88 MiB | 45.34 MiB/s, done.\n",
      "Resolving deltas: 100% (180/180), done.\n"
     ]
    }
   ],
   "source": [
    "!git clone -b week9-dev https://github.com/vamsigp/EVA5/"
   ]
  },
  {
   "cell_type": "code",
   "execution_count": 2,
   "metadata": {
    "colab": {
     "base_uri": "https://localhost:8080/",
     "height": 35
    },
    "id": "uieqvfYL7EzQ",
    "outputId": "323a0b16-7d6b-4f01-dad3-6d28062641b9"
   },
   "outputs": [
    {
     "name": "stdout",
     "output_type": "stream",
     "text": [
      "/content/EVA5/trainer\n"
     ]
    }
   ],
   "source": [
    "%cd EVA5/trainer"
   ]
  },
  {
   "cell_type": "code",
   "execution_count": 3,
   "metadata": {
    "colab": {
     "base_uri": "https://localhost:8080/",
     "height": 698
    },
    "id": "F_v9ieH87Hwt",
    "outputId": "7ddc2b13-b1ed-4db3-935e-7d58cf724297"
   },
   "outputs": [
    {
     "name": "stdout",
     "output_type": "stream",
     "text": [
      "Collecting albumentations\n",
      "\u001b[?25l  Downloading https://files.pythonhosted.org/packages/92/33/1c459c2c9a4028ec75527eff88bc4e2d256555189f42af4baf4d7bd89233/albumentations-0.4.6.tar.gz (117kB)\n",
      "\u001b[K     |████████████████████████████████| 122kB 4.6MB/s \n",
      "\u001b[?25hRequirement already satisfied, skipping upgrade: numpy>=1.11.1 in /usr/local/lib/python3.6/dist-packages (from albumentations) (1.18.5)\n",
      "Requirement already satisfied, skipping upgrade: scipy in /usr/local/lib/python3.6/dist-packages (from albumentations) (1.4.1)\n",
      "Collecting imgaug>=0.4.0\n",
      "\u001b[?25l  Downloading https://files.pythonhosted.org/packages/66/b1/af3142c4a85cba6da9f4ebb5ff4e21e2616309552caca5e8acefe9840622/imgaug-0.4.0-py2.py3-none-any.whl (948kB)\n",
      "\u001b[K     |████████████████████████████████| 952kB 14.5MB/s \n",
      "\u001b[?25hRequirement already satisfied, skipping upgrade: PyYAML in /usr/local/lib/python3.6/dist-packages (from albumentations) (3.13)\n",
      "Requirement already satisfied, skipping upgrade: opencv-python>=4.1.1 in /usr/local/lib/python3.6/dist-packages (from albumentations) (4.1.2.30)\n",
      "Requirement already satisfied, skipping upgrade: Pillow in /usr/local/lib/python3.6/dist-packages (from imgaug>=0.4.0->albumentations) (7.0.0)\n",
      "Requirement already satisfied, skipping upgrade: imageio in /usr/local/lib/python3.6/dist-packages (from imgaug>=0.4.0->albumentations) (2.4.1)\n",
      "Requirement already satisfied, skipping upgrade: matplotlib in /usr/local/lib/python3.6/dist-packages (from imgaug>=0.4.0->albumentations) (3.2.2)\n",
      "Requirement already satisfied, skipping upgrade: Shapely in /usr/local/lib/python3.6/dist-packages (from imgaug>=0.4.0->albumentations) (1.7.1)\n",
      "Requirement already satisfied, skipping upgrade: six in /usr/local/lib/python3.6/dist-packages (from imgaug>=0.4.0->albumentations) (1.15.0)\n",
      "Requirement already satisfied, skipping upgrade: scikit-image>=0.14.2 in /usr/local/lib/python3.6/dist-packages (from imgaug>=0.4.0->albumentations) (0.16.2)\n",
      "Requirement already satisfied, skipping upgrade: kiwisolver>=1.0.1 in /usr/local/lib/python3.6/dist-packages (from matplotlib->imgaug>=0.4.0->albumentations) (1.2.0)\n",
      "Requirement already satisfied, skipping upgrade: python-dateutil>=2.1 in /usr/local/lib/python3.6/dist-packages (from matplotlib->imgaug>=0.4.0->albumentations) (2.8.1)\n",
      "Requirement already satisfied, skipping upgrade: pyparsing!=2.0.4,!=2.1.2,!=2.1.6,>=2.0.1 in /usr/local/lib/python3.6/dist-packages (from matplotlib->imgaug>=0.4.0->albumentations) (2.4.7)\n",
      "Requirement already satisfied, skipping upgrade: cycler>=0.10 in /usr/local/lib/python3.6/dist-packages (from matplotlib->imgaug>=0.4.0->albumentations) (0.10.0)\n",
      "Requirement already satisfied, skipping upgrade: networkx>=2.0 in /usr/local/lib/python3.6/dist-packages (from scikit-image>=0.14.2->imgaug>=0.4.0->albumentations) (2.5)\n",
      "Requirement already satisfied, skipping upgrade: PyWavelets>=0.4.0 in /usr/local/lib/python3.6/dist-packages (from scikit-image>=0.14.2->imgaug>=0.4.0->albumentations) (1.1.1)\n",
      "Requirement already satisfied, skipping upgrade: decorator>=4.3.0 in /usr/local/lib/python3.6/dist-packages (from networkx>=2.0->scikit-image>=0.14.2->imgaug>=0.4.0->albumentations) (4.4.2)\n",
      "Building wheels for collected packages: albumentations\n",
      "  Building wheel for albumentations (setup.py) ... \u001b[?25l\u001b[?25hdone\n",
      "  Created wheel for albumentations: filename=albumentations-0.4.6-cp36-none-any.whl size=65165 sha256=4563133b93df75db091d34b1ce35b53f947bd4d6347d7738555ef3d4454c61ee\n",
      "  Stored in directory: /root/.cache/pip/wheels/c7/f4/89/56d1bee5c421c36c1a951eeb4adcc32fbb82f5344c086efa14\n",
      "Successfully built albumentations\n",
      "Installing collected packages: imgaug, albumentations\n",
      "  Found existing installation: imgaug 0.2.9\n",
      "    Uninstalling imgaug-0.2.9:\n",
      "      Successfully uninstalled imgaug-0.2.9\n",
      "  Found existing installation: albumentations 0.1.12\n",
      "    Uninstalling albumentations-0.1.12:\n",
      "      Successfully uninstalled albumentations-0.1.12\n",
      "Successfully installed albumentations-0.4.6 imgaug-0.4.0\n"
     ]
    }
   ],
   "source": [
    "!pip install -U albumentations"
   ]
  },
  {
   "cell_type": "code",
   "execution_count": 4,
   "metadata": {
    "id": "ZxMwlaK67RW6"
   },
   "outputs": [],
   "source": [
    "%matplotlib inline"
   ]
  },
  {
   "cell_type": "code",
   "execution_count": 5,
   "metadata": {
    "id": "-sjkc2jN7s4l"
   },
   "outputs": [],
   "source": [
    "import torch\n",
    "import torchvision\n",
    "import torch.nn as nn\n",
    "import torch.optim as optim\n",
    "from config import ModelConfig\n",
    "from data_engine import DataEngine\n",
    "from trainer import Trainer\n",
    "from results import *\n",
    "from utils import *"
   ]
  },
  {
   "cell_type": "code",
   "execution_count": 6,
   "metadata": {
    "id": "aLi03Z5U9isF"
   },
   "outputs": [],
   "source": [
    "from Albumentations import *\n",
    "from GradCAM import *"
   ]
  },
  {
   "cell_type": "code",
   "execution_count": 7,
   "metadata": {
    "id": "JrihgUz8KIvy"
   },
   "outputs": [],
   "source": [
    "from models.cifar10 import cifar10Model\n",
    "from models.resnet import ResNet18"
   ]
  },
  {
   "cell_type": "code",
   "execution_count": 8,
   "metadata": {
    "id": "JdckgEzZ9kMp"
   },
   "outputs": [],
   "source": [
    "transform_album = album_compose()"
   ]
  },
  {
   "cell_type": "code",
   "execution_count": 9,
   "metadata": {
    "colab": {
     "base_uri": "https://localhost:8080/",
     "height": 201
    },
    "id": "vycunyY4-BD8",
    "outputId": "3439da29-5f48-4508-9ad5-fadf33e72ea4"
   },
   "outputs": [
    {
     "name": "stdout",
     "output_type": "stream",
     "text": [
      "Model Parameters:\n",
      "{ 'batch_size_cpu': 64,\n",
      "  'batch_size_cuda': 64,\n",
      "  'dropout_value': 0.15,\n",
      "  'epochs': 50,\n",
      "  'num_workers': 4,\n",
      "  'seed': 1,\n",
      "  'train_transform': <Albumentations.album_compose object at 0x7f3a12b40908>}\n",
      "\n",
      "CUDA Available\n"
     ]
    }
   ],
   "source": [
    "# View model config\n",
    "args = ModelConfig(transform_album)\n",
    "args.print_config()\n",
    "\n",
    "print()\n",
    "# Set seed\n",
    "init_seed(args)"
   ]
  },
  {
   "cell_type": "code",
   "execution_count": 10,
   "metadata": {
    "colab": {
     "base_uri": "https://localhost:8080/",
     "height": 348,
     "referenced_widgets": [
      "c828df1b6f514553a2a009bb3e1eca20",
      "5f8a5a8bbd594a17b73b76ecc9cdd8bd",
      "e566198180464536bed46a080c35b7ab",
      "88df4c98a09b4bfbb9df5d0a15b9b325",
      "ce339e101e9d4c428c0882e7c45d68bb",
      "28d1d03684744b28b93e4c3ed09595fe",
      "ef992a91e6184326b407028666b6140a",
      "af01cd24d656447e81e77e6392723e2d"
     ]
    },
    "id": "09QQyyWs-EUF",
    "outputId": "d2eaff2b-42ea-4a56-bca6-084148921181"
   },
   "outputs": [
    {
     "name": "stdout",
     "output_type": "stream",
     "text": [
      "Downloading https://www.cs.toronto.edu/~kriz/cifar-10-python.tar.gz to ./data/cifar-10-python.tar.gz\n"
     ]
    },
    {
     "data": {
      "application/vnd.jupyter.widget-view+json": {
       "model_id": "c828df1b6f514553a2a009bb3e1eca20",
       "version_major": 2,
       "version_minor": 0
      },
      "text/plain": [
       "HBox(children=(FloatProgress(value=1.0, bar_style='info', max=1.0), HTML(value='')))"
      ]
     },
     "metadata": {
      "tags": []
     },
     "output_type": "display_data"
    },
    {
     "name": "stdout",
     "output_type": "stream",
     "text": [
      "Extracting ./data/cifar-10-python.tar.gz to ./data\n",
      "Files already downloaded and verified\n"
     ]
    },
    {
     "name": "stderr",
     "output_type": "stream",
     "text": [
      "Clipping input data to the valid range for imshow with RGB data ([0..1] for floats or [0..255] for integers).\n"
     ]
    },
    {
     "name": "stdout",
     "output_type": "stream",
     "text": [
      "plane   dog  deer  deer\n"
     ]
    },
    {
     "data": {
      "image/png": "[encoded data removed]",
      "text/plain": [
       "<Figure size 864x864 with 1 Axes>"
      ]
     },
     "metadata": {
      "needs_background": "light",
      "tags": []
     },
     "output_type": "display_data"
    }
   ],
   "source": [
    "data = DataEngine(args)\n",
    "\n",
    "# get some random training images\n",
    "dataiter = iter(data.train_loader)\n",
    "images, labels = dataiter.next()\n",
    "\n",
    "# show images\n",
    "imshow(torchvision.utils.make_grid(images[:4]))\n",
    "# print labels\n",
    "print(' '.join('%5s' % data.classes[labels[j]] for j in range(4)))"
   ]
  },
  {
   "cell_type": "code",
   "execution_count": 11,
   "metadata": {
    "colab": {
     "base_uri": "https://localhost:8080/",
     "height": 899
    },
    "id": "aWDbL5YiJ6rv",
    "outputId": "20883d10-17dc-4e50-92b2-e9733842d9da"
   },
   "outputs": [
    {
     "name": "stdout",
     "output_type": "stream",
     "text": [
      "----------------------------------------------------------------\n",
      "        Layer (type)               Output Shape         Param #\n",
      "================================================================\n",
      "            Conv2d-1           [-1, 32, 32, 32]             864\n",
      "       BatchNorm2d-2           [-1, 32, 32, 32]              64\n",
      "           Dropout-3           [-1, 32, 32, 32]               0\n",
      "              ReLU-4           [-1, 32, 32, 32]               0\n",
      "            Conv2d-5           [-1, 64, 32, 32]          18,432\n",
      "       BatchNorm2d-6           [-1, 64, 32, 32]             128\n",
      "           Dropout-7           [-1, 64, 32, 32]               0\n",
      "              ReLU-8           [-1, 64, 32, 32]               0\n",
      "            Conv2d-9           [-1, 32, 32, 32]           2,048\n",
      "        MaxPool2d-10           [-1, 32, 16, 16]               0\n",
      "           Conv2d-11           [-1, 64, 14, 14]             576\n",
      "      BatchNorm2d-12           [-1, 64, 14, 14]             128\n",
      "          Dropout-13           [-1, 64, 14, 14]               0\n",
      "             ReLU-14           [-1, 64, 14, 14]               0\n",
      "           Conv2d-15          [-1, 128, 14, 14]           8,192\n",
      "      BatchNorm2d-16          [-1, 128, 14, 14]             256\n",
      "        Dropout2d-17          [-1, 128, 14, 14]               0\n",
      "             ReLU-18          [-1, 128, 14, 14]               0\n",
      "        MaxPool2d-19            [-1, 128, 7, 7]               0\n",
      "           Conv2d-20          [-1, 128, 11, 11]         147,456\n",
      "      BatchNorm2d-21          [-1, 128, 11, 11]             256\n",
      "        Dropout2d-22          [-1, 128, 11, 11]               0\n",
      "             ReLU-23          [-1, 128, 11, 11]               0\n",
      "           Conv2d-24          [-1, 128, 11, 11]         147,456\n",
      "      BatchNorm2d-25          [-1, 128, 11, 11]             256\n",
      "          Dropout-26          [-1, 128, 11, 11]               0\n",
      "             ReLU-27          [-1, 128, 11, 11]               0\n",
      "        MaxPool2d-28            [-1, 128, 5, 5]               0\n",
      "        AvgPool2d-29            [-1, 128, 1, 1]               0\n",
      "           Conv2d-30            [-1, 128, 1, 1]          16,384\n",
      "      BatchNorm2d-31            [-1, 128, 1, 1]             256\n",
      "          Dropout-32            [-1, 128, 1, 1]               0\n",
      "             ReLU-33            [-1, 128, 1, 1]               0\n",
      "           Conv2d-34             [-1, 10, 1, 1]           1,280\n",
      "================================================================\n",
      "Total params: 344,032\n",
      "Trainable params: 344,032\n",
      "Non-trainable params: 0\n",
      "----------------------------------------------------------------\n",
      "Input size (MB): 0.01\n",
      "Forward/backward pass size (MB): 5.48\n",
      "Params size (MB): 1.31\n",
      "Estimated Total Size (MB): 6.81\n",
      "----------------------------------------------------------------\n",
      "None\n"
     ]
    }
   ],
   "source": [
    "device = which_device()\n",
    "# model = Net(args).to(device)\n",
    "# model = ResNet18().to(device)\n",
    "model = cifar10Model().to(device)\n",
    "show_model_summary(model, device, (3,32,32))"
   ]
  },
  {
   "cell_type": "code",
   "execution_count": 12,
   "metadata": {
    "id": "SxTxdCoqKBcU"
   },
   "outputs": [],
   "source": [
    "from torch.optim.lr_scheduler import StepLR,OneCycleLR"
   ]
  },
  {
   "cell_type": "code",
   "execution_count": 13,
   "metadata": {
    "id": "KGMXylr2JFhJ"
   },
   "outputs": [],
   "source": [
    "criterion = nn.CrossEntropyLoss()\n",
    "optimizer = optim.SGD(model.parameters(), lr=0.001, momentum=0.9, weight_decay=0.001)\n",
    "scheduler = StepLR(optimizer, step_size=8, gamma=0.1)\n",
    "# scheduler = OneCycleLR(optimizer,max_lr=0.1,total_steps=20)"
   ]
  },
  {
   "cell_type": "code",
   "execution_count": 14,
   "metadata": {
    "id": "qwA3whgUKReR"
   },
   "outputs": [],
   "source": [
    "trainer = Trainer(model, \n",
    "                  device,\n",
    "                  train_loader=data.train_loader, \n",
    "                  test_loader = data.test_loader, \n",
    "                  optimizer = optimizer, \n",
    "                  loss_func = criterion, \n",
    "                  lr_scheduler = None) "
   ]
  },
  {
   "cell_type": "code",
   "execution_count": 15,
   "metadata": {
    "colab": {
     "base_uri": "https://localhost:8080/",
     "height": 1000
    },
    "id": "YEy4tQ1jKUXJ",
    "outputId": "9fd6d819-96ff-45f9-fb2d-b0a959f8934f"
   },
   "outputs": [
    {
     "name": "stderr",
     "output_type": "stream",
     "text": [
      "Train set: Loss=2.5098068714141846 Batch_id=781 Accuracy=30.05: 100%|██████████| 782/782 [00:20<00:00, 38.31it/s]\n",
      "  0%|          | 0/782 [00:00<?, ?it/s]"
     ]
    },
    {
     "name": "stdout",
     "output_type": "stream",
     "text": [
      "\n",
      "Test set: Average loss: 0.0266, Accuracy: 3877/10000 (38.77%)\n",
      "\n"
     ]
    },
    {
     "name": "stderr",
     "output_type": "stream",
     "text": [
      "Train set: Loss=2.065427780151367 Batch_id=781 Accuracy=40.02: 100%|██████████| 782/782 [00:20<00:00, 38.47it/s]\n",
      "  0%|          | 0/782 [00:00<?, ?it/s]"
     ]
    },
    {
     "name": "stdout",
     "output_type": "stream",
     "text": [
      "\n",
      "Test set: Average loss: 0.0224, Accuracy: 4825/10000 (48.25%)\n",
      "\n"
     ]
    },
    {
     "name": "stderr",
     "output_type": "stream",
     "text": [
      "Train set: Loss=2.2215576171875 Batch_id=781 Accuracy=44.38: 100%|██████████| 782/782 [00:20<00:00, 38.23it/s]\n",
      "  0%|          | 0/782 [00:00<?, ?it/s]"
     ]
    },
    {
     "name": "stdout",
     "output_type": "stream",
     "text": [
      "\n",
      "Test set: Average loss: 0.0214, Accuracy: 5115/10000 (51.15%)\n",
      "\n"
     ]
    },
    {
     "name": "stderr",
     "output_type": "stream",
     "text": [
      "Train set: Loss=2.3458967208862305 Batch_id=781 Accuracy=47.68: 100%|██████████| 782/782 [00:20<00:00, 38.28it/s]\n",
      "  0%|          | 0/782 [00:00<?, ?it/s]"
     ]
    },
    {
     "name": "stdout",
     "output_type": "stream",
     "text": [
      "\n",
      "Test set: Average loss: 0.0200, Accuracy: 5400/10000 (54.00%)\n",
      "\n"
     ]
    },
    {
     "name": "stderr",
     "output_type": "stream",
     "text": [
      "Train set: Loss=2.254944086074829 Batch_id=781 Accuracy=50.84: 100%|██████████| 782/782 [00:20<00:00, 38.00it/s]\n",
      "  0%|          | 0/782 [00:00<?, ?it/s]"
     ]
    },
    {
     "name": "stdout",
     "output_type": "stream",
     "text": [
      "\n",
      "Test set: Average loss: 0.0184, Accuracy: 5822/10000 (58.22%)\n",
      "\n"
     ]
    },
    {
     "name": "stderr",
     "output_type": "stream",
     "text": [
      "Train set: Loss=1.529465675354004 Batch_id=781 Accuracy=52.93: 100%|██████████| 782/782 [00:20<00:00, 38.18it/s]\n",
      "  0%|          | 0/782 [00:00<?, ?it/s]"
     ]
    },
    {
     "name": "stdout",
     "output_type": "stream",
     "text": [
      "\n",
      "Test set: Average loss: 0.0176, Accuracy: 5952/10000 (59.52%)\n",
      "\n"
     ]
    },
    {
     "name": "stderr",
     "output_type": "stream",
     "text": [
      "Train set: Loss=2.4060933589935303 Batch_id=781 Accuracy=54.84: 100%|██████████| 782/782 [00:20<00:00, 38.29it/s]\n",
      "  0%|          | 0/782 [00:00<?, ?it/s]"
     ]
    },
    {
     "name": "stdout",
     "output_type": "stream",
     "text": [
      "\n",
      "Test set: Average loss: 0.0162, Accuracy: 6354/10000 (63.54%)\n",
      "\n"
     ]
    },
    {
     "name": "stderr",
     "output_type": "stream",
     "text": [
      "Train set: Loss=1.6089718341827393 Batch_id=781 Accuracy=56.64: 100%|██████████| 782/782 [00:20<00:00, 37.75it/s]\n",
      "  0%|          | 0/782 [00:00<?, ?it/s]"
     ]
    },
    {
     "name": "stdout",
     "output_type": "stream",
     "text": [
      "\n",
      "Test set: Average loss: 0.0160, Accuracy: 6409/10000 (64.09%)\n",
      "\n"
     ]
    },
    {
     "name": "stderr",
     "output_type": "stream",
     "text": [
      "Train set: Loss=1.2816247940063477 Batch_id=781 Accuracy=57.85: 100%|██████████| 782/782 [00:21<00:00, 37.18it/s]\n",
      "  0%|          | 0/782 [00:00<?, ?it/s]"
     ]
    },
    {
     "name": "stdout",
     "output_type": "stream",
     "text": [
      "\n",
      "Test set: Average loss: 0.0158, Accuracy: 6451/10000 (64.51%)\n",
      "\n"
     ]
    },
    {
     "name": "stderr",
     "output_type": "stream",
     "text": [
      "Train set: Loss=1.4559797048568726 Batch_id=781 Accuracy=59.14: 100%|██████████| 782/782 [00:20<00:00, 37.87it/s]\n",
      "  0%|          | 0/782 [00:00<?, ?it/s]"
     ]
    },
    {
     "name": "stdout",
     "output_type": "stream",
     "text": [
      "\n",
      "Test set: Average loss: 0.0144, Accuracy: 6662/10000 (66.62%)\n",
      "\n"
     ]
    },
    {
     "name": "stderr",
     "output_type": "stream",
     "text": [
      "Train set: Loss=1.8843830823898315 Batch_id=781 Accuracy=60.01: 100%|██████████| 782/782 [00:20<00:00, 38.07it/s]\n",
      "  0%|          | 0/782 [00:00<?, ?it/s]"
     ]
    },
    {
     "name": "stdout",
     "output_type": "stream",
     "text": [
      "\n",
      "Test set: Average loss: 0.0140, Accuracy: 6821/10000 (68.21%)\n",
      "\n"
     ]
    },
    {
     "name": "stderr",
     "output_type": "stream",
     "text": [
      "Train set: Loss=1.4048254489898682 Batch_id=781 Accuracy=61.41: 100%|██████████| 782/782 [00:20<00:00, 37.48it/s]\n",
      "  0%|          | 0/782 [00:00<?, ?it/s]"
     ]
    },
    {
     "name": "stdout",
     "output_type": "stream",
     "text": [
      "\n",
      "Test set: Average loss: 0.0149, Accuracy: 6635/10000 (66.35%)\n",
      "\n"
     ]
    },
    {
     "name": "stderr",
     "output_type": "stream",
     "text": [
      "Train set: Loss=1.6146206855773926 Batch_id=781 Accuracy=62.12: 100%|██████████| 782/782 [00:20<00:00, 37.94it/s]\n",
      "  0%|          | 0/782 [00:00<?, ?it/s]"
     ]
    },
    {
     "name": "stdout",
     "output_type": "stream",
     "text": [
      "\n",
      "Test set: Average loss: 0.0136, Accuracy: 6953/10000 (69.53%)\n",
      "\n"
     ]
    },
    {
     "name": "stderr",
     "output_type": "stream",
     "text": [
      "Train set: Loss=1.5201010704040527 Batch_id=781 Accuracy=63.00: 100%|██████████| 782/782 [00:20<00:00, 38.23it/s]\n",
      "  0%|          | 0/782 [00:00<?, ?it/s]"
     ]
    },
    {
     "name": "stdout",
     "output_type": "stream",
     "text": [
      "\n",
      "Test set: Average loss: 0.0129, Accuracy: 7138/10000 (71.38%)\n",
      "\n"
     ]
    },
    {
     "name": "stderr",
     "output_type": "stream",
     "text": [
      "Train set: Loss=1.6566615104675293 Batch_id=781 Accuracy=63.68: 100%|██████████| 782/782 [00:20<00:00, 38.42it/s]\n",
      "  0%|          | 0/782 [00:00<?, ?it/s]"
     ]
    },
    {
     "name": "stdout",
     "output_type": "stream",
     "text": [
      "\n",
      "Test set: Average loss: 0.0126, Accuracy: 7183/10000 (71.83%)\n",
      "\n"
     ]
    },
    {
     "name": "stderr",
     "output_type": "stream",
     "text": [
      "Train set: Loss=1.2125910520553589 Batch_id=781 Accuracy=64.76: 100%|██████████| 782/782 [00:20<00:00, 38.49it/s]\n",
      "  0%|          | 0/782 [00:00<?, ?it/s]"
     ]
    },
    {
     "name": "stdout",
     "output_type": "stream",
     "text": [
      "\n",
      "Test set: Average loss: 0.0126, Accuracy: 7165/10000 (71.65%)\n",
      "\n"
     ]
    },
    {
     "name": "stderr",
     "output_type": "stream",
     "text": [
      "Train set: Loss=1.2936276197433472 Batch_id=781 Accuracy=64.91: 100%|██████████| 782/782 [00:20<00:00, 38.58it/s]\n",
      "  0%|          | 0/782 [00:00<?, ?it/s]"
     ]
    },
    {
     "name": "stdout",
     "output_type": "stream",
     "text": [
      "\n",
      "Test set: Average loss: 0.0120, Accuracy: 7328/10000 (73.28%)\n",
      "\n"
     ]
    },
    {
     "name": "stderr",
     "output_type": "stream",
     "text": [
      "Train set: Loss=1.2725313901901245 Batch_id=781 Accuracy=65.83: 100%|██████████| 782/782 [00:20<00:00, 37.99it/s]\n",
      "  0%|          | 0/782 [00:00<?, ?it/s]"
     ]
    },
    {
     "name": "stdout",
     "output_type": "stream",
     "text": [
      "\n",
      "Test set: Average loss: 0.0118, Accuracy: 7336/10000 (73.36%)\n",
      "\n"
     ]
    },
    {
     "name": "stderr",
     "output_type": "stream",
     "text": [
      "Train set: Loss=1.3590505123138428 Batch_id=781 Accuracy=66.59: 100%|██████████| 782/782 [00:20<00:00, 38.39it/s]\n",
      "  0%|          | 0/782 [00:00<?, ?it/s]"
     ]
    },
    {
     "name": "stdout",
     "output_type": "stream",
     "text": [
      "\n",
      "Test set: Average loss: 0.0124, Accuracy: 7242/10000 (72.42%)\n",
      "\n"
     ]
    },
    {
     "name": "stderr",
     "output_type": "stream",
     "text": [
      "Train set: Loss=1.2179301977157593 Batch_id=781 Accuracy=67.12: 100%|██████████| 782/782 [00:20<00:00, 38.44it/s]\n",
      "  0%|          | 0/782 [00:00<?, ?it/s]"
     ]
    },
    {
     "name": "stdout",
     "output_type": "stream",
     "text": [
      "\n",
      "Test set: Average loss: 0.0118, Accuracy: 7341/10000 (73.41%)\n",
      "\n"
     ]
    },
    {
     "name": "stderr",
     "output_type": "stream",
     "text": [
      "Train set: Loss=1.0837700366973877 Batch_id=781 Accuracy=66.99: 100%|██████████| 782/782 [00:20<00:00, 38.33it/s]\n",
      "  0%|          | 0/782 [00:00<?, ?it/s]"
     ]
    },
    {
     "name": "stdout",
     "output_type": "stream",
     "text": [
      "\n",
      "Test set: Average loss: 0.0114, Accuracy: 7443/10000 (74.43%)\n",
      "\n"
     ]
    },
    {
     "name": "stderr",
     "output_type": "stream",
     "text": [
      "Train set: Loss=1.6981422901153564 Batch_id=781 Accuracy=67.85: 100%|██████████| 782/782 [00:20<00:00, 37.92it/s]\n",
      "  0%|          | 0/782 [00:00<?, ?it/s]"
     ]
    },
    {
     "name": "stdout",
     "output_type": "stream",
     "text": [
      "\n",
      "Test set: Average loss: 0.0109, Accuracy: 7593/10000 (75.93%)\n",
      "\n"
     ]
    },
    {
     "name": "stderr",
     "output_type": "stream",
     "text": [
      "Train set: Loss=0.9001600742340088 Batch_id=781 Accuracy=68.21: 100%|██████████| 782/782 [00:20<00:00, 37.79it/s]\n",
      "  0%|          | 0/782 [00:00<?, ?it/s]"
     ]
    },
    {
     "name": "stdout",
     "output_type": "stream",
     "text": [
      "\n",
      "Test set: Average loss: 0.0114, Accuracy: 7519/10000 (75.19%)\n",
      "\n"
     ]
    },
    {
     "name": "stderr",
     "output_type": "stream",
     "text": [
      "Train set: Loss=1.4934806823730469 Batch_id=781 Accuracy=68.53: 100%|██████████| 782/782 [00:20<00:00, 37.55it/s]\n",
      "  0%|          | 0/782 [00:00<?, ?it/s]"
     ]
    },
    {
     "name": "stdout",
     "output_type": "stream",
     "text": [
      "\n",
      "Test set: Average loss: 0.0107, Accuracy: 7607/10000 (76.07%)\n",
      "\n"
     ]
    },
    {
     "name": "stderr",
     "output_type": "stream",
     "text": [
      "Train set: Loss=0.8421546816825867 Batch_id=781 Accuracy=68.90: 100%|██████████| 782/782 [00:20<00:00, 37.50it/s]\n",
      "  0%|          | 0/782 [00:00<?, ?it/s]"
     ]
    },
    {
     "name": "stdout",
     "output_type": "stream",
     "text": [
      "\n",
      "Test set: Average loss: 0.0108, Accuracy: 7563/10000 (75.63%)\n",
      "\n"
     ]
    },
    {
     "name": "stderr",
     "output_type": "stream",
     "text": [
      "Train set: Loss=2.123033285140991 Batch_id=781 Accuracy=69.11: 100%|██████████| 782/782 [00:20<00:00, 38.00it/s]\n",
      "  0%|          | 0/782 [00:00<?, ?it/s]"
     ]
    },
    {
     "name": "stdout",
     "output_type": "stream",
     "text": [
      "\n",
      "Test set: Average loss: 0.0107, Accuracy: 7594/10000 (75.94%)\n",
      "\n"
     ]
    },
    {
     "name": "stderr",
     "output_type": "stream",
     "text": [
      "Train set: Loss=1.13584566116333 Batch_id=781 Accuracy=69.38: 100%|██████████| 782/782 [00:20<00:00, 38.16it/s]\n",
      "  0%|          | 0/782 [00:00<?, ?it/s]"
     ]
    },
    {
     "name": "stdout",
     "output_type": "stream",
     "text": [
      "\n",
      "Test set: Average loss: 0.0103, Accuracy: 7734/10000 (77.34%)\n",
      "\n"
     ]
    },
    {
     "name": "stderr",
     "output_type": "stream",
     "text": [
      "Train set: Loss=1.5012956857681274 Batch_id=781 Accuracy=69.61: 100%|██████████| 782/782 [00:20<00:00, 37.69it/s]\n",
      "  0%|          | 0/782 [00:00<?, ?it/s]"
     ]
    },
    {
     "name": "stdout",
     "output_type": "stream",
     "text": [
      "\n",
      "Test set: Average loss: 0.0100, Accuracy: 7766/10000 (77.66%)\n",
      "\n"
     ]
    },
    {
     "name": "stderr",
     "output_type": "stream",
     "text": [
      "Train set: Loss=1.2465587854385376 Batch_id=781 Accuracy=70.38: 100%|██████████| 782/782 [00:20<00:00, 37.40it/s]\n",
      "  0%|          | 0/782 [00:00<?, ?it/s]"
     ]
    },
    {
     "name": "stdout",
     "output_type": "stream",
     "text": [
      "\n",
      "Test set: Average loss: 0.0098, Accuracy: 7864/10000 (78.64%)\n",
      "\n"
     ]
    },
    {
     "name": "stderr",
     "output_type": "stream",
     "text": [
      "Train set: Loss=1.2170794010162354 Batch_id=781 Accuracy=69.96: 100%|██████████| 782/782 [00:20<00:00, 37.86it/s]\n",
      "  0%|          | 0/782 [00:00<?, ?it/s]"
     ]
    },
    {
     "name": "stdout",
     "output_type": "stream",
     "text": [
      "\n",
      "Test set: Average loss: 0.0098, Accuracy: 7818/10000 (78.18%)\n",
      "\n"
     ]
    },
    {
     "name": "stderr",
     "output_type": "stream",
     "text": [
      "Train set: Loss=1.4653903245925903 Batch_id=781 Accuracy=70.62: 100%|██████████| 782/782 [00:20<00:00, 37.72it/s]\n",
      "  0%|          | 0/782 [00:00<?, ?it/s]"
     ]
    },
    {
     "name": "stdout",
     "output_type": "stream",
     "text": [
      "\n",
      "Test set: Average loss: 0.0101, Accuracy: 7775/10000 (77.75%)\n",
      "\n"
     ]
    },
    {
     "name": "stderr",
     "output_type": "stream",
     "text": [
      "Train set: Loss=1.4534964561462402 Batch_id=781 Accuracy=71.06: 100%|██████████| 782/782 [00:20<00:00, 37.94it/s]\n",
      "  0%|          | 0/782 [00:00<?, ?it/s]"
     ]
    },
    {
     "name": "stdout",
     "output_type": "stream",
     "text": [
      "\n",
      "Test set: Average loss: 0.0097, Accuracy: 7818/10000 (78.18%)\n",
      "\n"
     ]
    },
    {
     "name": "stderr",
     "output_type": "stream",
     "text": [
      "Train set: Loss=1.5568104982376099 Batch_id=781 Accuracy=70.81: 100%|██████████| 782/782 [00:20<00:00, 37.85it/s]\n",
      "  0%|          | 0/782 [00:00<?, ?it/s]"
     ]
    },
    {
     "name": "stdout",
     "output_type": "stream",
     "text": [
      "\n",
      "Test set: Average loss: 0.0102, Accuracy: 7759/10000 (77.59%)\n",
      "\n"
     ]
    },
    {
     "name": "stderr",
     "output_type": "stream",
     "text": [
      "Train set: Loss=0.9649457931518555 Batch_id=781 Accuracy=71.08: 100%|██████████| 782/782 [00:20<00:00, 37.74it/s]\n",
      "  0%|          | 0/782 [00:00<?, ?it/s]"
     ]
    },
    {
     "name": "stdout",
     "output_type": "stream",
     "text": [
      "\n",
      "Test set: Average loss: 0.0097, Accuracy: 7868/10000 (78.68%)\n",
      "\n"
     ]
    },
    {
     "name": "stderr",
     "output_type": "stream",
     "text": [
      "Train set: Loss=0.7342944145202637 Batch_id=781 Accuracy=71.39: 100%|██████████| 782/782 [00:20<00:00, 38.06it/s]\n",
      "  0%|          | 0/782 [00:00<?, ?it/s]"
     ]
    },
    {
     "name": "stdout",
     "output_type": "stream",
     "text": [
      "\n",
      "Test set: Average loss: 0.0099, Accuracy: 7809/10000 (78.09%)\n",
      "\n"
     ]
    },
    {
     "name": "stderr",
     "output_type": "stream",
     "text": [
      "Train set: Loss=1.8729169368743896 Batch_id=781 Accuracy=71.64: 100%|██████████| 782/782 [00:20<00:00, 37.36it/s]\n",
      "  0%|          | 0/782 [00:00<?, ?it/s]"
     ]
    },
    {
     "name": "stdout",
     "output_type": "stream",
     "text": [
      "\n",
      "Test set: Average loss: 0.0100, Accuracy: 7768/10000 (77.68%)\n",
      "\n"
     ]
    },
    {
     "name": "stderr",
     "output_type": "stream",
     "text": [
      "Train set: Loss=1.1600559949874878 Batch_id=781 Accuracy=71.49: 100%|██████████| 782/782 [00:20<00:00, 38.27it/s]\n",
      "  0%|          | 0/782 [00:00<?, ?it/s]"
     ]
    },
    {
     "name": "stdout",
     "output_type": "stream",
     "text": [
      "\n",
      "Test set: Average loss: 0.0102, Accuracy: 7752/10000 (77.52%)\n",
      "\n"
     ]
    },
    {
     "name": "stderr",
     "output_type": "stream",
     "text": [
      "Train set: Loss=1.187634825706482 Batch_id=781 Accuracy=71.51: 100%|██████████| 782/782 [00:20<00:00, 37.52it/s]\n",
      "  0%|          | 0/782 [00:00<?, ?it/s]"
     ]
    },
    {
     "name": "stdout",
     "output_type": "stream",
     "text": [
      "\n",
      "Test set: Average loss: 0.0097, Accuracy: 7848/10000 (78.48%)\n",
      "\n"
     ]
    },
    {
     "name": "stderr",
     "output_type": "stream",
     "text": [
      "Train set: Loss=1.6319713592529297 Batch_id=781 Accuracy=71.95: 100%|██████████| 782/782 [00:21<00:00, 37.23it/s]\n",
      "  0%|          | 0/782 [00:00<?, ?it/s]"
     ]
    },
    {
     "name": "stdout",
     "output_type": "stream",
     "text": [
      "\n",
      "Test set: Average loss: 0.0107, Accuracy: 7609/10000 (76.09%)\n",
      "\n"
     ]
    },
    {
     "name": "stderr",
     "output_type": "stream",
     "text": [
      "Train set: Loss=1.2505894899368286 Batch_id=781 Accuracy=71.92: 100%|██████████| 782/782 [00:20<00:00, 37.95it/s]\n",
      "  0%|          | 0/782 [00:00<?, ?it/s]"
     ]
    },
    {
     "name": "stdout",
     "output_type": "stream",
     "text": [
      "\n",
      "Test set: Average loss: 0.0100, Accuracy: 7775/10000 (77.75%)\n",
      "\n"
     ]
    },
    {
     "name": "stderr",
     "output_type": "stream",
     "text": [
      "Train set: Loss=1.2468087673187256 Batch_id=781 Accuracy=72.25: 100%|██████████| 782/782 [00:20<00:00, 37.52it/s]\n",
      "  0%|          | 0/782 [00:00<?, ?it/s]"
     ]
    },
    {
     "name": "stdout",
     "output_type": "stream",
     "text": [
      "\n",
      "Test set: Average loss: 0.0097, Accuracy: 7830/10000 (78.30%)\n",
      "\n"
     ]
    },
    {
     "name": "stderr",
     "output_type": "stream",
     "text": [
      "Train set: Loss=1.9286975860595703 Batch_id=781 Accuracy=72.09: 100%|██████████| 782/782 [00:20<00:00, 37.92it/s]\n",
      "  0%|          | 0/782 [00:00<?, ?it/s]"
     ]
    },
    {
     "name": "stdout",
     "output_type": "stream",
     "text": [
      "\n",
      "Test set: Average loss: 0.0092, Accuracy: 7945/10000 (79.45%)\n",
      "\n"
     ]
    },
    {
     "name": "stderr",
     "output_type": "stream",
     "text": [
      "Train set: Loss=0.9887507557868958 Batch_id=781 Accuracy=72.63: 100%|██████████| 782/782 [00:20<00:00, 37.60it/s]\n",
      "  0%|          | 0/782 [00:00<?, ?it/s]"
     ]
    },
    {
     "name": "stdout",
     "output_type": "stream",
     "text": [
      "\n",
      "Test set: Average loss: 0.0098, Accuracy: 7855/10000 (78.55%)\n",
      "\n"
     ]
    },
    {
     "name": "stderr",
     "output_type": "stream",
     "text": [
      "Train set: Loss=1.2619894742965698 Batch_id=781 Accuracy=72.52: 100%|██████████| 782/782 [00:20<00:00, 37.45it/s]\n",
      "  0%|          | 0/782 [00:00<?, ?it/s]"
     ]
    },
    {
     "name": "stdout",
     "output_type": "stream",
     "text": [
      "\n",
      "Test set: Average loss: 0.0088, Accuracy: 8094/10000 (80.94%)\n",
      "\n"
     ]
    },
    {
     "name": "stderr",
     "output_type": "stream",
     "text": [
      "Train set: Loss=1.1391055583953857 Batch_id=781 Accuracy=72.76: 100%|██████████| 782/782 [00:20<00:00, 37.88it/s]\n",
      "  0%|          | 0/782 [00:00<?, ?it/s]"
     ]
    },
    {
     "name": "stdout",
     "output_type": "stream",
     "text": [
      "\n",
      "Test set: Average loss: 0.0094, Accuracy: 7932/10000 (79.32%)\n",
      "\n"
     ]
    },
    {
     "name": "stderr",
     "output_type": "stream",
     "text": [
      "Train set: Loss=1.475496530532837 Batch_id=781 Accuracy=73.00: 100%|██████████| 782/782 [00:20<00:00, 37.64it/s]\n",
      "  0%|          | 0/782 [00:00<?, ?it/s]"
     ]
    },
    {
     "name": "stdout",
     "output_type": "stream",
     "text": [
      "\n",
      "Test set: Average loss: 0.0093, Accuracy: 7966/10000 (79.66%)\n",
      "\n"
     ]
    },
    {
     "name": "stderr",
     "output_type": "stream",
     "text": [
      "Train set: Loss=1.4451916217803955 Batch_id=781 Accuracy=72.92: 100%|██████████| 782/782 [00:20<00:00, 38.15it/s]\n",
      "  0%|          | 0/782 [00:00<?, ?it/s]"
     ]
    },
    {
     "name": "stdout",
     "output_type": "stream",
     "text": [
      "\n",
      "Test set: Average loss: 0.0091, Accuracy: 7976/10000 (79.76%)\n",
      "\n"
     ]
    },
    {
     "name": "stderr",
     "output_type": "stream",
     "text": [
      "Train set: Loss=1.0219553709030151 Batch_id=781 Accuracy=73.36: 100%|██████████| 782/782 [00:20<00:00, 37.74it/s]\n",
      "  0%|          | 0/782 [00:00<?, ?it/s]"
     ]
    },
    {
     "name": "stdout",
     "output_type": "stream",
     "text": [
      "\n",
      "Test set: Average loss: 0.0096, Accuracy: 7851/10000 (78.51%)\n",
      "\n"
     ]
    },
    {
     "name": "stderr",
     "output_type": "stream",
     "text": [
      "Train set: Loss=1.7080495357513428 Batch_id=781 Accuracy=73.36: 100%|██████████| 782/782 [00:21<00:00, 36.98it/s]\n",
      "  0%|          | 0/782 [00:00<?, ?it/s]"
     ]
    },
    {
     "name": "stdout",
     "output_type": "stream",
     "text": [
      "\n",
      "Test set: Average loss: 0.0089, Accuracy: 8039/10000 (80.39%)\n",
      "\n"
     ]
    },
    {
     "name": "stderr",
     "output_type": "stream",
     "text": [
      "Train set: Loss=1.0819733142852783 Batch_id=781 Accuracy=73.56: 100%|██████████| 782/782 [00:20<00:00, 37.77it/s]\n"
     ]
    },
    {
     "name": "stdout",
     "output_type": "stream",
     "text": [
      "\n",
      "Test set: Average loss: 0.0087, Accuracy: 8071/10000 (80.71%)\n",
      "\n"
     ]
    }
   ],
   "source": [
    "# (train_loss, train_acc, test_loss, test_acc) = trainer.train_model(epochs=args.epochs, lambda_l1=0.0001)\n",
    "(train_loss, train_acc, test_loss, test_acc) = trainer.train_model(epochs=args.epochs, lambda_l1=0.0001)"
   ]
  },
  {
   "cell_type": "code",
   "execution_count": 16,
   "metadata": {
    "colab": {
     "base_uri": "https://localhost:8080/",
     "height": 1000
    },
    "id": "Y_Ix4vYPO6b5",
    "outputId": "0f309b9f-6d36-488b-f6a4-4f59bb0fe01d"
   },
   "outputs": [
    {
     "name": "stderr",
     "output_type": "stream",
     "text": [
      "Train set: Loss=1.237134575843811 Batch_id=781 Accuracy=73.52: 100%|██████████| 782/782 [00:20<00:00, 38.15it/s]\n",
      "  0%|          | 0/782 [00:00<?, ?it/s]"
     ]
    },
    {
     "name": "stdout",
     "output_type": "stream",
     "text": [
      "\n",
      "Test set: Average loss: 0.0099, Accuracy: 7787/10000 (77.87%)\n",
      "\n"
     ]
    },
    {
     "name": "stderr",
     "output_type": "stream",
     "text": [
      "Train set: Loss=1.1544342041015625 Batch_id=781 Accuracy=73.70: 100%|██████████| 782/782 [00:20<00:00, 38.18it/s]\n",
      "  0%|          | 0/782 [00:00<?, ?it/s]"
     ]
    },
    {
     "name": "stdout",
     "output_type": "stream",
     "text": [
      "\n",
      "Test set: Average loss: 0.0085, Accuracy: 8126/10000 (81.26%)\n",
      "\n"
     ]
    },
    {
     "name": "stderr",
     "output_type": "stream",
     "text": [
      "Train set: Loss=0.941901683807373 Batch_id=781 Accuracy=73.88: 100%|██████████| 782/782 [00:20<00:00, 37.87it/s]\n",
      "  0%|          | 0/782 [00:00<?, ?it/s]"
     ]
    },
    {
     "name": "stdout",
     "output_type": "stream",
     "text": [
      "\n",
      "Test set: Average loss: 0.0087, Accuracy: 8064/10000 (80.64%)\n",
      "\n"
     ]
    },
    {
     "name": "stderr",
     "output_type": "stream",
     "text": [
      "Train set: Loss=0.8429426550865173 Batch_id=781 Accuracy=74.00: 100%|██████████| 782/782 [00:20<00:00, 38.11it/s]\n",
      "  0%|          | 0/782 [00:00<?, ?it/s]"
     ]
    },
    {
     "name": "stdout",
     "output_type": "stream",
     "text": [
      "\n",
      "Test set: Average loss: 0.0092, Accuracy: 7984/10000 (79.84%)\n",
      "\n"
     ]
    },
    {
     "name": "stderr",
     "output_type": "stream",
     "text": [
      "Train set: Loss=1.0047162771224976 Batch_id=781 Accuracy=74.08: 100%|██████████| 782/782 [00:20<00:00, 37.64it/s]\n",
      "  0%|          | 0/782 [00:00<?, ?it/s]"
     ]
    },
    {
     "name": "stdout",
     "output_type": "stream",
     "text": [
      "\n",
      "Test set: Average loss: 0.0086, Accuracy: 8091/10000 (80.91%)\n",
      "\n"
     ]
    },
    {
     "name": "stderr",
     "output_type": "stream",
     "text": [
      "Train set: Loss=1.4934473037719727 Batch_id=781 Accuracy=74.32: 100%|██████████| 782/782 [00:20<00:00, 38.02it/s]\n",
      "  0%|          | 0/782 [00:00<?, ?it/s]"
     ]
    },
    {
     "name": "stdout",
     "output_type": "stream",
     "text": [
      "\n",
      "Test set: Average loss: 0.0089, Accuracy: 8065/10000 (80.65%)\n",
      "\n"
     ]
    },
    {
     "name": "stderr",
     "output_type": "stream",
     "text": [
      "Train set: Loss=1.1220074892044067 Batch_id=781 Accuracy=74.12: 100%|██████████| 782/782 [00:20<00:00, 38.32it/s]\n",
      "  0%|          | 0/782 [00:00<?, ?it/s]"
     ]
    },
    {
     "name": "stdout",
     "output_type": "stream",
     "text": [
      "\n",
      "Test set: Average loss: 0.0089, Accuracy: 8023/10000 (80.23%)\n",
      "\n"
     ]
    },
    {
     "name": "stderr",
     "output_type": "stream",
     "text": [
      "Train set: Loss=1.0956218242645264 Batch_id=781 Accuracy=74.60: 100%|██████████| 782/782 [00:20<00:00, 38.14it/s]\n",
      "  0%|          | 0/782 [00:00<?, ?it/s]"
     ]
    },
    {
     "name": "stdout",
     "output_type": "stream",
     "text": [
      "\n",
      "Test set: Average loss: 0.0084, Accuracy: 8158/10000 (81.58%)\n",
      "\n"
     ]
    },
    {
     "name": "stderr",
     "output_type": "stream",
     "text": [
      "Train set: Loss=1.6200053691864014 Batch_id=781 Accuracy=74.40: 100%|██████████| 782/782 [00:20<00:00, 37.93it/s]\n",
      "  0%|          | 0/782 [00:00<?, ?it/s]"
     ]
    },
    {
     "name": "stdout",
     "output_type": "stream",
     "text": [
      "\n",
      "Test set: Average loss: 0.0085, Accuracy: 8137/10000 (81.37%)\n",
      "\n"
     ]
    },
    {
     "name": "stderr",
     "output_type": "stream",
     "text": [
      "Train set: Loss=1.6915950775146484 Batch_id=781 Accuracy=74.39: 100%|██████████| 782/782 [00:20<00:00, 37.87it/s]\n",
      "  0%|          | 0/782 [00:00<?, ?it/s]"
     ]
    },
    {
     "name": "stdout",
     "output_type": "stream",
     "text": [
      "\n",
      "Test set: Average loss: 0.0086, Accuracy: 8084/10000 (80.84%)\n",
      "\n"
     ]
    },
    {
     "name": "stderr",
     "output_type": "stream",
     "text": [
      "Train set: Loss=1.3872849941253662 Batch_id=781 Accuracy=74.50: 100%|██████████| 782/782 [00:20<00:00, 37.75it/s]\n",
      "  0%|          | 0/782 [00:00<?, ?it/s]"
     ]
    },
    {
     "name": "stdout",
     "output_type": "stream",
     "text": [
      "\n",
      "Test set: Average loss: 0.0084, Accuracy: 8149/10000 (81.49%)\n",
      "\n"
     ]
    },
    {
     "name": "stderr",
     "output_type": "stream",
     "text": [
      "Train set: Loss=0.8710308074951172 Batch_id=781 Accuracy=74.49: 100%|██████████| 782/782 [00:20<00:00, 37.58it/s]\n",
      "  0%|          | 0/782 [00:00<?, ?it/s]"
     ]
    },
    {
     "name": "stdout",
     "output_type": "stream",
     "text": [
      "\n",
      "Test set: Average loss: 0.0084, Accuracy: 8142/10000 (81.42%)\n",
      "\n"
     ]
    },
    {
     "name": "stderr",
     "output_type": "stream",
     "text": [
      "Train set: Loss=1.1761763095855713 Batch_id=781 Accuracy=74.89: 100%|██████████| 782/782 [00:20<00:00, 37.47it/s]\n",
      "  0%|          | 0/782 [00:00<?, ?it/s]"
     ]
    },
    {
     "name": "stdout",
     "output_type": "stream",
     "text": [
      "\n",
      "Test set: Average loss: 0.0085, Accuracy: 8106/10000 (81.06%)\n",
      "\n"
     ]
    },
    {
     "name": "stderr",
     "output_type": "stream",
     "text": [
      "Train set: Loss=1.0210959911346436 Batch_id=781 Accuracy=74.98: 100%|██████████| 782/782 [00:20<00:00, 37.68it/s]\n",
      "  0%|          | 0/782 [00:00<?, ?it/s]"
     ]
    },
    {
     "name": "stdout",
     "output_type": "stream",
     "text": [
      "\n",
      "Test set: Average loss: 0.0083, Accuracy: 8124/10000 (81.24%)\n",
      "\n"
     ]
    },
    {
     "name": "stderr",
     "output_type": "stream",
     "text": [
      "Train set: Loss=0.505698561668396 Batch_id=781 Accuracy=75.14: 100%|██████████| 782/782 [00:20<00:00, 38.14it/s]\n",
      "  0%|          | 0/782 [00:00<?, ?it/s]"
     ]
    },
    {
     "name": "stdout",
     "output_type": "stream",
     "text": [
      "\n",
      "Test set: Average loss: 0.0086, Accuracy: 8088/10000 (80.88%)\n",
      "\n"
     ]
    },
    {
     "name": "stderr",
     "output_type": "stream",
     "text": [
      "Train set: Loss=0.9126601219177246 Batch_id=781 Accuracy=74.87: 100%|██████████| 782/782 [00:20<00:00, 37.40it/s]\n",
      "  0%|          | 0/782 [00:00<?, ?it/s]"
     ]
    },
    {
     "name": "stdout",
     "output_type": "stream",
     "text": [
      "\n",
      "Test set: Average loss: 0.0083, Accuracy: 8192/10000 (81.92%)\n",
      "\n"
     ]
    },
    {
     "name": "stderr",
     "output_type": "stream",
     "text": [
      "Train set: Loss=1.2152016162872314 Batch_id=781 Accuracy=75.28: 100%|██████████| 782/782 [00:20<00:00, 37.75it/s]\n",
      "  0%|          | 0/782 [00:00<?, ?it/s]"
     ]
    },
    {
     "name": "stdout",
     "output_type": "stream",
     "text": [
      "\n",
      "Test set: Average loss: 0.0085, Accuracy: 8117/10000 (81.17%)\n",
      "\n"
     ]
    },
    {
     "name": "stderr",
     "output_type": "stream",
     "text": [
      "Train set: Loss=0.6245834827423096 Batch_id=781 Accuracy=75.27: 100%|██████████| 782/782 [00:21<00:00, 37.03it/s]\n",
      "  0%|          | 0/782 [00:00<?, ?it/s]"
     ]
    },
    {
     "name": "stdout",
     "output_type": "stream",
     "text": [
      "\n",
      "Test set: Average loss: 0.0088, Accuracy: 8045/10000 (80.45%)\n",
      "\n"
     ]
    },
    {
     "name": "stderr",
     "output_type": "stream",
     "text": [
      "Train set: Loss=0.8357681035995483 Batch_id=781 Accuracy=75.41: 100%|██████████| 782/782 [00:20<00:00, 37.60it/s]\n",
      "  0%|          | 0/782 [00:00<?, ?it/s]"
     ]
    },
    {
     "name": "stdout",
     "output_type": "stream",
     "text": [
      "\n",
      "Test set: Average loss: 0.0078, Accuracy: 8289/10000 (82.89%)\n",
      "\n"
     ]
    },
    {
     "name": "stderr",
     "output_type": "stream",
     "text": [
      "Train set: Loss=1.1960835456848145 Batch_id=781 Accuracy=75.63: 100%|██████████| 782/782 [00:20<00:00, 37.80it/s]\n",
      "  0%|          | 0/782 [00:00<?, ?it/s]"
     ]
    },
    {
     "name": "stdout",
     "output_type": "stream",
     "text": [
      "\n",
      "Test set: Average loss: 0.0082, Accuracy: 8185/10000 (81.85%)\n",
      "\n"
     ]
    },
    {
     "name": "stderr",
     "output_type": "stream",
     "text": [
      "Train set: Loss=1.4804625511169434 Batch_id=781 Accuracy=75.44: 100%|██████████| 782/782 [00:20<00:00, 37.96it/s]\n",
      "  0%|          | 0/782 [00:00<?, ?it/s]"
     ]
    },
    {
     "name": "stdout",
     "output_type": "stream",
     "text": [
      "\n",
      "Test set: Average loss: 0.0089, Accuracy: 8057/10000 (80.57%)\n",
      "\n"
     ]
    },
    {
     "name": "stderr",
     "output_type": "stream",
     "text": [
      "Train set: Loss=1.0623972415924072 Batch_id=781 Accuracy=75.48: 100%|██████████| 782/782 [00:20<00:00, 37.92it/s]\n",
      "  0%|          | 0/782 [00:00<?, ?it/s]"
     ]
    },
    {
     "name": "stdout",
     "output_type": "stream",
     "text": [
      "\n",
      "Test set: Average loss: 0.0082, Accuracy: 8165/10000 (81.65%)\n",
      "\n"
     ]
    },
    {
     "name": "stderr",
     "output_type": "stream",
     "text": [
      "Train set: Loss=1.238727331161499 Batch_id=781 Accuracy=75.65: 100%|██████████| 782/782 [00:20<00:00, 37.51it/s]\n",
      "  0%|          | 0/782 [00:00<?, ?it/s]"
     ]
    },
    {
     "name": "stdout",
     "output_type": "stream",
     "text": [
      "\n",
      "Test set: Average loss: 0.0085, Accuracy: 8123/10000 (81.23%)\n",
      "\n"
     ]
    },
    {
     "name": "stderr",
     "output_type": "stream",
     "text": [
      "Train set: Loss=1.3380318880081177 Batch_id=781 Accuracy=75.57: 100%|██████████| 782/782 [00:21<00:00, 36.98it/s]\n",
      "  0%|          | 0/782 [00:00<?, ?it/s]"
     ]
    },
    {
     "name": "stdout",
     "output_type": "stream",
     "text": [
      "\n",
      "Test set: Average loss: 0.0081, Accuracy: 8228/10000 (82.28%)\n",
      "\n"
     ]
    },
    {
     "name": "stderr",
     "output_type": "stream",
     "text": [
      "Train set: Loss=1.0717291831970215 Batch_id=781 Accuracy=75.59: 100%|██████████| 782/782 [00:20<00:00, 37.58it/s]\n"
     ]
    },
    {
     "name": "stdout",
     "output_type": "stream",
     "text": [
      "\n",
      "Test set: Average loss: 0.0079, Accuracy: 8264/10000 (82.64%)\n",
      "\n"
     ]
    }
   ],
   "source": [
    "(train_loss, train_acc, test_loss, test_acc) = trainer.train_model(epochs=25, lambda_l1=0.0001)"
   ]
  },
  {
   "cell_type": "code",
   "execution_count": 28,
   "metadata": {
    "colab": {
     "base_uri": "https://localhost:8080/",
     "height": 1000
    },
    "id": "Zwv9VX-uZfnW",
    "outputId": "4add1886-274a-470c-e9ed-918e466b954a"
   },
   "outputs": [
    {
     "name": "stderr",
     "output_type": "stream",
     "text": [
      "Train set: Loss=1.440110206604004 Batch_id=781 Accuracy=75.87: 100%|██████████| 782/782 [00:21<00:00, 37.04it/s]\n",
      "  0%|          | 0/782 [00:00<?, ?it/s]"
     ]
    },
    {
     "name": "stdout",
     "output_type": "stream",
     "text": [
      "\n",
      "Test set: Average loss: 0.0091, Accuracy: 8008/10000 (80.08%)\n",
      "\n"
     ]
    },
    {
     "name": "stderr",
     "output_type": "stream",
     "text": [
      "Train set: Loss=0.9875909686088562 Batch_id=781 Accuracy=75.81: 100%|██████████| 782/782 [00:21<00:00, 37.14it/s]\n",
      "  0%|          | 0/782 [00:00<?, ?it/s]"
     ]
    },
    {
     "name": "stdout",
     "output_type": "stream",
     "text": [
      "\n",
      "Test set: Average loss: 0.0082, Accuracy: 8161/10000 (81.61%)\n",
      "\n"
     ]
    },
    {
     "name": "stderr",
     "output_type": "stream",
     "text": [
      "Train set: Loss=1.0090293884277344 Batch_id=781 Accuracy=75.92: 100%|██████████| 782/782 [00:21<00:00, 37.00it/s]\n",
      "  0%|          | 0/782 [00:00<?, ?it/s]"
     ]
    },
    {
     "name": "stdout",
     "output_type": "stream",
     "text": [
      "\n",
      "Test set: Average loss: 0.0083, Accuracy: 8190/10000 (81.90%)\n",
      "\n"
     ]
    },
    {
     "name": "stderr",
     "output_type": "stream",
     "text": [
      "Train set: Loss=0.8793152570724487 Batch_id=781 Accuracy=76.09: 100%|██████████| 782/782 [00:21<00:00, 37.22it/s]\n",
      "  0%|          | 0/782 [00:00<?, ?it/s]"
     ]
    },
    {
     "name": "stdout",
     "output_type": "stream",
     "text": [
      "\n",
      "Test set: Average loss: 0.0078, Accuracy: 8248/10000 (82.48%)\n",
      "\n"
     ]
    },
    {
     "name": "stderr",
     "output_type": "stream",
     "text": [
      "Train set: Loss=0.5991232991218567 Batch_id=781 Accuracy=76.39: 100%|██████████| 782/782 [00:21<00:00, 37.19it/s]\n",
      "  0%|          | 0/782 [00:00<?, ?it/s]"
     ]
    },
    {
     "name": "stdout",
     "output_type": "stream",
     "text": [
      "\n",
      "Test set: Average loss: 0.0081, Accuracy: 8203/10000 (82.03%)\n",
      "\n"
     ]
    },
    {
     "name": "stderr",
     "output_type": "stream",
     "text": [
      "Train set: Loss=1.1947484016418457 Batch_id=781 Accuracy=76.17: 100%|██████████| 782/782 [00:21<00:00, 36.73it/s]\n",
      "  0%|          | 0/782 [00:00<?, ?it/s]"
     ]
    },
    {
     "name": "stdout",
     "output_type": "stream",
     "text": [
      "\n",
      "Test set: Average loss: 0.0085, Accuracy: 8108/10000 (81.08%)\n",
      "\n"
     ]
    },
    {
     "name": "stderr",
     "output_type": "stream",
     "text": [
      "Train set: Loss=0.8813806176185608 Batch_id=781 Accuracy=76.32: 100%|██████████| 782/782 [00:21<00:00, 37.18it/s]\n",
      "  0%|          | 0/782 [00:00<?, ?it/s]"
     ]
    },
    {
     "name": "stdout",
     "output_type": "stream",
     "text": [
      "\n",
      "Test set: Average loss: 0.0080, Accuracy: 8245/10000 (82.45%)\n",
      "\n"
     ]
    },
    {
     "name": "stderr",
     "output_type": "stream",
     "text": [
      "Train set: Loss=1.2352371215820312 Batch_id=781 Accuracy=76.22: 100%|██████████| 782/782 [00:21<00:00, 37.18it/s]\n",
      "  0%|          | 0/782 [00:00<?, ?it/s]"
     ]
    },
    {
     "name": "stdout",
     "output_type": "stream",
     "text": [
      "\n",
      "Test set: Average loss: 0.0076, Accuracy: 8339/10000 (83.39%)\n",
      "\n"
     ]
    },
    {
     "name": "stderr",
     "output_type": "stream",
     "text": [
      "Train set: Loss=0.9750810861587524 Batch_id=781 Accuracy=76.24: 100%|██████████| 782/782 [00:21<00:00, 37.19it/s]\n",
      "  0%|          | 0/782 [00:00<?, ?it/s]"
     ]
    },
    {
     "name": "stdout",
     "output_type": "stream",
     "text": [
      "\n",
      "Test set: Average loss: 0.0081, Accuracy: 8227/10000 (82.27%)\n",
      "\n"
     ]
    },
    {
     "name": "stderr",
     "output_type": "stream",
     "text": [
      "Train set: Loss=1.55037260055542 Batch_id=781 Accuracy=76.42: 100%|██████████| 782/782 [00:21<00:00, 36.99it/s]\n",
      "  0%|          | 0/782 [00:00<?, ?it/s]"
     ]
    },
    {
     "name": "stdout",
     "output_type": "stream",
     "text": [
      "\n",
      "Test set: Average loss: 0.0084, Accuracy: 8172/10000 (81.72%)\n",
      "\n"
     ]
    },
    {
     "name": "stderr",
     "output_type": "stream",
     "text": [
      "Train set: Loss=0.8782303333282471 Batch_id=781 Accuracy=76.30: 100%|██████████| 782/782 [00:21<00:00, 36.69it/s]\n",
      "  0%|          | 0/782 [00:00<?, ?it/s]"
     ]
    },
    {
     "name": "stdout",
     "output_type": "stream",
     "text": [
      "\n",
      "Test set: Average loss: 0.0077, Accuracy: 8291/10000 (82.91%)\n",
      "\n"
     ]
    },
    {
     "name": "stderr",
     "output_type": "stream",
     "text": [
      "Train set: Loss=1.0770564079284668 Batch_id=781 Accuracy=76.80: 100%|██████████| 782/782 [00:21<00:00, 36.38it/s]\n",
      "  0%|          | 0/782 [00:00<?, ?it/s]"
     ]
    },
    {
     "name": "stdout",
     "output_type": "stream",
     "text": [
      "\n",
      "Test set: Average loss: 0.0077, Accuracy: 8315/10000 (83.15%)\n",
      "\n"
     ]
    },
    {
     "name": "stderr",
     "output_type": "stream",
     "text": [
      "Train set: Loss=0.8867902755737305 Batch_id=781 Accuracy=76.79: 100%|██████████| 782/782 [00:21<00:00, 36.59it/s]\n",
      "  0%|          | 0/782 [00:00<?, ?it/s]"
     ]
    },
    {
     "name": "stdout",
     "output_type": "stream",
     "text": [
      "\n",
      "Test set: Average loss: 0.0073, Accuracy: 8400/10000 (84.00%)\n",
      "\n"
     ]
    },
    {
     "name": "stderr",
     "output_type": "stream",
     "text": [
      "Train set: Loss=1.2487671375274658 Batch_id=781 Accuracy=76.46: 100%|██████████| 782/782 [00:21<00:00, 36.52it/s]\n",
      "  0%|          | 0/782 [00:00<?, ?it/s]"
     ]
    },
    {
     "name": "stdout",
     "output_type": "stream",
     "text": [
      "\n",
      "Test set: Average loss: 0.0083, Accuracy: 8197/10000 (81.97%)\n",
      "\n"
     ]
    },
    {
     "name": "stderr",
     "output_type": "stream",
     "text": [
      "Train set: Loss=1.1703338623046875 Batch_id=781 Accuracy=76.46: 100%|██████████| 782/782 [00:21<00:00, 36.84it/s]\n",
      "  0%|          | 0/782 [00:00<?, ?it/s]"
     ]
    },
    {
     "name": "stdout",
     "output_type": "stream",
     "text": [
      "\n",
      "Test set: Average loss: 0.0075, Accuracy: 8354/10000 (83.54%)\n",
      "\n"
     ]
    },
    {
     "name": "stderr",
     "output_type": "stream",
     "text": [
      "Train set: Loss=0.8071914315223694 Batch_id=781 Accuracy=77.00: 100%|██████████| 782/782 [00:21<00:00, 36.77it/s]\n",
      "  0%|          | 0/782 [00:00<?, ?it/s]"
     ]
    },
    {
     "name": "stdout",
     "output_type": "stream",
     "text": [
      "\n",
      "Test set: Average loss: 0.0074, Accuracy: 8350/10000 (83.50%)\n",
      "\n"
     ]
    },
    {
     "name": "stderr",
     "output_type": "stream",
     "text": [
      "Train set: Loss=0.9424532055854797 Batch_id=781 Accuracy=76.97: 100%|██████████| 782/782 [00:21<00:00, 36.71it/s]\n",
      "  0%|          | 0/782 [00:00<?, ?it/s]"
     ]
    },
    {
     "name": "stdout",
     "output_type": "stream",
     "text": [
      "\n",
      "Test set: Average loss: 0.0074, Accuracy: 8325/10000 (83.25%)\n",
      "\n"
     ]
    },
    {
     "name": "stderr",
     "output_type": "stream",
     "text": [
      "Train set: Loss=1.1468751430511475 Batch_id=781 Accuracy=76.64: 100%|██████████| 782/782 [00:21<00:00, 36.50it/s]\n",
      "  0%|          | 0/782 [00:00<?, ?it/s]"
     ]
    },
    {
     "name": "stdout",
     "output_type": "stream",
     "text": [
      "\n",
      "Test set: Average loss: 0.0074, Accuracy: 8390/10000 (83.90%)\n",
      "\n"
     ]
    },
    {
     "name": "stderr",
     "output_type": "stream",
     "text": [
      "Train set: Loss=0.7076010704040527 Batch_id=781 Accuracy=76.94: 100%|██████████| 782/782 [00:21<00:00, 37.04it/s]\n",
      "  0%|          | 0/782 [00:00<?, ?it/s]"
     ]
    },
    {
     "name": "stdout",
     "output_type": "stream",
     "text": [
      "\n",
      "Test set: Average loss: 0.0073, Accuracy: 8396/10000 (83.96%)\n",
      "\n"
     ]
    },
    {
     "name": "stderr",
     "output_type": "stream",
     "text": [
      "Train set: Loss=1.2207133769989014 Batch_id=781 Accuracy=76.97: 100%|██████████| 782/782 [00:21<00:00, 36.19it/s]\n",
      "  0%|          | 0/782 [00:00<?, ?it/s]"
     ]
    },
    {
     "name": "stdout",
     "output_type": "stream",
     "text": [
      "\n",
      "Test set: Average loss: 0.0081, Accuracy: 8196/10000 (81.96%)\n",
      "\n"
     ]
    },
    {
     "name": "stderr",
     "output_type": "stream",
     "text": [
      "Train set: Loss=1.0282292366027832 Batch_id=781 Accuracy=77.03: 100%|██████████| 782/782 [00:21<00:00, 36.97it/s]\n",
      "  0%|          | 0/782 [00:00<?, ?it/s]"
     ]
    },
    {
     "name": "stdout",
     "output_type": "stream",
     "text": [
      "\n",
      "Test set: Average loss: 0.0074, Accuracy: 8381/10000 (83.81%)\n",
      "\n"
     ]
    },
    {
     "name": "stderr",
     "output_type": "stream",
     "text": [
      "Train set: Loss=1.0377411842346191 Batch_id=781 Accuracy=76.85: 100%|██████████| 782/782 [00:21<00:00, 36.72it/s]\n",
      "  0%|          | 0/782 [00:00<?, ?it/s]"
     ]
    },
    {
     "name": "stdout",
     "output_type": "stream",
     "text": [
      "\n",
      "Test set: Average loss: 0.0074, Accuracy: 8395/10000 (83.95%)\n",
      "\n"
     ]
    },
    {
     "name": "stderr",
     "output_type": "stream",
     "text": [
      "Train set: Loss=1.0343390703201294 Batch_id=781 Accuracy=77.02: 100%|██████████| 782/782 [00:21<00:00, 36.08it/s]\n",
      "  0%|          | 0/782 [00:00<?, ?it/s]"
     ]
    },
    {
     "name": "stdout",
     "output_type": "stream",
     "text": [
      "\n",
      "Test set: Average loss: 0.0074, Accuracy: 8348/10000 (83.48%)\n",
      "\n"
     ]
    },
    {
     "name": "stderr",
     "output_type": "stream",
     "text": [
      "Train set: Loss=1.1401947736740112 Batch_id=781 Accuracy=77.19: 100%|██████████| 782/782 [00:21<00:00, 36.46it/s]\n",
      "  0%|          | 0/782 [00:00<?, ?it/s]"
     ]
    },
    {
     "name": "stdout",
     "output_type": "stream",
     "text": [
      "\n",
      "Test set: Average loss: 0.0074, Accuracy: 8372/10000 (83.72%)\n",
      "\n"
     ]
    },
    {
     "name": "stderr",
     "output_type": "stream",
     "text": [
      "Train set: Loss=1.270491123199463 Batch_id=781 Accuracy=76.95: 100%|██████████| 782/782 [00:21<00:00, 36.88it/s]\n"
     ]
    },
    {
     "name": "stdout",
     "output_type": "stream",
     "text": [
      "\n",
      "Test set: Average loss: 0.0076, Accuracy: 8291/10000 (82.91%)\n",
      "\n"
     ]
    }
   ],
   "source": [
    "(train_loss, train_acc, test_loss, test_acc) = trainer.train_model(epochs=25, lambda_l1=0.0001)"
   ]
  },
  {
   "cell_type": "code",
   "execution_count": 40,
   "metadata": {
    "colab": {
     "base_uri": "https://localhost:8080/",
     "height": 1000
    },
    "id": "oN6JAECXrdbM",
    "outputId": "8dbc9ea8-acb0-4e1f-b6df-c367eb772298"
   },
   "outputs": [
    {
     "name": "stderr",
     "output_type": "stream",
     "text": [
      "Train set: Loss=1.1751238107681274 Batch_id=781 Accuracy=77.52: 100%|██████████| 782/782 [00:21<00:00, 36.37it/s]\n",
      "  0%|          | 0/782 [00:00<?, ?it/s]"
     ]
    },
    {
     "name": "stdout",
     "output_type": "stream",
     "text": [
      "\n",
      "Test set: Average loss: 0.0074, Accuracy: 8349/10000 (83.49%)\n",
      "\n"
     ]
    },
    {
     "name": "stderr",
     "output_type": "stream",
     "text": [
      "Train set: Loss=0.9243988394737244 Batch_id=781 Accuracy=77.30: 100%|██████████| 782/782 [00:21<00:00, 36.90it/s]\n",
      "  0%|          | 0/782 [00:00<?, ?it/s]"
     ]
    },
    {
     "name": "stdout",
     "output_type": "stream",
     "text": [
      "\n",
      "Test set: Average loss: 0.0081, Accuracy: 8199/10000 (81.99%)\n",
      "\n"
     ]
    },
    {
     "name": "stderr",
     "output_type": "stream",
     "text": [
      "Train set: Loss=1.510205626487732 Batch_id=781 Accuracy=77.31: 100%|██████████| 782/782 [00:21<00:00, 36.93it/s]\n",
      "  0%|          | 0/782 [00:00<?, ?it/s]"
     ]
    },
    {
     "name": "stdout",
     "output_type": "stream",
     "text": [
      "\n",
      "Test set: Average loss: 0.0072, Accuracy: 8418/10000 (84.18%)\n",
      "\n"
     ]
    },
    {
     "name": "stderr",
     "output_type": "stream",
     "text": [
      "Train set: Loss=0.9173794984817505 Batch_id=781 Accuracy=77.20: 100%|██████████| 782/782 [00:21<00:00, 36.37it/s]\n",
      "  0%|          | 0/782 [00:00<?, ?it/s]"
     ]
    },
    {
     "name": "stdout",
     "output_type": "stream",
     "text": [
      "\n",
      "Test set: Average loss: 0.0077, Accuracy: 8350/10000 (83.50%)\n",
      "\n"
     ]
    },
    {
     "name": "stderr",
     "output_type": "stream",
     "text": [
      "Train set: Loss=1.2836776971817017 Batch_id=781 Accuracy=77.66: 100%|██████████| 782/782 [00:21<00:00, 37.08it/s]\n",
      "  0%|          | 0/782 [00:00<?, ?it/s]"
     ]
    },
    {
     "name": "stdout",
     "output_type": "stream",
     "text": [
      "\n",
      "Test set: Average loss: 0.0072, Accuracy: 8422/10000 (84.22%)\n",
      "\n"
     ]
    },
    {
     "name": "stderr",
     "output_type": "stream",
     "text": [
      "Train set: Loss=1.275047779083252 Batch_id=781 Accuracy=77.68: 100%|██████████| 782/782 [00:21<00:00, 36.42it/s]\n",
      "  0%|          | 0/782 [00:00<?, ?it/s]"
     ]
    },
    {
     "name": "stdout",
     "output_type": "stream",
     "text": [
      "\n",
      "Test set: Average loss: 0.0072, Accuracy: 8402/10000 (84.02%)\n",
      "\n"
     ]
    },
    {
     "name": "stderr",
     "output_type": "stream",
     "text": [
      "Train set: Loss=1.0820095539093018 Batch_id=781 Accuracy=77.53: 100%|██████████| 782/782 [00:21<00:00, 36.55it/s]\n",
      "  0%|          | 0/782 [00:00<?, ?it/s]"
     ]
    },
    {
     "name": "stdout",
     "output_type": "stream",
     "text": [
      "\n",
      "Test set: Average loss: 0.0073, Accuracy: 8409/10000 (84.09%)\n",
      "\n"
     ]
    },
    {
     "name": "stderr",
     "output_type": "stream",
     "text": [
      "Train set: Loss=0.946259617805481 Batch_id=781 Accuracy=77.71: 100%|██████████| 782/782 [00:21<00:00, 36.46it/s]\n",
      "  0%|          | 0/782 [00:00<?, ?it/s]"
     ]
    },
    {
     "name": "stdout",
     "output_type": "stream",
     "text": [
      "\n",
      "Test set: Average loss: 0.0071, Accuracy: 8467/10000 (84.67%)\n",
      "\n"
     ]
    },
    {
     "name": "stderr",
     "output_type": "stream",
     "text": [
      "Train set: Loss=1.3023614883422852 Batch_id=781 Accuracy=77.73: 100%|██████████| 782/782 [00:21<00:00, 36.61it/s]\n",
      "  0%|          | 0/782 [00:00<?, ?it/s]"
     ]
    },
    {
     "name": "stdout",
     "output_type": "stream",
     "text": [
      "\n",
      "Test set: Average loss: 0.0072, Accuracy: 8440/10000 (84.40%)\n",
      "\n"
     ]
    },
    {
     "name": "stderr",
     "output_type": "stream",
     "text": [
      "Train set: Loss=0.8699346780776978 Batch_id=781 Accuracy=77.58: 100%|██████████| 782/782 [00:21<00:00, 36.26it/s]\n",
      "  0%|          | 0/782 [00:00<?, ?it/s]"
     ]
    },
    {
     "name": "stdout",
     "output_type": "stream",
     "text": [
      "\n",
      "Test set: Average loss: 0.0072, Accuracy: 8413/10000 (84.13%)\n",
      "\n"
     ]
    },
    {
     "name": "stderr",
     "output_type": "stream",
     "text": [
      "Train set: Loss=1.2650389671325684 Batch_id=781 Accuracy=77.74: 100%|██████████| 782/782 [00:21<00:00, 35.62it/s]\n",
      "  0%|          | 0/782 [00:00<?, ?it/s]"
     ]
    },
    {
     "name": "stdout",
     "output_type": "stream",
     "text": [
      "\n",
      "Test set: Average loss: 0.0073, Accuracy: 8395/10000 (83.95%)\n",
      "\n"
     ]
    },
    {
     "name": "stderr",
     "output_type": "stream",
     "text": [
      "Train set: Loss=1.2771227359771729 Batch_id=781 Accuracy=77.65: 100%|██████████| 782/782 [00:21<00:00, 36.10it/s]\n",
      "  0%|          | 0/782 [00:00<?, ?it/s]"
     ]
    },
    {
     "name": "stdout",
     "output_type": "stream",
     "text": [
      "\n",
      "Test set: Average loss: 0.0072, Accuracy: 8465/10000 (84.65%)\n",
      "\n"
     ]
    },
    {
     "name": "stderr",
     "output_type": "stream",
     "text": [
      "Train set: Loss=0.9642968773841858 Batch_id=781 Accuracy=77.57: 100%|██████████| 782/782 [00:21<00:00, 36.41it/s]\n",
      "  0%|          | 0/782 [00:00<?, ?it/s]"
     ]
    },
    {
     "name": "stdout",
     "output_type": "stream",
     "text": [
      "\n",
      "Test set: Average loss: 0.0075, Accuracy: 8368/10000 (83.68%)\n",
      "\n"
     ]
    },
    {
     "name": "stderr",
     "output_type": "stream",
     "text": [
      "Train set: Loss=1.5559046268463135 Batch_id=781 Accuracy=77.84: 100%|██████████| 782/782 [00:21<00:00, 35.60it/s]\n",
      "  0%|          | 0/782 [00:00<?, ?it/s]"
     ]
    },
    {
     "name": "stdout",
     "output_type": "stream",
     "text": [
      "\n",
      "Test set: Average loss: 0.0076, Accuracy: 8326/10000 (83.26%)\n",
      "\n"
     ]
    },
    {
     "name": "stderr",
     "output_type": "stream",
     "text": [
      "Train set: Loss=0.6804823279380798 Batch_id=781 Accuracy=77.93: 100%|██████████| 782/782 [00:21<00:00, 36.28it/s]\n",
      "  0%|          | 0/782 [00:00<?, ?it/s]"
     ]
    },
    {
     "name": "stdout",
     "output_type": "stream",
     "text": [
      "\n",
      "Test set: Average loss: 0.0074, Accuracy: 8354/10000 (83.54%)\n",
      "\n"
     ]
    },
    {
     "name": "stderr",
     "output_type": "stream",
     "text": [
      "Train set: Loss=0.9280620813369751 Batch_id=781 Accuracy=78.15: 100%|██████████| 782/782 [00:21<00:00, 36.23it/s]\n",
      "  0%|          | 0/782 [00:00<?, ?it/s]"
     ]
    },
    {
     "name": "stdout",
     "output_type": "stream",
     "text": [
      "\n",
      "Test set: Average loss: 0.0071, Accuracy: 8484/10000 (84.84%)\n",
      "\n"
     ]
    },
    {
     "name": "stderr",
     "output_type": "stream",
     "text": [
      "Train set: Loss=1.0500586032867432 Batch_id=781 Accuracy=78.23: 100%|██████████| 782/782 [00:21<00:00, 36.14it/s]\n",
      "  0%|          | 0/782 [00:00<?, ?it/s]"
     ]
    },
    {
     "name": "stdout",
     "output_type": "stream",
     "text": [
      "\n",
      "Test set: Average loss: 0.0075, Accuracy: 8337/10000 (83.37%)\n",
      "\n"
     ]
    },
    {
     "name": "stderr",
     "output_type": "stream",
     "text": [
      "Train set: Loss=0.902798056602478 Batch_id=781 Accuracy=78.06: 100%|██████████| 782/782 [00:21<00:00, 36.06it/s]\n",
      "  0%|          | 0/782 [00:00<?, ?it/s]"
     ]
    },
    {
     "name": "stdout",
     "output_type": "stream",
     "text": [
      "\n",
      "Test set: Average loss: 0.0071, Accuracy: 8456/10000 (84.56%)\n",
      "\n"
     ]
    },
    {
     "name": "stderr",
     "output_type": "stream",
     "text": [
      "Train set: Loss=0.639917254447937 Batch_id=781 Accuracy=77.69: 100%|██████████| 782/782 [00:21<00:00, 36.06it/s]\n",
      "  0%|          | 0/782 [00:00<?, ?it/s]"
     ]
    },
    {
     "name": "stdout",
     "output_type": "stream",
     "text": [
      "\n",
      "Test set: Average loss: 0.0075, Accuracy: 8362/10000 (83.62%)\n",
      "\n"
     ]
    },
    {
     "name": "stderr",
     "output_type": "stream",
     "text": [
      "Train set: Loss=1.0772759914398193 Batch_id=781 Accuracy=78.01: 100%|██████████| 782/782 [00:21<00:00, 36.04it/s]\n",
      "  0%|          | 0/782 [00:00<?, ?it/s]"
     ]
    },
    {
     "name": "stdout",
     "output_type": "stream",
     "text": [
      "\n",
      "Test set: Average loss: 0.0070, Accuracy: 8481/10000 (84.81%)\n",
      "\n"
     ]
    },
    {
     "name": "stderr",
     "output_type": "stream",
     "text": [
      "Train set: Loss=1.0697247982025146 Batch_id=781 Accuracy=77.95: 100%|██████████| 782/782 [00:21<00:00, 36.41it/s]\n",
      "  0%|          | 0/782 [00:00<?, ?it/s]"
     ]
    },
    {
     "name": "stdout",
     "output_type": "stream",
     "text": [
      "\n",
      "Test set: Average loss: 0.0070, Accuracy: 8514/10000 (85.14%)\n",
      "\n"
     ]
    },
    {
     "name": "stderr",
     "output_type": "stream",
     "text": [
      "Train set: Loss=0.7930605411529541 Batch_id=781 Accuracy=78.12: 100%|██████████| 782/782 [00:21<00:00, 35.87it/s]\n",
      "  0%|          | 0/782 [00:00<?, ?it/s]"
     ]
    },
    {
     "name": "stdout",
     "output_type": "stream",
     "text": [
      "\n",
      "Test set: Average loss: 0.0069, Accuracy: 8472/10000 (84.72%)\n",
      "\n"
     ]
    },
    {
     "name": "stderr",
     "output_type": "stream",
     "text": [
      "Train set: Loss=0.8552464246749878 Batch_id=781 Accuracy=78.19: 100%|██████████| 782/782 [00:22<00:00, 35.15it/s]\n",
      "  0%|          | 0/782 [00:00<?, ?it/s]"
     ]
    },
    {
     "name": "stdout",
     "output_type": "stream",
     "text": [
      "\n",
      "Test set: Average loss: 0.0068, Accuracy: 8516/10000 (85.16%)\n",
      "\n"
     ]
    },
    {
     "name": "stderr",
     "output_type": "stream",
     "text": [
      "Train set: Loss=1.0331029891967773 Batch_id=781 Accuracy=78.20: 100%|██████████| 782/782 [00:21<00:00, 35.85it/s]\n",
      "  0%|          | 0/782 [00:00<?, ?it/s]"
     ]
    },
    {
     "name": "stdout",
     "output_type": "stream",
     "text": [
      "\n",
      "Test set: Average loss: 0.0071, Accuracy: 8483/10000 (84.83%)\n",
      "\n"
     ]
    },
    {
     "name": "stderr",
     "output_type": "stream",
     "text": [
      "Train set: Loss=0.8657135963439941 Batch_id=781 Accuracy=78.17: 100%|██████████| 782/782 [00:21<00:00, 36.05it/s]\n"
     ]
    },
    {
     "name": "stdout",
     "output_type": "stream",
     "text": [
      "\n",
      "Test set: Average loss: 0.0068, Accuracy: 8546/10000 (85.46%)\n",
      "\n"
     ]
    }
   ],
   "source": [
    "(train_loss, train_acc, test_loss, test_acc) = trainer.train_model(epochs=25, lambda_l1=0.0001)"
   ]
  },
  {
   "cell_type": "code",
   "execution_count": null,
   "metadata": {
    "id": "nmHdIipQuKrC"
   },
   "outputs": [],
   "source": []
  },
  {
   "cell_type": "code",
   "execution_count": 41,
   "metadata": {
    "id": "-APAfEltKYbG"
   },
   "outputs": [],
   "source": [
    "classes = ('plane', 'car', 'bird', 'cat', 'deer', 'dog',\n",
    "\t\t\t'frog', 'horse', 'ship', 'truck')"
   ]
  },
  {
   "cell_type": "code",
   "execution_count": 42,
   "metadata": {
    "colab": {
     "base_uri": "https://localhost:8080/",
     "height": 237
    },
    "id": "bKLG7lioKZVV",
    "outputId": "df188027-5651-4bee-b41d-8cb4c2c6f38b"
   },
   "outputs": [
    {
     "name": "stdout",
     "output_type": "stream",
     "text": [
      "\n",
      "Accuracy of plane : 94 %\n",
      "Accuracy of   car : 84 %\n",
      "Accuracy of  bird : 74 %\n",
      "Accuracy of   cat : 76 %\n",
      "Accuracy of  deer : 89 %\n",
      "Accuracy of   dog : 67 %\n",
      "Accuracy of  frog : 85 %\n",
      "Accuracy of horse : 81 %\n",
      "Accuracy of  ship : 90 %\n",
      "Accuracy of truck : 93 %\n",
      "\n"
     ]
    }
   ],
   "source": [
    "trainer.classwise_acc(classes)"
   ]
  },
  {
   "cell_type": "code",
   "execution_count": 43,
   "metadata": {
    "id": "VLeIl6V1KbFp"
   },
   "outputs": [],
   "source": [
    "misclassified_imgs = trainer.get_misclassified()"
   ]
  },
  {
   "cell_type": "code",
   "execution_count": 44,
   "metadata": {
    "colab": {
     "base_uri": "https://localhost:8080/",
     "height": 729
    },
    "id": "CWAEHg07KeIY",
    "outputId": "e6830dc8-75aa-4501-955b-430a209b1a07"
   },
   "outputs": [
    {
     "data": {
      "image/png": "[encoded data removed]",
      "text/plain": [
       "<Figure size 720x720 with 25 Axes>"
      ]
     },
     "metadata": {
      "needs_background": "light",
      "tags": []
     },
     "output_type": "display_data"
    }
   ],
   "source": [
    "plot_misclassified_images(misclassified_imgs, classes, \"misclassified_images1.png\")"
   ]
  },
  {
   "cell_type": "code",
   "execution_count": 45,
   "metadata": {
    "colab": {
     "base_uri": "https://localhost:8080/",
     "height": 607
    },
    "id": "g35HICT2Kgp5",
    "outputId": "dba62fe3-7f66-4972-de72-587827f274af"
   },
   "outputs": [
    {
     "data": {
      "image/png": "[encoded data removed]",
      "text/plain": [
       "<Figure size 1080x720 with 4 Axes>"
      ]
     },
     "metadata": {
      "needs_background": "light",
      "tags": []
     },
     "output_type": "display_data"
    }
   ],
   "source": [
    "from results import plot_metrics\n",
    "plot_metrics(train_loss, train_acc, test_loss, test_acc)"
   ]
  },
  {
   "cell_type": "code",
   "execution_count": 46,
   "metadata": {
    "id": "YS4avjXSKk_J"
   },
   "outputs": [],
   "source": [
    "### GradCam"
   ]
  },
  {
   "cell_type": "code",
   "execution_count": 47,
   "metadata": {
    "id": "LUPqvUO1cq4_"
   },
   "outputs": [],
   "source": [
    "dataiter = iter(data.test_loader)\n",
    "images, labels = dataiter.next()"
   ]
  },
  {
   "cell_type": "code",
   "execution_count": 48,
   "metadata": {
    "id": "gX90Ur_Zcysh"
   },
   "outputs": [],
   "source": [
    "import PIL\n",
    "import numpy as np"
   ]
  },
  {
   "cell_type": "code",
   "execution_count": 49,
   "metadata": {
    "id": "88PWN-mddnWn"
   },
   "outputs": [],
   "source": [
    "# model.convblock"
   ]
  },
  {
   "cell_type": "code",
   "execution_count": 50,
   "metadata": {
    "id": "A1yrtqj8dQWT"
   },
   "outputs": [],
   "source": [
    "def plot_images_gradcam(torch_img,normed_torch_img, model):\n",
    "    images=[]\n",
    "    g1 = GradCAM(model, model.convblock8)\n",
    "    g2 = GradCAM(model, model.convblock7)\n",
    "    g3 = GradCAM(model, model.convblock6)\n",
    "    g4 = GradCAM(model, model.convblock5)\n",
    "    mask1, _ = g1(normed_torch_img)\n",
    "    mask2, _ = g2(normed_torch_img)\n",
    "    mask3, _ = g3(normed_torch_img)\n",
    "    mask4, _ = g4(normed_torch_img)\n",
    "    heatmap1, result1 = visualize_cam(mask1, torch_img)\n",
    "    heatmap2, result2 = visualize_cam(mask2, torch_img)\n",
    "    heatmap3, result3 = visualize_cam(mask3, torch_img)\n",
    "    heatmap4, result4 = visualize_cam(mask4, torch_img)\n",
    "\n",
    "    images.extend([torch_img.cpu(), heatmap1, heatmap2, heatmap3, heatmap4])\n",
    "    images.extend([torch_img.cpu(), result1, result2, result3, result4])\n",
    "    grid_image = make_grid(images, nrow=5)\n",
    "    imshow(grid_image)"
   ]
  },
  {
   "cell_type": "code",
   "execution_count": 51,
   "metadata": {
    "colab": {
     "base_uri": "https://localhost:8080/",
     "height": 379
    },
    "id": "co6zo6Dbc7oM",
    "outputId": "7187a14c-761b-4af8-b63e-d545066b732e"
   },
   "outputs": [
    {
     "name": "stderr",
     "output_type": "stream",
     "text": [
      "/usr/local/lib/python3.6/dist-packages/torch/nn/functional.py:2941: UserWarning: nn.functional.upsample is deprecated. Use nn.functional.interpolate instead.\n",
      "  warnings.warn(\"nn.functional.upsample is deprecated. Use nn.functional.interpolate instead.\")\n"
     ]
    },
    {
     "data": {
      "image/png": "[encoded data removed]",
      "text/plain": [
       "<Figure size 864x864 with 1 Axes>"
      ]
     },
     "metadata": {
      "needs_background": "light",
      "tags": []
     },
     "output_type": "display_data"
    }
   ],
   "source": [
    "trans = transforms.ToPILImage()\n",
    "pil_img=trans(torchvision.utils.make_grid(images[1]))\n",
    "torch_img,normed_torch_img=change(pil_img,device)\n",
    "plot_images_gradcam(torch_img,normed_torch_img, model)"
   ]
  },
  {
   "cell_type": "code",
   "execution_count": 39,
   "metadata": {
    "id": "cGtrwbVNd9Qo"
   },
   "outputs": [],
   "source": []
  }
 ],
 "metadata": {
  "accelerator": "GPU",
  "colab": {
   "name": "S9-1.ipynb",
   "provenance": []
  },
  "kernelspec": {
   "display_name": "Python 3",
   "language": "python",
   "name": "python3"
  },
  "widgets": {
   "application/vnd.jupyter.widget-state+json": {
    "28d1d03684744b28b93e4c3ed09595fe": {
     "model_module": "@jupyter-widgets/base",
     "model_name": "LayoutModel",
     "state": {
      "_model_module": "@jupyter-widgets/base",
      "_model_module_version": "1.2.0",
      "_model_name": "LayoutModel",
      "_view_count": null,
      "_view_module": "@jupyter-widgets/base",
      "_view_module_version": "1.2.0",
      "_view_name": "LayoutView",
      "align_content": null,
      "align_items": null,
      "align_self": null,
      "border": null,
      "bottom": null,
      "display": null,
      "flex": null,
      "flex_flow": null,
      "grid_area": null,
      "grid_auto_columns": null,
      "grid_auto_flow": null,
      "grid_auto_rows": null,
      "grid_column": null,
      "grid_gap": null,
      "grid_row": null,
      "grid_template_areas": null,
      "grid_template_columns": null,
      "grid_template_rows": null,
      "height": null,
      "justify_content": null,
      "justify_items": null,
      "left": null,
      "margin": null,
      "max_height": null,
      "max_width": null,
      "min_height": null,
      "min_width": null,
      "object_fit": null,
      "object_position": null,
      "order": null,
      "overflow": null,
      "overflow_x": null,
      "overflow_y": null,
      "padding": null,
      "right": null,
      "top": null,
      "visibility": null,
      "width": null
     }
    },
    "5f8a5a8bbd594a17b73b76ecc9cdd8bd": {
     "model_module": "@jupyter-widgets/base",
     "model_name": "LayoutModel",
     "state": {
      "_model_module": "@jupyter-widgets/base",
      "_model_module_version": "1.2.0",
      "_model_name": "LayoutModel",
      "_view_count": null,
      "_view_module": "@jupyter-widgets/base",
      "_view_module_version": "1.2.0",
      "_view_name": "LayoutView",
      "align_content": null,
      "align_items": null,
      "align_self": null,
      "border": null,
      "bottom": null,
      "display": null,
      "flex": null,
      "flex_flow": null,
      "grid_area": null,
      "grid_auto_columns": null,
      "grid_auto_flow": null,
      "grid_auto_rows": null,
      "grid_column": null,
      "grid_gap": null,
      "grid_row": null,
      "grid_template_areas": null,
      "grid_template_columns": null,
      "grid_template_rows": null,
      "height": null,
      "justify_content": null,
      "justify_items": null,
      "left": null,
      "margin": null,
      "max_height": null,
      "max_width": null,
      "min_height": null,
      "min_width": null,
      "object_fit": null,
      "object_position": null,
      "order": null,
      "overflow": null,
      "overflow_x": null,
      "overflow_y": null,
      "padding": null,
      "right": null,
      "top": null,
      "visibility": null,
      "width": null
     }
    },
    "88df4c98a09b4bfbb9df5d0a15b9b325": {
     "model_module": "@jupyter-widgets/controls",
     "model_name": "HTMLModel",
     "state": {
      "_dom_classes": [],
      "_model_module": "@jupyter-widgets/controls",
      "_model_module_version": "1.5.0",
      "_model_name": "HTMLModel",
      "_view_count": null,
      "_view_module": "@jupyter-widgets/controls",
      "_view_module_version": "1.5.0",
      "_view_name": "HTMLView",
      "description": "",
      "description_tooltip": null,
      "layout": "IPY_MODEL_af01cd24d656447e81e77e6392723e2d",
      "placeholder": "​",
      "style": "IPY_MODEL_ef992a91e6184326b407028666b6140a",
      "value": " 170500096/? [00:20&lt;00:00, 52607982.53it/s]"
     }
    },
    "af01cd24d656447e81e77e6392723e2d": {
     "model_module": "@jupyter-widgets/base",
     "model_name": "LayoutModel",
     "state": {
      "_model_module": "@jupyter-widgets/base",
      "_model_module_version": "1.2.0",
      "_model_name": "LayoutModel",
      "_view_count": null,
      "_view_module": "@jupyter-widgets/base",
      "_view_module_version": "1.2.0",
      "_view_name": "LayoutView",
      "align_content": null,
      "align_items": null,
      "align_self": null,
      "border": null,
      "bottom": null,
      "display": null,
      "flex": null,
      "flex_flow": null,
      "grid_area": null,
      "grid_auto_columns": null,
      "grid_auto_flow": null,
      "grid_auto_rows": null,
      "grid_column": null,
      "grid_gap": null,
      "grid_row": null,
      "grid_template_areas": null,
      "grid_template_columns": null,
      "grid_template_rows": null,
      "height": null,
      "justify_content": null,
      "justify_items": null,
      "left": null,
      "margin": null,
      "max_height": null,
      "max_width": null,
      "min_height": null,
      "min_width": null,
      "object_fit": null,
      "object_position": null,
      "order": null,
      "overflow": null,
      "overflow_x": null,
      "overflow_y": null,
      "padding": null,
      "right": null,
      "top": null,
      "visibility": null,
      "width": null
     }
    },
    "c828df1b6f514553a2a009bb3e1eca20": {
     "model_module": "@jupyter-widgets/controls",
     "model_name": "HBoxModel",
     "state": {
      "_dom_classes": [],
      "_model_module": "@jupyter-widgets/controls",
      "_model_module_version": "1.5.0",
      "_model_name": "HBoxModel",
      "_view_count": null,
      "_view_module": "@jupyter-widgets/controls",
      "_view_module_version": "1.5.0",
      "_view_name": "HBoxView",
      "box_style": "",
      "children": [
       "IPY_MODEL_e566198180464536bed46a080c35b7ab",
       "IPY_MODEL_88df4c98a09b4bfbb9df5d0a15b9b325"
      ],
      "layout": "IPY_MODEL_5f8a5a8bbd594a17b73b76ecc9cdd8bd"
     }
    },
    "ce339e101e9d4c428c0882e7c45d68bb": {
     "model_module": "@jupyter-widgets/controls",
     "model_name": "ProgressStyleModel",
     "state": {
      "_model_module": "@jupyter-widgets/controls",
      "_model_module_version": "1.5.0",
      "_model_name": "ProgressStyleModel",
      "_view_count": null,
      "_view_module": "@jupyter-widgets/base",
      "_view_module_version": "1.2.0",
      "_view_name": "StyleView",
      "bar_color": null,
      "description_width": "initial"
     }
    },
    "e566198180464536bed46a080c35b7ab": {
     "model_module": "@jupyter-widgets/controls",
     "model_name": "FloatProgressModel",
     "state": {
      "_dom_classes": [],
      "_model_module": "@jupyter-widgets/controls",
      "_model_module_version": "1.5.0",
      "_model_name": "FloatProgressModel",
      "_view_count": null,
      "_view_module": "@jupyter-widgets/controls",
      "_view_module_version": "1.5.0",
      "_view_name": "ProgressView",
      "bar_style": "info",
      "description": "",
      "description_tooltip": null,
      "layout": "IPY_MODEL_28d1d03684744b28b93e4c3ed09595fe",
      "max": 1,
      "min": 0,
      "orientation": "horizontal",
      "style": "IPY_MODEL_ce339e101e9d4c428c0882e7c45d68bb",
      "value": 1
     }
    },
    "ef992a91e6184326b407028666b6140a": {
     "model_module": "@jupyter-widgets/controls",
     "model_name": "DescriptionStyleModel",
     "state": {
      "_model_module": "@jupyter-widgets/controls",
      "_model_module_version": "1.5.0",
      "_model_name": "DescriptionStyleModel",
      "_view_count": null,
      "_view_module": "@jupyter-widgets/base",
      "_view_module_version": "1.2.0",
      "_view_name": "StyleView",
      "description_width": ""
     }
    }
   }
  }
 },
 "nbformat": 4,
 "nbformat_minor": 1
}
