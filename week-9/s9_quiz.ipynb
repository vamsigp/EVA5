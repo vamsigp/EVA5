{
  "nbformat": 4,
  "nbformat_minor": 0,
  "metadata": {
    "colab": {
      "name": "s9 - quiz.ipynb",
      "provenance": []
    },
    "kernelspec": {
      "name": "python3",
      "display_name": "Python 3"
    },
    "accelerator": "GPU",
    "widgets": {
      "application/vnd.jupyter.widget-state+json": {
        "690dbd9732454f90820db11269d79486": {
          "model_module": "@jupyter-widgets/controls",
          "model_name": "HBoxModel",
          "state": {
            "_view_name": "HBoxView",
            "_dom_classes": [],
            "_model_name": "HBoxModel",
            "_view_module": "@jupyter-widgets/controls",
            "_model_module_version": "1.5.0",
            "_view_count": null,
            "_view_module_version": "1.5.0",
            "box_style": "",
            "layout": "IPY_MODEL_0095c6fe2eee48d08f77b23845e5126d",
            "_model_module": "@jupyter-widgets/controls",
            "children": [
              "IPY_MODEL_b7b02d2370e941869fd562dda1f916ae",
              "IPY_MODEL_69839b6b75bf45c9bc0b4ee8d1833783"
            ]
          }
        },
        "0095c6fe2eee48d08f77b23845e5126d": {
          "model_module": "@jupyter-widgets/base",
          "model_name": "LayoutModel",
          "state": {
            "_view_name": "LayoutView",
            "grid_template_rows": null,
            "right": null,
            "justify_content": null,
            "_view_module": "@jupyter-widgets/base",
            "overflow": null,
            "_model_module_version": "1.2.0",
            "_view_count": null,
            "flex_flow": null,
            "width": null,
            "min_width": null,
            "border": null,
            "align_items": null,
            "bottom": null,
            "_model_module": "@jupyter-widgets/base",
            "top": null,
            "grid_column": null,
            "overflow_y": null,
            "overflow_x": null,
            "grid_auto_flow": null,
            "grid_area": null,
            "grid_template_columns": null,
            "flex": null,
            "_model_name": "LayoutModel",
            "justify_items": null,
            "grid_row": null,
            "max_height": null,
            "align_content": null,
            "visibility": null,
            "align_self": null,
            "height": null,
            "min_height": null,
            "padding": null,
            "grid_auto_rows": null,
            "grid_gap": null,
            "max_width": null,
            "order": null,
            "_view_module_version": "1.2.0",
            "grid_template_areas": null,
            "object_position": null,
            "object_fit": null,
            "grid_auto_columns": null,
            "margin": null,
            "display": null,
            "left": null
          }
        },
        "b7b02d2370e941869fd562dda1f916ae": {
          "model_module": "@jupyter-widgets/controls",
          "model_name": "FloatProgressModel",
          "state": {
            "_view_name": "ProgressView",
            "style": "IPY_MODEL_1d52f08cf2d54a7ba193865f72ae6e26",
            "_dom_classes": [],
            "description": "",
            "_model_name": "FloatProgressModel",
            "bar_style": "info",
            "max": 1,
            "_view_module": "@jupyter-widgets/controls",
            "_model_module_version": "1.5.0",
            "value": 1,
            "_view_count": null,
            "_view_module_version": "1.5.0",
            "orientation": "horizontal",
            "min": 0,
            "description_tooltip": null,
            "_model_module": "@jupyter-widgets/controls",
            "layout": "IPY_MODEL_e21ca98e9ea740b787ad914371788f63"
          }
        },
        "69839b6b75bf45c9bc0b4ee8d1833783": {
          "model_module": "@jupyter-widgets/controls",
          "model_name": "HTMLModel",
          "state": {
            "_view_name": "HTMLView",
            "style": "IPY_MODEL_44d621f31eab47899b36d9b9aae411f2",
            "_dom_classes": [],
            "description": "",
            "_model_name": "HTMLModel",
            "placeholder": "​",
            "_view_module": "@jupyter-widgets/controls",
            "_model_module_version": "1.5.0",
            "value": " 170500096/? [00:19&lt;00:00, 32890357.89it/s]",
            "_view_count": null,
            "_view_module_version": "1.5.0",
            "description_tooltip": null,
            "_model_module": "@jupyter-widgets/controls",
            "layout": "IPY_MODEL_eeee104ede3e4df29aa7cd388f11a075"
          }
        },
        "1d52f08cf2d54a7ba193865f72ae6e26": {
          "model_module": "@jupyter-widgets/controls",
          "model_name": "ProgressStyleModel",
          "state": {
            "_view_name": "StyleView",
            "_model_name": "ProgressStyleModel",
            "description_width": "initial",
            "_view_module": "@jupyter-widgets/base",
            "_model_module_version": "1.5.0",
            "_view_count": null,
            "_view_module_version": "1.2.0",
            "bar_color": null,
            "_model_module": "@jupyter-widgets/controls"
          }
        },
        "e21ca98e9ea740b787ad914371788f63": {
          "model_module": "@jupyter-widgets/base",
          "model_name": "LayoutModel",
          "state": {
            "_view_name": "LayoutView",
            "grid_template_rows": null,
            "right": null,
            "justify_content": null,
            "_view_module": "@jupyter-widgets/base",
            "overflow": null,
            "_model_module_version": "1.2.0",
            "_view_count": null,
            "flex_flow": null,
            "width": null,
            "min_width": null,
            "border": null,
            "align_items": null,
            "bottom": null,
            "_model_module": "@jupyter-widgets/base",
            "top": null,
            "grid_column": null,
            "overflow_y": null,
            "overflow_x": null,
            "grid_auto_flow": null,
            "grid_area": null,
            "grid_template_columns": null,
            "flex": null,
            "_model_name": "LayoutModel",
            "justify_items": null,
            "grid_row": null,
            "max_height": null,
            "align_content": null,
            "visibility": null,
            "align_self": null,
            "height": null,
            "min_height": null,
            "padding": null,
            "grid_auto_rows": null,
            "grid_gap": null,
            "max_width": null,
            "order": null,
            "_view_module_version": "1.2.0",
            "grid_template_areas": null,
            "object_position": null,
            "object_fit": null,
            "grid_auto_columns": null,
            "margin": null,
            "display": null,
            "left": null
          }
        },
        "44d621f31eab47899b36d9b9aae411f2": {
          "model_module": "@jupyter-widgets/controls",
          "model_name": "DescriptionStyleModel",
          "state": {
            "_view_name": "StyleView",
            "_model_name": "DescriptionStyleModel",
            "description_width": "",
            "_view_module": "@jupyter-widgets/base",
            "_model_module_version": "1.5.0",
            "_view_count": null,
            "_view_module_version": "1.2.0",
            "_model_module": "@jupyter-widgets/controls"
          }
        },
        "eeee104ede3e4df29aa7cd388f11a075": {
          "model_module": "@jupyter-widgets/base",
          "model_name": "LayoutModel",
          "state": {
            "_view_name": "LayoutView",
            "grid_template_rows": null,
            "right": null,
            "justify_content": null,
            "_view_module": "@jupyter-widgets/base",
            "overflow": null,
            "_model_module_version": "1.2.0",
            "_view_count": null,
            "flex_flow": null,
            "width": null,
            "min_width": null,
            "border": null,
            "align_items": null,
            "bottom": null,
            "_model_module": "@jupyter-widgets/base",
            "top": null,
            "grid_column": null,
            "overflow_y": null,
            "overflow_x": null,
            "grid_auto_flow": null,
            "grid_area": null,
            "grid_template_columns": null,
            "flex": null,
            "_model_name": "LayoutModel",
            "justify_items": null,
            "grid_row": null,
            "max_height": null,
            "align_content": null,
            "visibility": null,
            "align_self": null,
            "height": null,
            "min_height": null,
            "padding": null,
            "grid_auto_rows": null,
            "grid_gap": null,
            "max_width": null,
            "order": null,
            "_view_module_version": "1.2.0",
            "grid_template_areas": null,
            "object_position": null,
            "object_fit": null,
            "grid_auto_columns": null,
            "margin": null,
            "display": null,
            "left": null
          }
        }
      }
    }
  },
  "cells": [
    {
      "cell_type": "code",
      "metadata": {
        "id": "iWE9wPWMjSrR"
      },
      "source": [
        "from datetime import datetime"
      ],
      "execution_count": 1,
      "outputs": []
    },
    {
      "cell_type": "code",
      "metadata": {
        "id": "5-uiZurVja4F",
        "outputId": "01d186f9-dbb2-4fa2-f534-56646dcf7a7b",
        "colab": {
          "base_uri": "https://localhost:8080/",
          "height": 35
        }
      },
      "source": [
        "print(\"Current Date/Time: \", datetime.now())"
      ],
      "execution_count": 2,
      "outputs": [
        {
          "output_type": "stream",
          "text": [
            "Current Date/Time:  2020-09-26 18:34:46.048404\n"
          ],
          "name": "stdout"
        }
      ]
    },
    {
      "cell_type": "code",
      "metadata": {
        "id": "wW3CcnTHjdZu",
        "outputId": "f487d6e5-5c7e-4cb6-d9af-97eaf8ae655a",
        "colab": {
          "base_uri": "https://localhost:8080/",
          "height": 146
        }
      },
      "source": [
        "!git clone -b week9-dev https://github.com/vamsigp/EVA5/"
      ],
      "execution_count": 3,
      "outputs": [
        {
          "output_type": "stream",
          "text": [
            "Cloning into 'EVA5'...\n",
            "remote: Enumerating objects: 379, done.\u001b[K\n",
            "remote: Counting objects: 100% (379/379), done.\u001b[K\n",
            "remote: Compressing objects: 100% (283/283), done.\u001b[K\n",
            "remote: Total 379 (delta 195), reused 237 (delta 81), pack-reused 0\u001b[K\n",
            "Receiving objects: 100% (379/379), 15.10 MiB | 13.26 MiB/s, done.\n",
            "Resolving deltas: 100% (195/195), done.\n"
          ],
          "name": "stdout"
        }
      ]
    },
    {
      "cell_type": "code",
      "metadata": {
        "id": "_Ha_s5mgjnN3",
        "outputId": "e86e35d1-4989-4ca6-d7de-564b3f5bc27a",
        "colab": {
          "base_uri": "https://localhost:8080/",
          "height": 35
        }
      },
      "source": [
        "%cd EVA5/trainer"
      ],
      "execution_count": 4,
      "outputs": [
        {
          "output_type": "stream",
          "text": [
            "/content/EVA5/trainer\n"
          ],
          "name": "stdout"
        }
      ]
    },
    {
      "cell_type": "code",
      "metadata": {
        "id": "VVu8EsvtjpCJ",
        "outputId": "94259500-e507-4e0c-b0f7-0a85461addc4",
        "colab": {
          "base_uri": "https://localhost:8080/",
          "height": 698
        }
      },
      "source": [
        "!pip install -U albumentations"
      ],
      "execution_count": 5,
      "outputs": [
        {
          "output_type": "stream",
          "text": [
            "Collecting albumentations\n",
            "\u001b[?25l  Downloading https://files.pythonhosted.org/packages/92/33/1c459c2c9a4028ec75527eff88bc4e2d256555189f42af4baf4d7bd89233/albumentations-0.4.6.tar.gz (117kB)\n",
            "\u001b[K     |████████████████████████████████| 122kB 9.0MB/s \n",
            "\u001b[?25hRequirement already satisfied, skipping upgrade: numpy>=1.11.1 in /usr/local/lib/python3.6/dist-packages (from albumentations) (1.18.5)\n",
            "Requirement already satisfied, skipping upgrade: scipy in /usr/local/lib/python3.6/dist-packages (from albumentations) (1.4.1)\n",
            "Collecting imgaug>=0.4.0\n",
            "\u001b[?25l  Downloading https://files.pythonhosted.org/packages/66/b1/af3142c4a85cba6da9f4ebb5ff4e21e2616309552caca5e8acefe9840622/imgaug-0.4.0-py2.py3-none-any.whl (948kB)\n",
            "\u001b[K     |████████████████████████████████| 952kB 9.6MB/s \n",
            "\u001b[?25hRequirement already satisfied, skipping upgrade: PyYAML in /usr/local/lib/python3.6/dist-packages (from albumentations) (3.13)\n",
            "Requirement already satisfied, skipping upgrade: opencv-python>=4.1.1 in /usr/local/lib/python3.6/dist-packages (from albumentations) (4.1.2.30)\n",
            "Requirement already satisfied, skipping upgrade: imageio in /usr/local/lib/python3.6/dist-packages (from imgaug>=0.4.0->albumentations) (2.4.1)\n",
            "Requirement already satisfied, skipping upgrade: six in /usr/local/lib/python3.6/dist-packages (from imgaug>=0.4.0->albumentations) (1.15.0)\n",
            "Requirement already satisfied, skipping upgrade: matplotlib in /usr/local/lib/python3.6/dist-packages (from imgaug>=0.4.0->albumentations) (3.2.2)\n",
            "Requirement already satisfied, skipping upgrade: Shapely in /usr/local/lib/python3.6/dist-packages (from imgaug>=0.4.0->albumentations) (1.7.1)\n",
            "Requirement already satisfied, skipping upgrade: Pillow in /usr/local/lib/python3.6/dist-packages (from imgaug>=0.4.0->albumentations) (7.0.0)\n",
            "Requirement already satisfied, skipping upgrade: scikit-image>=0.14.2 in /usr/local/lib/python3.6/dist-packages (from imgaug>=0.4.0->albumentations) (0.16.2)\n",
            "Requirement already satisfied, skipping upgrade: python-dateutil>=2.1 in /usr/local/lib/python3.6/dist-packages (from matplotlib->imgaug>=0.4.0->albumentations) (2.8.1)\n",
            "Requirement already satisfied, skipping upgrade: pyparsing!=2.0.4,!=2.1.2,!=2.1.6,>=2.0.1 in /usr/local/lib/python3.6/dist-packages (from matplotlib->imgaug>=0.4.0->albumentations) (2.4.7)\n",
            "Requirement already satisfied, skipping upgrade: kiwisolver>=1.0.1 in /usr/local/lib/python3.6/dist-packages (from matplotlib->imgaug>=0.4.0->albumentations) (1.2.0)\n",
            "Requirement already satisfied, skipping upgrade: cycler>=0.10 in /usr/local/lib/python3.6/dist-packages (from matplotlib->imgaug>=0.4.0->albumentations) (0.10.0)\n",
            "Requirement already satisfied, skipping upgrade: networkx>=2.0 in /usr/local/lib/python3.6/dist-packages (from scikit-image>=0.14.2->imgaug>=0.4.0->albumentations) (2.5)\n",
            "Requirement already satisfied, skipping upgrade: PyWavelets>=0.4.0 in /usr/local/lib/python3.6/dist-packages (from scikit-image>=0.14.2->imgaug>=0.4.0->albumentations) (1.1.1)\n",
            "Requirement already satisfied, skipping upgrade: decorator>=4.3.0 in /usr/local/lib/python3.6/dist-packages (from networkx>=2.0->scikit-image>=0.14.2->imgaug>=0.4.0->albumentations) (4.4.2)\n",
            "Building wheels for collected packages: albumentations\n",
            "  Building wheel for albumentations (setup.py) ... \u001b[?25l\u001b[?25hdone\n",
            "  Created wheel for albumentations: filename=albumentations-0.4.6-cp36-none-any.whl size=65165 sha256=5fb8015ab72ae4ec3d51ccd2cf454dd35136863cd8c511a93bd636453d6a3d7f\n",
            "  Stored in directory: /root/.cache/pip/wheels/c7/f4/89/56d1bee5c421c36c1a951eeb4adcc32fbb82f5344c086efa14\n",
            "Successfully built albumentations\n",
            "Installing collected packages: imgaug, albumentations\n",
            "  Found existing installation: imgaug 0.2.9\n",
            "    Uninstalling imgaug-0.2.9:\n",
            "      Successfully uninstalled imgaug-0.2.9\n",
            "  Found existing installation: albumentations 0.1.12\n",
            "    Uninstalling albumentations-0.1.12:\n",
            "      Successfully uninstalled albumentations-0.1.12\n",
            "Successfully installed albumentations-0.4.6 imgaug-0.4.0\n"
          ],
          "name": "stdout"
        }
      ]
    },
    {
      "cell_type": "code",
      "metadata": {
        "id": "t_hFcMFujqjs"
      },
      "source": [
        "%matplotlib inline"
      ],
      "execution_count": 6,
      "outputs": []
    },
    {
      "cell_type": "code",
      "metadata": {
        "id": "IRq_mgOgjsam"
      },
      "source": [
        "import torch\n",
        "import torchvision\n",
        "import torch.nn as nn\n",
        "import torch.optim as optim\n",
        "from config import ModelConfig\n",
        "from data_engine import DataEngine\n",
        "from trainer import Trainer\n",
        "from results import *\n",
        "from utils import *"
      ],
      "execution_count": 7,
      "outputs": []
    },
    {
      "cell_type": "code",
      "metadata": {
        "id": "rPINaY--juBj"
      },
      "source": [
        "from Albumentations import *\n",
        "from GradCAM import *"
      ],
      "execution_count": 8,
      "outputs": []
    },
    {
      "cell_type": "markdown",
      "metadata": {
        "id": "MM2PJRPGj63t"
      },
      "source": [
        "Quiz Model"
      ]
    },
    {
      "cell_type": "code",
      "metadata": {
        "id": "HUaRy4aWjvlj"
      },
      "source": [
        "from models.QuizDNN import QuizDNN"
      ],
      "execution_count": 9,
      "outputs": []
    },
    {
      "cell_type": "code",
      "metadata": {
        "id": "hne-szGAqQwC"
      },
      "source": [
        "transform_album = album_compose()"
      ],
      "execution_count": 10,
      "outputs": []
    },
    {
      "cell_type": "code",
      "metadata": {
        "id": "dWXBJc-aqTGJ",
        "outputId": "b4fc5e54-fa8f-430d-e910-0db1a58f7d99",
        "colab": {
          "base_uri": "https://localhost:8080/",
          "height": 201
        }
      },
      "source": [
        "# View model config\n",
        "args = ModelConfig(transform_album)\n",
        "args.print_config()\n",
        "\n",
        "print()\n",
        "# Set seed\n",
        "init_seed(args)"
      ],
      "execution_count": 11,
      "outputs": [
        {
          "output_type": "stream",
          "text": [
            "Model Parameters:\n",
            "{ 'batch_size_cpu': 64,\n",
            "  'batch_size_cuda': 64,\n",
            "  'dropout_value': 0.15,\n",
            "  'epochs': 50,\n",
            "  'num_workers': 4,\n",
            "  'seed': 1,\n",
            "  'train_transform': <Albumentations.album_compose object at 0x7f7164f5acf8>}\n",
            "\n",
            "CUDA Available\n"
          ],
          "name": "stdout"
        }
      ]
    },
    {
      "cell_type": "code",
      "metadata": {
        "id": "BZbkhKQ8qrvt",
        "outputId": "1b210046-caf5-4c8a-e7ba-1b6da5807e45",
        "colab": {
          "base_uri": "https://localhost:8080/",
          "height": 348,
          "referenced_widgets": [
            "690dbd9732454f90820db11269d79486",
            "0095c6fe2eee48d08f77b23845e5126d",
            "b7b02d2370e941869fd562dda1f916ae",
            "69839b6b75bf45c9bc0b4ee8d1833783",
            "1d52f08cf2d54a7ba193865f72ae6e26",
            "e21ca98e9ea740b787ad914371788f63",
            "44d621f31eab47899b36d9b9aae411f2",
            "eeee104ede3e4df29aa7cd388f11a075"
          ]
        }
      },
      "source": [
        "data = DataEngine(args)\n",
        "\n",
        "# get some random training images\n",
        "dataiter = iter(data.train_loader)\n",
        "images, labels = dataiter.next()\n",
        "\n",
        "# show images\n",
        "imshow(torchvision.utils.make_grid(images[:4]))\n",
        "# print labels\n",
        "print(' '.join('%5s' % data.classes[labels[j]] for j in range(4)))"
      ],
      "execution_count": 12,
      "outputs": [
        {
          "output_type": "stream",
          "text": [
            "Downloading https://www.cs.toronto.edu/~kriz/cifar-10-python.tar.gz to ./data/cifar-10-python.tar.gz\n"
          ],
          "name": "stdout"
        },
        {
          "output_type": "display_data",
          "data": {
            "application/vnd.jupyter.widget-view+json": {
              "model_id": "690dbd9732454f90820db11269d79486",
              "version_minor": 0,
              "version_major": 2
            },
            "text/plain": [
              "HBox(children=(FloatProgress(value=1.0, bar_style='info', max=1.0), HTML(value='')))"
            ]
          },
          "metadata": {
            "tags": []
          }
        },
        {
          "output_type": "stream",
          "text": [
            "Extracting ./data/cifar-10-python.tar.gz to ./data\n",
            "Files already downloaded and verified\n"
          ],
          "name": "stdout"
        },
        {
          "output_type": "stream",
          "text": [
            "Clipping input data to the valid range for imshow with RGB data ([0..1] for floats or [0..255] for integers).\n"
          ],
          "name": "stderr"
        },
        {
          "output_type": "stream",
          "text": [
            "plane   dog  deer  deer\n"
          ],
          "name": "stdout"
        },
        {
          "output_type": "display_data",
          "data": {
            "image/png": "[encoded data removed]",
            "text/plain": [
              "<Figure size 864x864 with 1 Axes>"
            ]
          },
          "metadata": {
            "tags": [],
            "needs_background": "light"
          }
        }
      ]
    },
    {
      "cell_type": "code",
      "metadata": {
        "id": "PGCz8LUuqv2P",
        "outputId": "bbe46112-0fa4-40c9-8fd2-756b8ae40824",
        "colab": {
          "base_uri": "https://localhost:8080/",
          "height": 1000
        }
      },
      "source": [
        "device = which_device()\n",
        "# model = Net(args).to(device)\n",
        "# model = ResNet18().to(device)\n",
        "model = QuizDNN().to(device)\n",
        "show_model_summary(model, device, (3,32,32))"
      ],
      "execution_count": 13,
      "outputs": [
        {
          "output_type": "stream",
          "text": [
            "----------------------------------------------------------------\n",
            "        Layer (type)               Output Shape         Param #\n",
            "================================================================\n",
            "            Conv2d-1           [-1, 32, 32, 32]              96\n",
            "       BatchNorm2d-2           [-1, 32, 32, 32]              64\n",
            "              ReLU-3           [-1, 32, 32, 32]               0\n",
            "           Dropout-4           [-1, 32, 32, 32]               0\n",
            "            Conv2d-5           [-1, 32, 32, 32]           9,216\n",
            "       BatchNorm2d-6           [-1, 32, 32, 32]              64\n",
            "              ReLU-7           [-1, 32, 32, 32]               0\n",
            "           Dropout-8           [-1, 32, 32, 32]               0\n",
            "            Conv2d-9           [-1, 32, 32, 32]           9,216\n",
            "      BatchNorm2d-10           [-1, 32, 32, 32]              64\n",
            "             ReLU-11           [-1, 32, 32, 32]               0\n",
            "          Dropout-12           [-1, 32, 32, 32]               0\n",
            "        MaxPool2d-13           [-1, 32, 16, 16]               0\n",
            "           Conv2d-14           [-1, 64, 16, 16]           2,048\n",
            "      BatchNorm2d-15           [-1, 64, 16, 16]             128\n",
            "             ReLU-16           [-1, 64, 16, 16]               0\n",
            "          Dropout-17           [-1, 64, 16, 16]               0\n",
            "           Conv2d-18           [-1, 64, 16, 16]          36,864\n",
            "      BatchNorm2d-19           [-1, 64, 16, 16]             128\n",
            "             ReLU-20           [-1, 64, 16, 16]               0\n",
            "          Dropout-21           [-1, 64, 16, 16]               0\n",
            "           Conv2d-22           [-1, 64, 16, 16]          36,864\n",
            "      BatchNorm2d-23           [-1, 64, 16, 16]             128\n",
            "             ReLU-24           [-1, 64, 16, 16]               0\n",
            "          Dropout-25           [-1, 64, 16, 16]               0\n",
            "           Conv2d-26           [-1, 64, 16, 16]          36,864\n",
            "      BatchNorm2d-27           [-1, 64, 16, 16]             128\n",
            "             ReLU-28           [-1, 64, 16, 16]               0\n",
            "          Dropout-29           [-1, 64, 16, 16]               0\n",
            "        MaxPool2d-30             [-1, 64, 8, 8]               0\n",
            "           Conv2d-31            [-1, 128, 8, 8]           8,192\n",
            "      BatchNorm2d-32            [-1, 128, 8, 8]             256\n",
            "             ReLU-33            [-1, 128, 8, 8]               0\n",
            "          Dropout-34            [-1, 128, 8, 8]               0\n",
            "           Conv2d-35            [-1, 128, 8, 8]         147,456\n",
            "      BatchNorm2d-36            [-1, 128, 8, 8]             256\n",
            "             ReLU-37            [-1, 128, 8, 8]               0\n",
            "          Dropout-38            [-1, 128, 8, 8]               0\n",
            "           Conv2d-39            [-1, 128, 8, 8]         147,456\n",
            "      BatchNorm2d-40            [-1, 128, 8, 8]             256\n",
            "             ReLU-41            [-1, 128, 8, 8]               0\n",
            "          Dropout-42            [-1, 128, 8, 8]               0\n",
            "           Conv2d-43            [-1, 128, 8, 8]         147,456\n",
            "      BatchNorm2d-44            [-1, 128, 8, 8]             256\n",
            "             ReLU-45            [-1, 128, 8, 8]               0\n",
            "          Dropout-46            [-1, 128, 8, 8]               0\n",
            "AdaptiveAvgPool2d-47            [-1, 128, 1, 1]               0\n",
            "           Conv2d-48             [-1, 10, 1, 1]           1,280\n",
            "================================================================\n",
            "Total params: 584,736\n",
            "Trainable params: 584,736\n",
            "Non-trainable params: 0\n",
            "----------------------------------------------------------------\n",
            "Input size (MB): 0.01\n",
            "Forward/backward pass size (MB): 6.09\n",
            "Params size (MB): 2.23\n",
            "Estimated Total Size (MB): 8.34\n",
            "----------------------------------------------------------------\n",
            "None\n"
          ],
          "name": "stdout"
        }
      ]
    },
    {
      "cell_type": "code",
      "metadata": {
        "id": "vDCanUpHs1rJ"
      },
      "source": [
        "from torch.optim.lr_scheduler import StepLR,OneCycleLR"
      ],
      "execution_count": 15,
      "outputs": []
    },
    {
      "cell_type": "code",
      "metadata": {
        "id": "ixZQqhKIrjty"
      },
      "source": [
        "criterion = nn.CrossEntropyLoss()\n",
        "optimizer = optim.SGD(model.parameters(), lr=0.001, momentum=0.9, weight_decay=0.001)\n",
        "scheduler = StepLR(optimizer, step_size=8, gamma=0.1)\n",
        "# scheduler = OneCycleLR(optimizer,max_lr=0.1,total_steps=20)"
      ],
      "execution_count": 16,
      "outputs": []
    },
    {
      "cell_type": "code",
      "metadata": {
        "id": "-5KUOprwsy36"
      },
      "source": [
        "trainer = Trainer(model, \n",
        "                  device,\n",
        "                  train_loader=data.train_loader, \n",
        "                  test_loader = data.test_loader, \n",
        "                  optimizer = optimizer, \n",
        "                  loss_func = criterion, \n",
        "                  lr_scheduler = None) "
      ],
      "execution_count": 18,
      "outputs": []
    },
    {
      "cell_type": "code",
      "metadata": {
        "id": "kGH7AvpOq1so",
        "outputId": "198dd2c0-6b58-4785-a4a3-4313472f68e8",
        "colab": {
          "base_uri": "https://localhost:8080/",
          "height": 1000
        }
      },
      "source": [
        "(train_loss, train_acc, test_loss, test_acc) = trainer.train_model(epochs=40, lambda_l1=0.0001)"
      ],
      "execution_count": 19,
      "outputs": [
        {
          "output_type": "stream",
          "text": [
            "Train set: Loss=2.9496259689331055 Batch_id=781 Accuracy=28.86: 100%|██████████| 782/782 [00:19<00:00, 39.77it/s]\n",
            "  0%|          | 0/782 [00:00<?, ?it/s]"
          ],
          "name": "stderr"
        },
        {
          "output_type": "stream",
          "text": [
            "\n",
            "Test set: Average loss: 0.0308, Accuracy: 2795/10000 (27.95%)\n",
            "\n"
          ],
          "name": "stdout"
        },
        {
          "output_type": "stream",
          "text": [
            "Train set: Loss=2.746382236480713 Batch_id=781 Accuracy=38.35: 100%|██████████| 782/782 [00:19<00:00, 39.67it/s]\n",
            "  0%|          | 0/782 [00:00<?, ?it/s]"
          ],
          "name": "stderr"
        },
        {
          "output_type": "stream",
          "text": [
            "\n",
            "Test set: Average loss: 0.0286, Accuracy: 3575/10000 (35.75%)\n",
            "\n"
          ],
          "name": "stdout"
        },
        {
          "output_type": "stream",
          "text": [
            "Train set: Loss=2.373182773590088 Batch_id=781 Accuracy=43.98: 100%|██████████| 782/782 [00:19<00:00, 39.60it/s]\n",
            "  0%|          | 0/782 [00:00<?, ?it/s]"
          ],
          "name": "stderr"
        },
        {
          "output_type": "stream",
          "text": [
            "\n",
            "Test set: Average loss: 0.0240, Accuracy: 4401/10000 (44.01%)\n",
            "\n"
          ],
          "name": "stdout"
        },
        {
          "output_type": "stream",
          "text": [
            "Train set: Loss=2.567915916442871 Batch_id=781 Accuracy=47.67: 100%|██████████| 782/782 [00:19<00:00, 39.43it/s]\n",
            "  0%|          | 0/782 [00:00<?, ?it/s]"
          ],
          "name": "stderr"
        },
        {
          "output_type": "stream",
          "text": [
            "\n",
            "Test set: Average loss: 0.0253, Accuracy: 4206/10000 (42.06%)\n",
            "\n"
          ],
          "name": "stdout"
        },
        {
          "output_type": "stream",
          "text": [
            "Train set: Loss=2.4810397624969482 Batch_id=781 Accuracy=50.39: 100%|██████████| 782/782 [00:19<00:00, 39.89it/s]\n",
            "  0%|          | 0/782 [00:00<?, ?it/s]"
          ],
          "name": "stderr"
        },
        {
          "output_type": "stream",
          "text": [
            "\n",
            "Test set: Average loss: 0.0212, Accuracy: 5129/10000 (51.29%)\n",
            "\n"
          ],
          "name": "stdout"
        },
        {
          "output_type": "stream",
          "text": [
            "Train set: Loss=2.273379325866699 Batch_id=781 Accuracy=52.53: 100%|██████████| 782/782 [00:19<00:00, 39.89it/s]\n",
            "  0%|          | 0/782 [00:00<?, ?it/s]"
          ],
          "name": "stderr"
        },
        {
          "output_type": "stream",
          "text": [
            "\n",
            "Test set: Average loss: 0.0209, Accuracy: 5164/10000 (51.64%)\n",
            "\n"
          ],
          "name": "stdout"
        },
        {
          "output_type": "stream",
          "text": [
            "Train set: Loss=2.101938486099243 Batch_id=781 Accuracy=54.43: 100%|██████████| 782/782 [00:19<00:00, 39.18it/s]\n",
            "  0%|          | 0/782 [00:00<?, ?it/s]"
          ],
          "name": "stderr"
        },
        {
          "output_type": "stream",
          "text": [
            "\n",
            "Test set: Average loss: 0.0209, Accuracy: 5204/10000 (52.04%)\n",
            "\n"
          ],
          "name": "stdout"
        },
        {
          "output_type": "stream",
          "text": [
            "Train set: Loss=1.6741511821746826 Batch_id=781 Accuracy=56.04: 100%|██████████| 782/782 [00:19<00:00, 39.50it/s]\n",
            "  0%|          | 0/782 [00:00<?, ?it/s]"
          ],
          "name": "stderr"
        },
        {
          "output_type": "stream",
          "text": [
            "\n",
            "Test set: Average loss: 0.0190, Accuracy: 5625/10000 (56.25%)\n",
            "\n"
          ],
          "name": "stdout"
        },
        {
          "output_type": "stream",
          "text": [
            "Train set: Loss=1.7183802127838135 Batch_id=781 Accuracy=57.69: 100%|██████████| 782/782 [00:19<00:00, 39.55it/s]\n",
            "  0%|          | 0/782 [00:00<?, ?it/s]"
          ],
          "name": "stderr"
        },
        {
          "output_type": "stream",
          "text": [
            "\n",
            "Test set: Average loss: 0.0184, Accuracy: 5770/10000 (57.70%)\n",
            "\n"
          ],
          "name": "stdout"
        },
        {
          "output_type": "stream",
          "text": [
            "Train set: Loss=1.7196424007415771 Batch_id=781 Accuracy=58.56: 100%|██████████| 782/782 [00:19<00:00, 39.25it/s]\n",
            "  0%|          | 0/782 [00:00<?, ?it/s]"
          ],
          "name": "stderr"
        },
        {
          "output_type": "stream",
          "text": [
            "\n",
            "Test set: Average loss: 0.0177, Accuracy: 5946/10000 (59.46%)\n",
            "\n"
          ],
          "name": "stdout"
        },
        {
          "output_type": "stream",
          "text": [
            "Train set: Loss=1.8192989826202393 Batch_id=781 Accuracy=59.78: 100%|██████████| 782/782 [00:19<00:00, 39.24it/s]\n",
            "  0%|          | 0/782 [00:00<?, ?it/s]"
          ],
          "name": "stderr"
        },
        {
          "output_type": "stream",
          "text": [
            "\n",
            "Test set: Average loss: 0.0169, Accuracy: 6120/10000 (61.20%)\n",
            "\n"
          ],
          "name": "stdout"
        },
        {
          "output_type": "stream",
          "text": [
            "Train set: Loss=1.644564151763916 Batch_id=781 Accuracy=60.77: 100%|██████████| 782/782 [00:20<00:00, 38.39it/s]\n",
            "  0%|          | 0/782 [00:00<?, ?it/s]"
          ],
          "name": "stderr"
        },
        {
          "output_type": "stream",
          "text": [
            "\n",
            "Test set: Average loss: 0.0175, Accuracy: 6037/10000 (60.37%)\n",
            "\n"
          ],
          "name": "stdout"
        },
        {
          "output_type": "stream",
          "text": [
            "Train set: Loss=1.5474460124969482 Batch_id=781 Accuracy=61.68: 100%|██████████| 782/782 [00:20<00:00, 39.06it/s]\n",
            "  0%|          | 0/782 [00:00<?, ?it/s]"
          ],
          "name": "stderr"
        },
        {
          "output_type": "stream",
          "text": [
            "\n",
            "Test set: Average loss: 0.0167, Accuracy: 6154/10000 (61.54%)\n",
            "\n"
          ],
          "name": "stdout"
        },
        {
          "output_type": "stream",
          "text": [
            "Train set: Loss=2.0378663539886475 Batch_id=781 Accuracy=62.37: 100%|██████████| 782/782 [00:20<00:00, 38.84it/s]\n",
            "  0%|          | 0/782 [00:00<?, ?it/s]"
          ],
          "name": "stderr"
        },
        {
          "output_type": "stream",
          "text": [
            "\n",
            "Test set: Average loss: 0.0143, Accuracy: 6741/10000 (67.41%)\n",
            "\n"
          ],
          "name": "stdout"
        },
        {
          "output_type": "stream",
          "text": [
            "Train set: Loss=1.3279857635498047 Batch_id=781 Accuracy=63.17: 100%|██████████| 782/782 [00:19<00:00, 39.32it/s]\n",
            "  0%|          | 0/782 [00:00<?, ?it/s]"
          ],
          "name": "stderr"
        },
        {
          "output_type": "stream",
          "text": [
            "\n",
            "Test set: Average loss: 0.0166, Accuracy: 6218/10000 (62.18%)\n",
            "\n"
          ],
          "name": "stdout"
        },
        {
          "output_type": "stream",
          "text": [
            "Train set: Loss=1.1293703317642212 Batch_id=781 Accuracy=64.02: 100%|██████████| 782/782 [00:19<00:00, 39.67it/s]\n",
            "  0%|          | 0/782 [00:00<?, ?it/s]"
          ],
          "name": "stderr"
        },
        {
          "output_type": "stream",
          "text": [
            "\n",
            "Test set: Average loss: 0.0154, Accuracy: 6487/10000 (64.87%)\n",
            "\n"
          ],
          "name": "stdout"
        },
        {
          "output_type": "stream",
          "text": [
            "Train set: Loss=1.546353816986084 Batch_id=781 Accuracy=64.43: 100%|██████████| 782/782 [00:20<00:00, 38.95it/s]\n",
            "  0%|          | 0/782 [00:00<?, ?it/s]"
          ],
          "name": "stderr"
        },
        {
          "output_type": "stream",
          "text": [
            "\n",
            "Test set: Average loss: 0.0156, Accuracy: 6350/10000 (63.50%)\n",
            "\n"
          ],
          "name": "stdout"
        },
        {
          "output_type": "stream",
          "text": [
            "Train set: Loss=1.6439083814620972 Batch_id=781 Accuracy=65.01: 100%|██████████| 782/782 [00:19<00:00, 39.27it/s]\n",
            "  0%|          | 0/782 [00:00<?, ?it/s]"
          ],
          "name": "stderr"
        },
        {
          "output_type": "stream",
          "text": [
            "\n",
            "Test set: Average loss: 0.0144, Accuracy: 6802/10000 (68.02%)\n",
            "\n"
          ],
          "name": "stdout"
        },
        {
          "output_type": "stream",
          "text": [
            "Train set: Loss=1.9240121841430664 Batch_id=781 Accuracy=65.72: 100%|██████████| 782/782 [00:19<00:00, 39.54it/s]\n",
            "  0%|          | 0/782 [00:00<?, ?it/s]"
          ],
          "name": "stderr"
        },
        {
          "output_type": "stream",
          "text": [
            "\n",
            "Test set: Average loss: 0.0136, Accuracy: 6965/10000 (69.65%)\n",
            "\n"
          ],
          "name": "stdout"
        },
        {
          "output_type": "stream",
          "text": [
            "Train set: Loss=1.2496507167816162 Batch_id=781 Accuracy=66.33: 100%|██████████| 782/782 [00:19<00:00, 39.29it/s]\n",
            "  0%|          | 0/782 [00:00<?, ?it/s]"
          ],
          "name": "stderr"
        },
        {
          "output_type": "stream",
          "text": [
            "\n",
            "Test set: Average loss: 0.0149, Accuracy: 6649/10000 (66.49%)\n",
            "\n"
          ],
          "name": "stdout"
        },
        {
          "output_type": "stream",
          "text": [
            "Train set: Loss=1.4380697011947632 Batch_id=781 Accuracy=66.45: 100%|██████████| 782/782 [00:20<00:00, 39.10it/s]\n",
            "  0%|          | 0/782 [00:00<?, ?it/s]"
          ],
          "name": "stderr"
        },
        {
          "output_type": "stream",
          "text": [
            "\n",
            "Test set: Average loss: 0.0132, Accuracy: 7055/10000 (70.55%)\n",
            "\n"
          ],
          "name": "stdout"
        },
        {
          "output_type": "stream",
          "text": [
            "Train set: Loss=1.2003357410430908 Batch_id=781 Accuracy=66.97: 100%|██████████| 782/782 [00:19<00:00, 39.31it/s]\n",
            "  0%|          | 0/782 [00:00<?, ?it/s]"
          ],
          "name": "stderr"
        },
        {
          "output_type": "stream",
          "text": [
            "\n",
            "Test set: Average loss: 0.0142, Accuracy: 6720/10000 (67.20%)\n",
            "\n"
          ],
          "name": "stdout"
        },
        {
          "output_type": "stream",
          "text": [
            "Train set: Loss=1.777101755142212 Batch_id=781 Accuracy=67.75: 100%|██████████| 782/782 [00:19<00:00, 39.41it/s]\n",
            "  0%|          | 0/782 [00:00<?, ?it/s]"
          ],
          "name": "stderr"
        },
        {
          "output_type": "stream",
          "text": [
            "\n",
            "Test set: Average loss: 0.0126, Accuracy: 7162/10000 (71.62%)\n",
            "\n"
          ],
          "name": "stdout"
        },
        {
          "output_type": "stream",
          "text": [
            "Train set: Loss=1.3738760948181152 Batch_id=781 Accuracy=68.17: 100%|██████████| 782/782 [00:19<00:00, 39.47it/s]\n",
            "  0%|          | 0/782 [00:00<?, ?it/s]"
          ],
          "name": "stderr"
        },
        {
          "output_type": "stream",
          "text": [
            "\n",
            "Test set: Average loss: 0.0134, Accuracy: 6925/10000 (69.25%)\n",
            "\n"
          ],
          "name": "stdout"
        },
        {
          "output_type": "stream",
          "text": [
            "Train set: Loss=1.516611933708191 Batch_id=781 Accuracy=68.62: 100%|██████████| 782/782 [00:19<00:00, 39.13it/s]\n",
            "  0%|          | 0/782 [00:00<?, ?it/s]"
          ],
          "name": "stderr"
        },
        {
          "output_type": "stream",
          "text": [
            "\n",
            "Test set: Average loss: 0.0110, Accuracy: 7548/10000 (75.48%)\n",
            "\n"
          ],
          "name": "stdout"
        },
        {
          "output_type": "stream",
          "text": [
            "Train set: Loss=1.5590182542800903 Batch_id=781 Accuracy=68.66: 100%|██████████| 782/782 [00:19<00:00, 39.57it/s]\n",
            "  0%|          | 0/782 [00:00<?, ?it/s]"
          ],
          "name": "stderr"
        },
        {
          "output_type": "stream",
          "text": [
            "\n",
            "Test set: Average loss: 0.0117, Accuracy: 7351/10000 (73.51%)\n",
            "\n"
          ],
          "name": "stdout"
        },
        {
          "output_type": "stream",
          "text": [
            "Train set: Loss=1.0681984424591064 Batch_id=781 Accuracy=69.31: 100%|██████████| 782/782 [00:19<00:00, 39.45it/s]\n",
            "  0%|          | 0/782 [00:00<?, ?it/s]"
          ],
          "name": "stderr"
        },
        {
          "output_type": "stream",
          "text": [
            "\n",
            "Test set: Average loss: 0.0124, Accuracy: 7264/10000 (72.64%)\n",
            "\n"
          ],
          "name": "stdout"
        },
        {
          "output_type": "stream",
          "text": [
            "Train set: Loss=1.5941855907440186 Batch_id=781 Accuracy=69.91: 100%|██████████| 782/782 [00:19<00:00, 39.15it/s]\n",
            "  0%|          | 0/782 [00:00<?, ?it/s]"
          ],
          "name": "stderr"
        },
        {
          "output_type": "stream",
          "text": [
            "\n",
            "Test set: Average loss: 0.0122, Accuracy: 7298/10000 (72.98%)\n",
            "\n"
          ],
          "name": "stdout"
        },
        {
          "output_type": "stream",
          "text": [
            "Train set: Loss=1.6418708562850952 Batch_id=781 Accuracy=70.13: 100%|██████████| 782/782 [00:19<00:00, 39.31it/s]\n",
            "  0%|          | 0/782 [00:00<?, ?it/s]"
          ],
          "name": "stderr"
        },
        {
          "output_type": "stream",
          "text": [
            "\n",
            "Test set: Average loss: 0.0118, Accuracy: 7418/10000 (74.18%)\n",
            "\n"
          ],
          "name": "stdout"
        },
        {
          "output_type": "stream",
          "text": [
            "Train set: Loss=0.9386736154556274 Batch_id=781 Accuracy=70.15: 100%|██████████| 782/782 [00:19<00:00, 39.41it/s]\n",
            "  0%|          | 0/782 [00:00<?, ?it/s]"
          ],
          "name": "stderr"
        },
        {
          "output_type": "stream",
          "text": [
            "\n",
            "Test set: Average loss: 0.0138, Accuracy: 6897/10000 (68.97%)\n",
            "\n"
          ],
          "name": "stdout"
        },
        {
          "output_type": "stream",
          "text": [
            "Train set: Loss=1.2557682991027832 Batch_id=781 Accuracy=70.65: 100%|██████████| 782/782 [00:19<00:00, 39.23it/s]\n",
            "  0%|          | 0/782 [00:00<?, ?it/s]"
          ],
          "name": "stderr"
        },
        {
          "output_type": "stream",
          "text": [
            "\n",
            "Test set: Average loss: 0.0106, Accuracy: 7640/10000 (76.40%)\n",
            "\n"
          ],
          "name": "stdout"
        },
        {
          "output_type": "stream",
          "text": [
            "Train set: Loss=1.7390068769454956 Batch_id=781 Accuracy=70.88: 100%|██████████| 782/782 [00:20<00:00, 38.85it/s]\n",
            "  0%|          | 0/782 [00:00<?, ?it/s]"
          ],
          "name": "stderr"
        },
        {
          "output_type": "stream",
          "text": [
            "\n",
            "Test set: Average loss: 0.0117, Accuracy: 7307/10000 (73.07%)\n",
            "\n"
          ],
          "name": "stdout"
        },
        {
          "output_type": "stream",
          "text": [
            "Train set: Loss=1.2253042459487915 Batch_id=781 Accuracy=71.14: 100%|██████████| 782/782 [00:19<00:00, 39.35it/s]\n",
            "  0%|          | 0/782 [00:00<?, ?it/s]"
          ],
          "name": "stderr"
        },
        {
          "output_type": "stream",
          "text": [
            "\n",
            "Test set: Average loss: 0.0125, Accuracy: 7196/10000 (71.96%)\n",
            "\n"
          ],
          "name": "stdout"
        },
        {
          "output_type": "stream",
          "text": [
            "Train set: Loss=1.0809006690979004 Batch_id=781 Accuracy=71.25: 100%|██████████| 782/782 [00:20<00:00, 38.88it/s]\n",
            "  0%|          | 0/782 [00:00<?, ?it/s]"
          ],
          "name": "stderr"
        },
        {
          "output_type": "stream",
          "text": [
            "\n",
            "Test set: Average loss: 0.0118, Accuracy: 7357/10000 (73.57%)\n",
            "\n"
          ],
          "name": "stdout"
        },
        {
          "output_type": "stream",
          "text": [
            "Train set: Loss=0.9699693322181702 Batch_id=781 Accuracy=71.47: 100%|██████████| 782/782 [00:19<00:00, 39.52it/s]\n",
            "  0%|          | 0/782 [00:00<?, ?it/s]"
          ],
          "name": "stderr"
        },
        {
          "output_type": "stream",
          "text": [
            "\n",
            "Test set: Average loss: 0.0116, Accuracy: 7285/10000 (72.85%)\n",
            "\n"
          ],
          "name": "stdout"
        },
        {
          "output_type": "stream",
          "text": [
            "Train set: Loss=1.8708440065383911 Batch_id=781 Accuracy=71.62: 100%|██████████| 782/782 [00:19<00:00, 39.40it/s]\n",
            "  0%|          | 0/782 [00:00<?, ?it/s]"
          ],
          "name": "stderr"
        },
        {
          "output_type": "stream",
          "text": [
            "\n",
            "Test set: Average loss: 0.0111, Accuracy: 7471/10000 (74.71%)\n",
            "\n"
          ],
          "name": "stdout"
        },
        {
          "output_type": "stream",
          "text": [
            "Train set: Loss=1.0153934955596924 Batch_id=781 Accuracy=71.93: 100%|██████████| 782/782 [00:19<00:00, 39.42it/s]\n",
            "  0%|          | 0/782 [00:00<?, ?it/s]"
          ],
          "name": "stderr"
        },
        {
          "output_type": "stream",
          "text": [
            "\n",
            "Test set: Average loss: 0.0102, Accuracy: 7740/10000 (77.40%)\n",
            "\n"
          ],
          "name": "stdout"
        },
        {
          "output_type": "stream",
          "text": [
            "Train set: Loss=0.7626410722732544 Batch_id=781 Accuracy=71.82: 100%|██████████| 782/782 [00:20<00:00, 38.97it/s]\n",
            "  0%|          | 0/782 [00:00<?, ?it/s]"
          ],
          "name": "stderr"
        },
        {
          "output_type": "stream",
          "text": [
            "\n",
            "Test set: Average loss: 0.0115, Accuracy: 7427/10000 (74.27%)\n",
            "\n"
          ],
          "name": "stdout"
        },
        {
          "output_type": "stream",
          "text": [
            "Train set: Loss=1.1721293926239014 Batch_id=781 Accuracy=72.50: 100%|██████████| 782/782 [00:19<00:00, 39.21it/s]\n",
            "  0%|          | 0/782 [00:00<?, ?it/s]"
          ],
          "name": "stderr"
        },
        {
          "output_type": "stream",
          "text": [
            "\n",
            "Test set: Average loss: 0.0102, Accuracy: 7783/10000 (77.83%)\n",
            "\n"
          ],
          "name": "stdout"
        },
        {
          "output_type": "stream",
          "text": [
            "Train set: Loss=0.9153926372528076 Batch_id=781 Accuracy=72.47: 100%|██████████| 782/782 [00:19<00:00, 39.27it/s]\n"
          ],
          "name": "stderr"
        },
        {
          "output_type": "stream",
          "text": [
            "\n",
            "Test set: Average loss: 0.0105, Accuracy: 7666/10000 (76.66%)\n",
            "\n"
          ],
          "name": "stdout"
        }
      ]
    },
    {
      "cell_type": "code",
      "metadata": {
        "id": "PkkrRlWatDDG"
      },
      "source": [
        "classes = ('plane', 'car', 'bird', 'cat', 'deer', 'dog',\n",
        "\t\t\t'frog', 'horse', 'ship', 'truck')"
      ],
      "execution_count": 20,
      "outputs": []
    },
    {
      "cell_type": "code",
      "metadata": {
        "id": "IKWc6ie9tFCf",
        "outputId": "4f1e5063-7072-4a65-cc00-7e4cbe9432ae",
        "colab": {
          "base_uri": "https://localhost:8080/",
          "height": 237
        }
      },
      "source": [
        "trainer.classwise_acc(classes)"
      ],
      "execution_count": 21,
      "outputs": [
        {
          "output_type": "stream",
          "text": [
            "\n",
            "Accuracy of plane : 83 %\n",
            "Accuracy of   car : 89 %\n",
            "Accuracy of  bird : 70 %\n",
            "Accuracy of   cat : 73 %\n",
            "Accuracy of  deer : 62 %\n",
            "Accuracy of   dog : 64 %\n",
            "Accuracy of  frog : 85 %\n",
            "Accuracy of horse : 85 %\n",
            "Accuracy of  ship : 89 %\n",
            "Accuracy of truck : 68 %\n",
            "\n"
          ],
          "name": "stdout"
        }
      ]
    },
    {
      "cell_type": "code",
      "metadata": {
        "id": "WLf4zOnytE62",
        "outputId": "28080618-8b7e-4a6d-f985-676fca94748b",
        "colab": {
          "base_uri": "https://localhost:8080/",
          "height": 109
        }
      },
      "source": [
        "misclassified_imgs = trainer.get_misclassified()"
      ],
      "execution_count": 22,
      "outputs": [
        {
          "output_type": "stream",
          "text": [
            "/content/EVA5/trainer/trainer.py:127: UserWarning: This overload of nonzero is deprecated:\n",
            "\tnonzero()\n",
            "Consider using one of the following signatures instead:\n",
            "\tnonzero(*, bool as_tuple) (Triggered internally at  /pytorch/torch/csrc/utils/python_arg_parser.cpp:766.)\n",
            "  misclassified_inds = (is_correct == 0).nonzero()[:, 0]\n"
          ],
          "name": "stderr"
        }
      ]
    },
    {
      "cell_type": "code",
      "metadata": {
        "id": "MNUq3mXwtI24",
        "outputId": "59213e86-0d02-498c-cbb8-3206930f538f",
        "colab": {
          "base_uri": "https://localhost:8080/",
          "height": 729
        }
      },
      "source": [
        "plot_misclassified_images(misclassified_imgs, classes, \"misclassified_images1.png\")"
      ],
      "execution_count": 23,
      "outputs": [
        {
          "output_type": "display_data",
          "data": {
            "image/png": "[encoded data removed]",
            "text/plain": [
              "<Figure size 720x720 with 25 Axes>"
            ]
          },
          "metadata": {
            "tags": [],
            "needs_background": "light"
          }
        }
      ]
    },
    {
      "cell_type": "code",
      "metadata": {
        "id": "qNb2lsRdtK3q",
        "outputId": "25b6471f-43ab-4f23-823b-de57b07d8975",
        "colab": {
          "base_uri": "https://localhost:8080/",
          "height": 607
        }
      },
      "source": [
        "from results import plot_metrics\n",
        "plot_metrics(train_loss, train_acc, test_loss, test_acc)"
      ],
      "execution_count": 24,
      "outputs": [
        {
          "output_type": "display_data",
          "data": {
            "image/png": "[encoded data removed]",
            "text/plain": [
              "<Figure size 1080x720 with 4 Axes>"
            ]
          },
          "metadata": {
            "tags": [],
            "needs_background": "light"
          }
        }
      ]
    },
    {
      "cell_type": "code",
      "metadata": {
        "id": "ONmuoWvntNDH"
      },
      "source": [
        "dataiter = iter(data.test_loader)\n",
        "images, labels = dataiter.next()"
      ],
      "execution_count": 25,
      "outputs": []
    },
    {
      "cell_type": "code",
      "metadata": {
        "id": "vIHmMsNxuhQr",
        "outputId": "003becc3-dd59-41bd-ab56-9c349598c24a",
        "colab": {
          "base_uri": "https://localhost:8080/",
          "height": 219
        }
      },
      "source": [
        "for name, layer in model.named_modules():\n",
        "  if isinstance(layer, torch.nn.Conv2d):\n",
        "    print(name, layer)"
      ],
      "execution_count": 26,
      "outputs": [
        {
          "output_type": "stream",
          "text": [
            "convblock1.0 Conv2d(3, 32, kernel_size=(1, 1), stride=(1, 1), bias=False)\n",
            "convblock2.0 Conv2d(32, 32, kernel_size=(3, 3), stride=(1, 1), padding=(1, 1), bias=False)\n",
            "convblock3.0 Conv2d(32, 32, kernel_size=(3, 3), stride=(1, 1), padding=(1, 1), bias=False)\n",
            "convblock4.0 Conv2d(32, 64, kernel_size=(1, 1), stride=(1, 1), bias=False)\n",
            "convblock5.0 Conv2d(64, 64, kernel_size=(3, 3), stride=(1, 1), padding=(1, 1), bias=False)\n",
            "convblock6.0 Conv2d(64, 64, kernel_size=(3, 3), stride=(1, 1), padding=(1, 1), bias=False)\n",
            "convblock7.0 Conv2d(64, 128, kernel_size=(1, 1), stride=(1, 1), bias=False)\n",
            "convblock8.0 Conv2d(128, 128, kernel_size=(3, 3), stride=(1, 1), padding=(1, 1), bias=False)\n",
            "convblock9.0 Conv2d(128, 128, kernel_size=(3, 3), stride=(1, 1), padding=(1, 1), bias=False)\n",
            "convblock10.0 Conv2d(128, 128, kernel_size=(3, 3), stride=(1, 1), padding=(1, 1), bias=False)\n",
            "convblock11.0 Conv2d(128, 10, kernel_size=(1, 1), stride=(1, 1), bias=False)\n"
          ],
          "name": "stdout"
        }
      ]
    },
    {
      "cell_type": "code",
      "metadata": {
        "id": "Tr-BIWowtO3Q"
      },
      "source": [
        "import PIL\n",
        "import numpy as np"
      ],
      "execution_count": 27,
      "outputs": []
    },
    {
      "cell_type": "code",
      "metadata": {
        "id": "KJ789uaQtQ1S"
      },
      "source": [
        "def plot_images_gradcam(torch_img,normed_torch_img, model):\n",
        "    images=[]\n",
        "    g1 = GradCAM(model, model.convblock9)\n",
        "    g2 = GradCAM(model, model.convblock8)\n",
        "    g3 = GradCAM(model, model.convblock7)\n",
        "    g4 = GradCAM(model, model.convblock6)\n",
        "    mask1, _ = g1(normed_torch_img)\n",
        "    mask2, _ = g2(normed_torch_img)\n",
        "    mask3, _ = g3(normed_torch_img)\n",
        "    mask4, _ = g4(normed_torch_img)\n",
        "    heatmap1, result1 = visualize_cam(mask1, torch_img)\n",
        "    heatmap2, result2 = visualize_cam(mask2, torch_img)\n",
        "    heatmap3, result3 = visualize_cam(mask3, torch_img)\n",
        "    heatmap4, result4 = visualize_cam(mask4, torch_img)\n",
        "\n",
        "    images.extend([torch_img.cpu(), heatmap1, heatmap2, heatmap3, heatmap4])\n",
        "    images.extend([torch_img.cpu(), result1, result2, result3, result4])\n",
        "    grid_image = make_grid(images, nrow=5)\n",
        "    imshow(grid_image)"
      ],
      "execution_count": 29,
      "outputs": []
    },
    {
      "cell_type": "code",
      "metadata": {
        "id": "pSnJ1dniw8_j",
        "outputId": "3b903949-3377-46c7-da46-98d2826c4fac",
        "colab": {
          "base_uri": "https://localhost:8080/",
          "height": 379
        }
      },
      "source": [
        "trans = transforms.ToPILImage()\n",
        "pil_img=trans(torchvision.utils.make_grid(images[1]))\n",
        "torch_img,normed_torch_img=change(pil_img,device)\n",
        "plot_images_gradcam(torch_img,normed_torch_img, model)"
      ],
      "execution_count": 30,
      "outputs": [
        {
          "output_type": "stream",
          "text": [
            "/usr/local/lib/python3.6/dist-packages/torch/nn/functional.py:2941: UserWarning: nn.functional.upsample is deprecated. Use nn.functional.interpolate instead.\n",
            "  warnings.warn(\"nn.functional.upsample is deprecated. Use nn.functional.interpolate instead.\")\n"
          ],
          "name": "stderr"
        },
        {
          "output_type": "display_data",
          "data": {
            "image/png": "[encoded data removed]",
            "text/plain": [
              "<Figure size 864x864 with 1 Axes>"
            ]
          },
          "metadata": {
            "tags": [],
            "needs_background": "light"
          }
        }
      ]
    },
    {
      "cell_type": "code",
      "metadata": {
        "id": "ErQfYlwCxKTo"
      },
      "source": [
        ""
      ],
      "execution_count": null,
      "outputs": []
    }
  ]
}