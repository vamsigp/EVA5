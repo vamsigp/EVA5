{
  "nbformat": 4,
  "nbformat_minor": 0,
  "metadata": {
    "colab": {
      "name": "S11-part 2.ipynb",
      "provenance": []
    },
    "kernelspec": {
      "name": "python3",
      "display_name": "Python 3"
    },
    "accelerator": "GPU",
    "widgets": {
      "application/vnd.jupyter.widget-state+json": {
        "fba208a4475c44eea132375bc8b7e41d": {
          "model_module": "@jupyter-widgets/controls",
          "model_name": "HBoxModel",
          "state": {
            "_view_name": "HBoxView",
            "_dom_classes": [],
            "_model_name": "HBoxModel",
            "_view_module": "@jupyter-widgets/controls",
            "_model_module_version": "1.5.0",
            "_view_count": null,
            "_view_module_version": "1.5.0",
            "box_style": "",
            "layout": "IPY_MODEL_a5fa09baecb140ff9f072de4236f6303",
            "_model_module": "@jupyter-widgets/controls",
            "children": [
              "IPY_MODEL_7ae58cdfc2da43b691a697177ee385c5",
              "IPY_MODEL_f626c1fd613a4e4b9b67759bdb6b4252"
            ]
          }
        },
        "a5fa09baecb140ff9f072de4236f6303": {
          "model_module": "@jupyter-widgets/base",
          "model_name": "LayoutModel",
          "state": {
            "_view_name": "LayoutView",
            "grid_template_rows": null,
            "right": null,
            "justify_content": null,
            "_view_module": "@jupyter-widgets/base",
            "overflow": null,
            "_model_module_version": "1.2.0",
            "_view_count": null,
            "flex_flow": null,
            "width": null,
            "min_width": null,
            "border": null,
            "align_items": null,
            "bottom": null,
            "_model_module": "@jupyter-widgets/base",
            "top": null,
            "grid_column": null,
            "overflow_y": null,
            "overflow_x": null,
            "grid_auto_flow": null,
            "grid_area": null,
            "grid_template_columns": null,
            "flex": null,
            "_model_name": "LayoutModel",
            "justify_items": null,
            "grid_row": null,
            "max_height": null,
            "align_content": null,
            "visibility": null,
            "align_self": null,
            "height": null,
            "min_height": null,
            "padding": null,
            "grid_auto_rows": null,
            "grid_gap": null,
            "max_width": null,
            "order": null,
            "_view_module_version": "1.2.0",
            "grid_template_areas": null,
            "object_position": null,
            "object_fit": null,
            "grid_auto_columns": null,
            "margin": null,
            "display": null,
            "left": null
          }
        },
        "7ae58cdfc2da43b691a697177ee385c5": {
          "model_module": "@jupyter-widgets/controls",
          "model_name": "FloatProgressModel",
          "state": {
            "_view_name": "ProgressView",
            "style": "IPY_MODEL_b85a6b90e7024cc4beecd6104ae3d8bd",
            "_dom_classes": [],
            "description": "",
            "_model_name": "FloatProgressModel",
            "bar_style": "info",
            "max": 1,
            "_view_module": "@jupyter-widgets/controls",
            "_model_module_version": "1.5.0",
            "value": 1,
            "_view_count": null,
            "_view_module_version": "1.5.0",
            "orientation": "horizontal",
            "min": 0,
            "description_tooltip": null,
            "_model_module": "@jupyter-widgets/controls",
            "layout": "IPY_MODEL_8e852a817dd34db1a614005ae5fe393a"
          }
        },
        "f626c1fd613a4e4b9b67759bdb6b4252": {
          "model_module": "@jupyter-widgets/controls",
          "model_name": "HTMLModel",
          "state": {
            "_view_name": "HTMLView",
            "style": "IPY_MODEL_2ea74241fc6f493c9994b2e9a02dd029",
            "_dom_classes": [],
            "description": "",
            "_model_name": "HTMLModel",
            "placeholder": "​",
            "_view_module": "@jupyter-widgets/controls",
            "_model_module_version": "1.5.0",
            "value": " 170500096/? [00:20&lt;00:00, 96884824.93it/s]",
            "_view_count": null,
            "_view_module_version": "1.5.0",
            "description_tooltip": null,
            "_model_module": "@jupyter-widgets/controls",
            "layout": "IPY_MODEL_75a252c648ab405b9d882a7216f601c4"
          }
        },
        "b85a6b90e7024cc4beecd6104ae3d8bd": {
          "model_module": "@jupyter-widgets/controls",
          "model_name": "ProgressStyleModel",
          "state": {
            "_view_name": "StyleView",
            "_model_name": "ProgressStyleModel",
            "description_width": "initial",
            "_view_module": "@jupyter-widgets/base",
            "_model_module_version": "1.5.0",
            "_view_count": null,
            "_view_module_version": "1.2.0",
            "bar_color": null,
            "_model_module": "@jupyter-widgets/controls"
          }
        },
        "8e852a817dd34db1a614005ae5fe393a": {
          "model_module": "@jupyter-widgets/base",
          "model_name": "LayoutModel",
          "state": {
            "_view_name": "LayoutView",
            "grid_template_rows": null,
            "right": null,
            "justify_content": null,
            "_view_module": "@jupyter-widgets/base",
            "overflow": null,
            "_model_module_version": "1.2.0",
            "_view_count": null,
            "flex_flow": null,
            "width": null,
            "min_width": null,
            "border": null,
            "align_items": null,
            "bottom": null,
            "_model_module": "@jupyter-widgets/base",
            "top": null,
            "grid_column": null,
            "overflow_y": null,
            "overflow_x": null,
            "grid_auto_flow": null,
            "grid_area": null,
            "grid_template_columns": null,
            "flex": null,
            "_model_name": "LayoutModel",
            "justify_items": null,
            "grid_row": null,
            "max_height": null,
            "align_content": null,
            "visibility": null,
            "align_self": null,
            "height": null,
            "min_height": null,
            "padding": null,
            "grid_auto_rows": null,
            "grid_gap": null,
            "max_width": null,
            "order": null,
            "_view_module_version": "1.2.0",
            "grid_template_areas": null,
            "object_position": null,
            "object_fit": null,
            "grid_auto_columns": null,
            "margin": null,
            "display": null,
            "left": null
          }
        },
        "2ea74241fc6f493c9994b2e9a02dd029": {
          "model_module": "@jupyter-widgets/controls",
          "model_name": "DescriptionStyleModel",
          "state": {
            "_view_name": "StyleView",
            "_model_name": "DescriptionStyleModel",
            "description_width": "",
            "_view_module": "@jupyter-widgets/base",
            "_model_module_version": "1.5.0",
            "_view_count": null,
            "_view_module_version": "1.2.0",
            "_model_module": "@jupyter-widgets/controls"
          }
        },
        "75a252c648ab405b9d882a7216f601c4": {
          "model_module": "@jupyter-widgets/base",
          "model_name": "LayoutModel",
          "state": {
            "_view_name": "LayoutView",
            "grid_template_rows": null,
            "right": null,
            "justify_content": null,
            "_view_module": "@jupyter-widgets/base",
            "overflow": null,
            "_model_module_version": "1.2.0",
            "_view_count": null,
            "flex_flow": null,
            "width": null,
            "min_width": null,
            "border": null,
            "align_items": null,
            "bottom": null,
            "_model_module": "@jupyter-widgets/base",
            "top": null,
            "grid_column": null,
            "overflow_y": null,
            "overflow_x": null,
            "grid_auto_flow": null,
            "grid_area": null,
            "grid_template_columns": null,
            "flex": null,
            "_model_name": "LayoutModel",
            "justify_items": null,
            "grid_row": null,
            "max_height": null,
            "align_content": null,
            "visibility": null,
            "align_self": null,
            "height": null,
            "min_height": null,
            "padding": null,
            "grid_auto_rows": null,
            "grid_gap": null,
            "max_width": null,
            "order": null,
            "_view_module_version": "1.2.0",
            "grid_template_areas": null,
            "object_position": null,
            "object_fit": null,
            "grid_auto_columns": null,
            "margin": null,
            "display": null,
            "left": null
          }
        }
      }
    }
  },
  "cells": [
    {
      "cell_type": "code",
      "metadata": {
        "id": "ta-RPuoK6oB4",
        "outputId": "288e991a-5e58-40d6-a251-2d0819fdd01b",
        "colab": {
          "base_uri": "https://localhost:8080/",
          "height": 391
        }
      },
      "source": [
        "!git clone -b week11 https://github.com/vamsigp/EVA5/\n",
        "%cd EVA5/trainer"
      ],
      "execution_count": null,
      "outputs": [
        {
          "output_type": "stream",
          "text": [
            "Cloning into 'EVA5'...\n",
            "remote: Enumerating objects: 207, done.\u001b[K\n",
            "remote: Counting objects: 100% (207/207), done.\u001b[K\n",
            "remote: Compressing objects: 100% (174/174), done.\u001b[K\n",
            "remote: Total 586 (delta 123), reused 85 (delta 31), pack-reused 379\u001b[K\n",
            "Receiving objects: 100% (586/586), 48.28 MiB | 35.54 MiB/s, done.\n",
            "Resolving deltas: 100% (318/318), done.\n",
            "/content/EVA5/trainer\n"
          ],
          "name": "stdout"
        }
      ]
    },
    {
      "cell_type": "code",
      "metadata": {
        "id": "F_v9ieH87Hwt"
      },
      "source": [
        "# !pip install -U albumentations"
      ],
      "execution_count": null,
      "outputs": []
    },
    {
      "cell_type": "code",
      "metadata": {
        "id": "-sjkc2jN7s4l"
      },
      "source": [
        "import torch\n",
        "import torchvision\n",
        "import torch.nn as nn\n",
        "import torch.optim as optim\n",
        "from config import ModelConfig\n",
        "from data_engine import DataEngine\n",
        "from trainer import Trainer\n",
        "from results import *\n",
        "from utils import *\n",
        "\n",
        "import matplotlib.pyplot as plt\n",
        "%matplotlib inline"
      ],
      "execution_count": null,
      "outputs": []
    },
    {
      "cell_type": "code",
      "metadata": {
        "id": "aLi03Z5U9isF"
      },
      "source": [
        "from Albumentations import Week11Albumentations"
      ],
      "execution_count": null,
      "outputs": []
    },
    {
      "cell_type": "code",
      "metadata": {
        "id": "JrihgUz8KIvy"
      },
      "source": [
        "from models.CIFARS10Model import CIFARS10Model"
      ],
      "execution_count": null,
      "outputs": []
    },
    {
      "cell_type": "code",
      "metadata": {
        "id": "JdckgEzZ9kMp"
      },
      "source": [
        "transform_album = Week11Albumentations()"
      ],
      "execution_count": null,
      "outputs": []
    },
    {
      "cell_type": "code",
      "metadata": {
        "id": "vycunyY4-BD8",
        "outputId": "a62724f1-0606-46e5-b702-7f896f69d127",
        "colab": {
          "base_uri": "https://localhost:8080/",
          "height": 156
        }
      },
      "source": [
        "# View model config\n",
        "args = ModelConfig(transform_album)\n",
        "args.week_11_args()\n",
        "args.print_config()"
      ],
      "execution_count": null,
      "outputs": [
        {
          "output_type": "stream",
          "text": [
            "Model Parameters:\n",
            "{ 'batch_size_cpu': 64,\n",
            "  'batch_size_cuda': 512,\n",
            "  'dropout_value': 0.15,\n",
            "  'epochs': 50,\n",
            "  'num_workers': 4,\n",
            "  'seed': 1,\n",
            "  'train_transform': <Albumentations.Week11Albumentations object at 0x7f934489e9b0>}\n"
          ],
          "name": "stdout"
        }
      ]
    },
    {
      "cell_type": "code",
      "metadata": {
        "id": "09QQyyWs-EUF",
        "outputId": "3515f922-d7fc-4bdf-fa55-091cbda57a97",
        "colab": {
          "base_uri": "https://localhost:8080/",
          "height": 118,
          "referenced_widgets": [
            "fba208a4475c44eea132375bc8b7e41d",
            "a5fa09baecb140ff9f072de4236f6303",
            "7ae58cdfc2da43b691a697177ee385c5",
            "f626c1fd613a4e4b9b67759bdb6b4252",
            "b85a6b90e7024cc4beecd6104ae3d8bd",
            "8e852a817dd34db1a614005ae5fe393a",
            "2ea74241fc6f493c9994b2e9a02dd029",
            "75a252c648ab405b9d882a7216f601c4"
          ]
        }
      },
      "source": [
        "init_seed(args)\n",
        "data = DataEngine(args)"
      ],
      "execution_count": null,
      "outputs": [
        {
          "output_type": "stream",
          "text": [
            "CUDA Available\n",
            "Downloading https://www.cs.toronto.edu/~kriz/cifar-10-python.tar.gz to ./data/cifar-10-python.tar.gz\n"
          ],
          "name": "stdout"
        },
        {
          "output_type": "display_data",
          "data": {
            "application/vnd.jupyter.widget-view+json": {
              "model_id": "fba208a4475c44eea132375bc8b7e41d",
              "version_minor": 0,
              "version_major": 2
            },
            "text/plain": [
              "HBox(children=(FloatProgress(value=1.0, bar_style='info', max=1.0), HTML(value='')))"
            ]
          },
          "metadata": {
            "tags": []
          }
        },
        {
          "output_type": "stream",
          "text": [
            "Extracting ./data/cifar-10-python.tar.gz to ./data\n",
            "Files already downloaded and verified\n"
          ],
          "name": "stdout"
        }
      ]
    },
    {
      "cell_type": "code",
      "metadata": {
        "id": "aWDbL5YiJ6rv",
        "outputId": "7a2786a3-2990-4824-83dd-44cf029964a2",
        "colab": {
          "base_uri": "https://localhost:8080/",
          "height": 34
        }
      },
      "source": [
        "device = which_device()\n",
        "print(device)"
      ],
      "execution_count": null,
      "outputs": [
        {
          "output_type": "stream",
          "text": [
            "cuda\n"
          ],
          "name": "stdout"
        }
      ]
    },
    {
      "cell_type": "code",
      "metadata": {
        "id": "TttODP36JNPw"
      },
      "source": [
        "import torch.nn as nn\n",
        "import torch.optim as optim\n",
        "from torch.optim.lr_scheduler import OneCycleLR, LambdaLR"
      ],
      "execution_count": null,
      "outputs": []
    },
    {
      "cell_type": "code",
      "metadata": {
        "id": "KGMXylr2JFhJ"
      },
      "source": [
        "model = CIFARS10Model().to(device)\n",
        "\n",
        "criterion = nn.CrossEntropyLoss()\n",
        "optimizer = optim.SGD(model.parameters(), lr=0.005, momentum=0.9, weight_decay=0)\n",
        "lr_function = lambda epoch: (epoch**2)\n",
        "scheduler = LambdaLR(optimizer=optimizer, lr_lambda=lr_function)\n",
        "# scheduler = StepLR(optimizer, step_size=8, gamma=0.1)\n",
        "# scheduler = OneCycleLR(optimizer,max_lr=0.1,total_steps=20)\n",
        "# scheduler = ReduceLROnPlateau(optimizer, mode='min', factor=0.2, patience=3, verbose=False, threshold=0.0001, threshold_mode='rel', cooldown=0, min_lr=0, eps=1e-08)"
      ],
      "execution_count": null,
      "outputs": []
    },
    {
      "cell_type": "code",
      "metadata": {
        "id": "qwA3whgUKReR"
      },
      "source": [
        "trainer = Trainer(model, \n",
        "                  device,\n",
        "                  train_loader=data.train_loader, \n",
        "                  test_loader = data.test_loader, \n",
        "                  optimizer = optimizer, \n",
        "                  loss_func = criterion, \n",
        "                  lr_scheduler = scheduler) "
      ],
      "execution_count": null,
      "outputs": []
    },
    {
      "cell_type": "code",
      "metadata": {
        "id": "YEy4tQ1jKUXJ",
        "outputId": "14ff7be9-987c-4dd9-e29f-768d28385d0a",
        "colab": {
          "base_uri": "https://localhost:8080/",
          "height": 1000
        }
      },
      "source": [
        "(train_loss, train_acc, test_loss, test_acc) = trainer.train_model(epochs=20, lambda_l1=0.0001)"
      ],
      "execution_count": null,
      "outputs": [
        {
          "output_type": "stream",
          "text": [
            "/usr/local/lib/python3.6/dist-packages/torch/optim/lr_scheduler.py:231: UserWarning: To get the last learning rate computed by the scheduler, please use `get_last_lr()`.\n",
            "  warnings.warn(\"To get the last learning rate computed by the scheduler, \"\n",
            "\r  0%|          | 0/98 [00:00<?, ?it/s]"
          ],
          "name": "stderr"
        },
        {
          "output_type": "stream",
          "text": [
            "\n",
            "Current EPOCH: 0\n",
            "Current EPOCH: 0 last LR= [0.0] LR =  [0.0]\n"
          ],
          "name": "stdout"
        },
        {
          "output_type": "stream",
          "text": [
            "Train set: Loss=9.099780082702637 Batch_id=97 Accuracy=9.46: 100%|██████████| 98/98 [00:26<00:00,  3.69it/s]\n",
            "  0%|          | 0/98 [00:00<?, ?it/s]"
          ],
          "name": "stderr"
        },
        {
          "output_type": "stream",
          "text": [
            "\n",
            "Test set: Average loss: 0.0060, Accuracy: 941/10000 (9.41%)\n",
            "\n",
            "\n",
            "Current EPOCH: 1\n",
            "Current EPOCH: 1 last LR= [0.005] LR =  [0.005]\n"
          ],
          "name": "stdout"
        },
        {
          "output_type": "stream",
          "text": [
            "Train set: Loss=11.240676879882812 Batch_id=97 Accuracy=13.59: 100%|██████████| 98/98 [00:26<00:00,  3.72it/s]\n",
            "  0%|          | 0/98 [00:00<?, ?it/s]"
          ],
          "name": "stderr"
        },
        {
          "output_type": "stream",
          "text": [
            "\n",
            "Test set: Average loss: 0.0131, Accuracy: 2198/10000 (21.98%)\n",
            "\n",
            "\n",
            "Current EPOCH: 2\n",
            "Current EPOCH: 2 last LR= [0.02] LR =  [0.02]\n"
          ],
          "name": "stdout"
        },
        {
          "output_type": "stream",
          "text": [
            "Train set: Loss=7.6305084228515625 Batch_id=97 Accuracy=17.61: 100%|██████████| 98/98 [00:26<00:00,  3.70it/s]\n",
            "  0%|          | 0/98 [00:00<?, ?it/s]"
          ],
          "name": "stderr"
        },
        {
          "output_type": "stream",
          "text": [
            "\n",
            "Test set: Average loss: 0.0046, Accuracy: 2155/10000 (21.55%)\n",
            "\n",
            "\n",
            "Current EPOCH: 3\n",
            "Current EPOCH: 3 last LR= [0.045] LR =  [0.045]\n"
          ],
          "name": "stdout"
        },
        {
          "output_type": "stream",
          "text": [
            "Train set: Loss=4.7041850090026855 Batch_id=97 Accuracy=27.16: 100%|██████████| 98/98 [00:26<00:00,  3.70it/s]\n",
            "  0%|          | 0/98 [00:00<?, ?it/s]"
          ],
          "name": "stderr"
        },
        {
          "output_type": "stream",
          "text": [
            "\n",
            "Test set: Average loss: 0.0036, Accuracy: 3225/10000 (32.25%)\n",
            "\n",
            "\n",
            "Current EPOCH: 4\n",
            "Current EPOCH: 4 last LR= [0.08] LR =  [0.08]\n"
          ],
          "name": "stdout"
        },
        {
          "output_type": "stream",
          "text": [
            "Train set: Loss=3.731074810028076 Batch_id=97 Accuracy=35.19: 100%|██████████| 98/98 [00:26<00:00,  3.71it/s]\n",
            "  0%|          | 0/98 [00:00<?, ?it/s]"
          ],
          "name": "stderr"
        },
        {
          "output_type": "stream",
          "text": [
            "\n",
            "Test set: Average loss: 0.0031, Accuracy: 4525/10000 (45.25%)\n",
            "\n",
            "\n",
            "Current EPOCH: 5\n",
            "Current EPOCH: 5 last LR= [0.125] LR =  [0.125]\n"
          ],
          "name": "stdout"
        },
        {
          "output_type": "stream",
          "text": [
            "Train set: Loss=4.720645904541016 Batch_id=97 Accuracy=45.70: 100%|██████████| 98/98 [00:26<00:00,  3.68it/s]\n",
            "  0%|          | 0/98 [00:00<?, ?it/s]"
          ],
          "name": "stderr"
        },
        {
          "output_type": "stream",
          "text": [
            "\n",
            "Test set: Average loss: 0.0034, Accuracy: 4616/10000 (46.16%)\n",
            "\n",
            "\n",
            "Current EPOCH: 6\n",
            "Current EPOCH: 6 last LR= [0.18] LR =  [0.18]\n"
          ],
          "name": "stdout"
        },
        {
          "output_type": "stream",
          "text": [
            "Train set: Loss=3.5759215354919434 Batch_id=97 Accuracy=56.87: 100%|██████████| 98/98 [00:26<00:00,  3.65it/s]\n",
            "  0%|          | 0/98 [00:00<?, ?it/s]"
          ],
          "name": "stderr"
        },
        {
          "output_type": "stream",
          "text": [
            "\n",
            "Test set: Average loss: 0.0032, Accuracy: 4840/10000 (48.40%)\n",
            "\n",
            "\n",
            "Current EPOCH: 7\n",
            "Current EPOCH: 7 last LR= [0.245] LR =  [0.245]\n"
          ],
          "name": "stdout"
        },
        {
          "output_type": "stream",
          "text": [
            "Train set: Loss=2.924344539642334 Batch_id=97 Accuracy=66.23: 100%|██████████| 98/98 [00:26<00:00,  3.64it/s]\n",
            "  0%|          | 0/98 [00:00<?, ?it/s]"
          ],
          "name": "stderr"
        },
        {
          "output_type": "stream",
          "text": [
            "\n",
            "Test set: Average loss: 0.0021, Accuracy: 6533/10000 (65.33%)\n",
            "\n",
            "\n",
            "Current EPOCH: 8\n",
            "Current EPOCH: 8 last LR= [0.32] LR =  [0.32]\n"
          ],
          "name": "stdout"
        },
        {
          "output_type": "stream",
          "text": [
            "Train set: Loss=2.4328484535217285 Batch_id=97 Accuracy=72.85: 100%|██████████| 98/98 [00:27<00:00,  3.62it/s]\n",
            "  0%|          | 0/98 [00:00<?, ?it/s]"
          ],
          "name": "stderr"
        },
        {
          "output_type": "stream",
          "text": [
            "\n",
            "Test set: Average loss: 0.0016, Accuracy: 7269/10000 (72.69%)\n",
            "\n",
            "\n",
            "Current EPOCH: 9\n",
            "Current EPOCH: 9 last LR= [0.405] LR =  [0.405]\n"
          ],
          "name": "stdout"
        },
        {
          "output_type": "stream",
          "text": [
            "Train set: Loss=2.32267427444458 Batch_id=97 Accuracy=74.34: 100%|██████████| 98/98 [00:26<00:00,  3.65it/s]\n",
            "  0%|          | 0/98 [00:00<?, ?it/s]"
          ],
          "name": "stderr"
        },
        {
          "output_type": "stream",
          "text": [
            "\n",
            "Test set: Average loss: 0.0019, Accuracy: 6847/10000 (68.47%)\n",
            "\n",
            "\n",
            "Current EPOCH: 10\n",
            "Current EPOCH: 10 last LR= [0.5] LR =  [0.5]\n"
          ],
          "name": "stdout"
        },
        {
          "output_type": "stream",
          "text": [
            "Train set: Loss=2.2764294147491455 Batch_id=97 Accuracy=75.23: 100%|██████████| 98/98 [00:26<00:00,  3.63it/s]\n",
            "  0%|          | 0/98 [00:00<?, ?it/s]"
          ],
          "name": "stderr"
        },
        {
          "output_type": "stream",
          "text": [
            "\n",
            "Test set: Average loss: 0.0024, Accuracy: 6084/10000 (60.84%)\n",
            "\n",
            "\n",
            "Current EPOCH: 11\n",
            "Current EPOCH: 11 last LR= [0.605] LR =  [0.605]\n"
          ],
          "name": "stdout"
        },
        {
          "output_type": "stream",
          "text": [
            "Train set: Loss=2.039242744445801 Batch_id=97 Accuracy=75.20: 100%|██████████| 98/98 [00:27<00:00,  3.62it/s]\n",
            "  0%|          | 0/98 [00:00<?, ?it/s]"
          ],
          "name": "stderr"
        },
        {
          "output_type": "stream",
          "text": [
            "\n",
            "Test set: Average loss: 0.0024, Accuracy: 6330/10000 (63.30%)\n",
            "\n",
            "\n",
            "Current EPOCH: 12\n",
            "Current EPOCH: 12 last LR= [0.72] LR =  [0.72]\n"
          ],
          "name": "stdout"
        },
        {
          "output_type": "stream",
          "text": [
            "Train set: Loss=1.7433292865753174 Batch_id=97 Accuracy=74.99: 100%|██████████| 98/98 [00:26<00:00,  3.65it/s]\n",
            "  0%|          | 0/98 [00:00<?, ?it/s]"
          ],
          "name": "stderr"
        },
        {
          "output_type": "stream",
          "text": [
            "\n",
            "Test set: Average loss: 0.0022, Accuracy: 6338/10000 (63.38%)\n",
            "\n",
            "\n",
            "Current EPOCH: 13\n",
            "Current EPOCH: 13 last LR= [0.845] LR =  [0.845]\n"
          ],
          "name": "stdout"
        },
        {
          "output_type": "stream",
          "text": [
            "Train set: Loss=1.7804887294769287 Batch_id=97 Accuracy=74.32: 100%|██████████| 98/98 [00:26<00:00,  3.65it/s]\n",
            "  0%|          | 0/98 [00:00<?, ?it/s]"
          ],
          "name": "stderr"
        },
        {
          "output_type": "stream",
          "text": [
            "\n",
            "Test set: Average loss: 0.0021, Accuracy: 6582/10000 (65.82%)\n",
            "\n",
            "\n",
            "Current EPOCH: 14\n",
            "Current EPOCH: 14 last LR= [0.98] LR =  [0.98]\n"
          ],
          "name": "stdout"
        },
        {
          "output_type": "stream",
          "text": [
            "Train set: Loss=1.8265284299850464 Batch_id=97 Accuracy=73.76: 100%|██████████| 98/98 [00:26<00:00,  3.63it/s]\n",
            "  0%|          | 0/98 [00:00<?, ?it/s]"
          ],
          "name": "stderr"
        },
        {
          "output_type": "stream",
          "text": [
            "\n",
            "Test set: Average loss: 0.0027, Accuracy: 5798/10000 (57.98%)\n",
            "\n",
            "\n",
            "Current EPOCH: 15\n",
            "Current EPOCH: 15 last LR= [1.125] LR =  [1.125]\n"
          ],
          "name": "stdout"
        },
        {
          "output_type": "stream",
          "text": [
            "Train set: Loss=1.8482868671417236 Batch_id=97 Accuracy=71.86: 100%|██████████| 98/98 [00:26<00:00,  3.64it/s]\n",
            "  0%|          | 0/98 [00:00<?, ?it/s]"
          ],
          "name": "stderr"
        },
        {
          "output_type": "stream",
          "text": [
            "\n",
            "Test set: Average loss: 0.0023, Accuracy: 6374/10000 (63.74%)\n",
            "\n",
            "\n",
            "Current EPOCH: 16\n",
            "Current EPOCH: 16 last LR= [1.28] LR =  [1.28]\n"
          ],
          "name": "stdout"
        },
        {
          "output_type": "stream",
          "text": [
            "Train set: Loss=1.973915457725525 Batch_id=97 Accuracy=71.31: 100%|██████████| 98/98 [00:26<00:00,  3.63it/s]\n",
            "  0%|          | 0/98 [00:00<?, ?it/s]"
          ],
          "name": "stderr"
        },
        {
          "output_type": "stream",
          "text": [
            "\n",
            "Test set: Average loss: 0.0024, Accuracy: 5951/10000 (59.51%)\n",
            "\n",
            "\n",
            "Current EPOCH: 17\n",
            "Current EPOCH: 17 last LR= [1.445] LR =  [1.445]\n"
          ],
          "name": "stdout"
        },
        {
          "output_type": "stream",
          "text": [
            "Train set: Loss=1.8598220348358154 Batch_id=97 Accuracy=69.68: 100%|██████████| 98/98 [00:27<00:00,  3.62it/s]\n",
            "  0%|          | 0/98 [00:00<?, ?it/s]"
          ],
          "name": "stderr"
        },
        {
          "output_type": "stream",
          "text": [
            "\n",
            "Test set: Average loss: 0.0024, Accuracy: 6028/10000 (60.28%)\n",
            "\n",
            "\n",
            "Current EPOCH: 18\n",
            "Current EPOCH: 18 last LR= [1.62] LR =  [1.62]\n"
          ],
          "name": "stdout"
        },
        {
          "output_type": "stream",
          "text": [
            "Train set: Loss=1.9853755235671997 Batch_id=97 Accuracy=66.61: 100%|██████████| 98/98 [00:26<00:00,  3.64it/s]\n",
            "  0%|          | 0/98 [00:00<?, ?it/s]"
          ],
          "name": "stderr"
        },
        {
          "output_type": "stream",
          "text": [
            "\n",
            "Test set: Average loss: 0.0043, Accuracy: 4235/10000 (42.35%)\n",
            "\n",
            "\n",
            "Current EPOCH: 19\n",
            "Current EPOCH: 19 last LR= [1.805] LR =  [1.805]\n"
          ],
          "name": "stdout"
        },
        {
          "output_type": "stream",
          "text": [
            "Train set: Loss=2.004213571548462 Batch_id=97 Accuracy=65.26: 100%|██████████| 98/98 [00:26<00:00,  3.63it/s]\n"
          ],
          "name": "stderr"
        },
        {
          "output_type": "stream",
          "text": [
            "\n",
            "Test set: Average loss: 0.0031, Accuracy: 5136/10000 (51.36%)\n",
            "\n"
          ],
          "name": "stdout"
        }
      ]
    },
    {
      "cell_type": "code",
      "metadata": {
        "id": "nmHdIipQuKrC"
      },
      "source": [
        "lr = [0,0.005,0.02,0.045,0.08,0.125,0.18,0.245,0.32,0.405,0.5,0.605,0.72,0.845, 0.98, 1.125, 1.28, 1.445, 1.62, 1.805]"
      ],
      "execution_count": null,
      "outputs": []
    },
    {
      "cell_type": "code",
      "metadata": {
        "id": "3rM4KCUBEAuX",
        "outputId": "68a61aed-a3e5-49a9-a816-aed78281e482",
        "colab": {
          "base_uri": "https://localhost:8080/",
          "height": 34
        }
      },
      "source": [
        "(train_loss[0].item())"
      ],
      "execution_count": null,
      "outputs": [
        {
          "output_type": "execute_result",
          "data": {
            "text/plain": [
              "9.099780082702637"
            ]
          },
          "metadata": {
            "tags": []
          },
          "execution_count": 15
        }
      ]
    },
    {
      "cell_type": "code",
      "metadata": {
        "id": "WN_VrDQ-FdRc",
        "outputId": "7d0374c3-bc55-4155-86b9-2f6cf51f6ef1",
        "colab": {
          "base_uri": "https://localhost:8080/",
          "height": 282
        }
      },
      "source": [
        "plt.plot(lr,train_loss)"
      ],
      "execution_count": null,
      "outputs": [
        {
          "output_type": "execute_result",
          "data": {
            "text/plain": [
              "[<matplotlib.lines.Line2D at 0x7f933a236278>]"
            ]
          },
          "metadata": {
            "tags": []
          },
          "execution_count": 16
        },
        {
          "output_type": "display_data",
          "data": {
            "image/png": "[encoded data removed]",
            "text/plain": [
              "<Figure size 432x288 with 1 Axes>"
            ]
          },
          "metadata": {
            "tags": [],
            "needs_background": "light"
          }
        }
      ]
    },
    {
      "cell_type": "code",
      "metadata": {
        "id": "lcWjFskDFh6q",
        "outputId": "f2f3dfd1-362d-48d0-c830-cdcb5f452314",
        "colab": {
          "base_uri": "https://localhost:8080/",
          "height": 282
        }
      },
      "source": [
        "plt.plot(lr,train_acc)"
      ],
      "execution_count": null,
      "outputs": [
        {
          "output_type": "execute_result",
          "data": {
            "text/plain": [
              "[<matplotlib.lines.Line2D at 0x7f933a4b80f0>]"
            ]
          },
          "metadata": {
            "tags": []
          },
          "execution_count": 17
        },
        {
          "output_type": "display_data",
          "data": {
            "image/png": "[encoded data removed]",
            "text/plain": [
              "<Figure size 432x288 with 1 Axes>"
            ]
          },
          "metadata": {
            "tags": [],
            "needs_background": "light"
          }
        }
      ]
    },
    {
      "cell_type": "markdown",
      "metadata": {
        "id": "ISqaBjWpFsrM"
      },
      "source": [
        "With OneCycle"
      ]
    },
    {
      "cell_type": "code",
      "metadata": {
        "id": "k0wiYr2SGhXy"
      },
      "source": [
        "max_at_epoch = 5\n",
        "epoch = 24"
      ],
      "execution_count": null,
      "outputs": []
    },
    {
      "cell_type": "code",
      "metadata": {
        "id": "Ev7jyGKNFjMQ"
      },
      "source": [
        "model =  CIFARS10Model().to(device)\n",
        "optimizer = optim.SGD(model.parameters(), lr=0.06, momentum=0.9, weight_decay=6e-4)\n",
        "pct = max_at_epoch / epoch\n",
        "scheduler = OneCycleLR(optimizer, max_lr=0.6, pct_start=pct , steps_per_epoch=len(data.train_loader), div_factor=10, cycle_momentum=False, epochs=25)"
      ],
      "execution_count": null,
      "outputs": []
    },
    {
      "cell_type": "code",
      "metadata": {
        "id": "pzP-ZIGCGxPv"
      },
      "source": [
        "trainer = Trainer(model, \n",
        "                  device,\n",
        "                  train_loader=data.train_loader, \n",
        "                  test_loader = data.test_loader, \n",
        "                  optimizer = optimizer, \n",
        "                  loss_func = criterion, \n",
        "                  lr_scheduler = scheduler) "
      ],
      "execution_count": null,
      "outputs": []
    },
    {
      "cell_type": "code",
      "metadata": {
        "id": "EkIpqe3YGL1V",
        "outputId": "88229c74-a9ed-4775-e5f3-caadaaa1efa5",
        "colab": {
          "base_uri": "https://localhost:8080/",
          "height": 1000
        }
      },
      "source": [
        "(train_loss, train_acc, test_loss, test_acc) = trainer.train_model(epochs=epoch, lambda_l1=0.0001)"
      ],
      "execution_count": null,
      "outputs": [
        {
          "output_type": "stream",
          "text": [
            "/usr/local/lib/python3.6/dist-packages/torch/optim/lr_scheduler.py:1206: UserWarning: To get the last learning rate computed by the scheduler, please use `get_last_lr()`.\n",
            "  \"please use `get_last_lr()`.\", UserWarning)\n",
            "\r  0%|          | 0/98 [00:00<?, ?it/s]"
          ],
          "name": "stderr"
        },
        {
          "output_type": "stream",
          "text": [
            "\n",
            "Current EPOCH: 0\n",
            "Current EPOCH: 0 last LR= [0.05999999999999994] LR =  [0.05999999999999994]\n"
          ],
          "name": "stdout"
        },
        {
          "output_type": "stream",
          "text": [
            "Train set: Loss=7.375663757324219 Batch_id=97 Accuracy=11.09: 100%|██████████| 98/98 [00:27<00:00,  3.63it/s]\n",
            "  0%|          | 0/98 [00:00<?, ?it/s]"
          ],
          "name": "stderr"
        },
        {
          "output_type": "stream",
          "text": [
            "\n",
            "Test set: Average loss: 0.0045, Accuracy: 1258/10000 (12.58%)\n",
            "\n",
            "\n",
            "Current EPOCH: 1\n",
            "Current EPOCH: 1 last LR= [0.10877811173021812] LR =  [0.10877811173021812]\n"
          ],
          "name": "stdout"
        },
        {
          "output_type": "stream",
          "text": [
            "Train set: Loss=5.6515583992004395 Batch_id=97 Accuracy=16.27: 100%|██████████| 98/98 [00:27<00:00,  3.63it/s]\n",
            "  0%|          | 0/98 [00:00<?, ?it/s]"
          ],
          "name": "stderr"
        },
        {
          "output_type": "stream",
          "text": [
            "\n",
            "Test set: Average loss: 0.0137, Accuracy: 1516/10000 (15.16%)\n",
            "\n",
            "\n",
            "Current EPOCH: 2\n",
            "Current EPOCH: 2 last LR= [0.23748797148409007] LR =  [0.23748797148409007]\n"
          ],
          "name": "stdout"
        },
        {
          "output_type": "stream",
          "text": [
            "Train set: Loss=6.2227983474731445 Batch_id=97 Accuracy=28.25: 100%|██████████| 98/98 [00:27<00:00,  3.62it/s]\n",
            "  0%|          | 0/98 [00:00<?, ?it/s]"
          ],
          "name": "stderr"
        },
        {
          "output_type": "stream",
          "text": [
            "\n",
            "Test set: Average loss: 0.0035, Accuracy: 3534/10000 (35.34%)\n",
            "\n",
            "\n",
            "Current EPOCH: 3\n",
            "Current EPOCH: 3 last LR= [0.39962421689231903] LR =  [0.39962421689231903]\n"
          ],
          "name": "stdout"
        },
        {
          "output_type": "stream",
          "text": [
            "Train set: Loss=3.531074047088623 Batch_id=97 Accuracy=43.38: 100%|██████████| 98/98 [00:27<00:00,  3.63it/s]\n",
            "  0%|          | 0/98 [00:00<?, ?it/s]"
          ],
          "name": "stderr"
        },
        {
          "output_type": "stream",
          "text": [
            "\n",
            "Test set: Average loss: 0.0037, Accuracy: 3833/10000 (38.33%)\n",
            "\n",
            "\n",
            "Current EPOCH: 4\n",
            "Current EPOCH: 4 last LR= [0.5366038857768258] LR =  [0.5366038857768258]\n"
          ],
          "name": "stdout"
        },
        {
          "output_type": "stream",
          "text": [
            "Train set: Loss=2.4260194301605225 Batch_id=97 Accuracy=53.21: 100%|██████████| 98/98 [00:27<00:00,  3.62it/s]\n",
            "  0%|          | 0/98 [00:00<?, ?it/s]"
          ],
          "name": "stderr"
        },
        {
          "output_type": "stream",
          "text": [
            "\n",
            "Test set: Average loss: 0.0028, Accuracy: 5033/10000 (50.33%)\n",
            "\n",
            "\n",
            "Current EPOCH: 5\n",
            "Current EPOCH: 5 last LR= [0.5989335737404493] LR =  [0.5989335737404493]\n"
          ],
          "name": "stdout"
        },
        {
          "output_type": "stream",
          "text": [
            "Train set: Loss=1.6424819231033325 Batch_id=97 Accuracy=61.97: 100%|██████████| 98/98 [00:26<00:00,  3.65it/s]\n",
            "  0%|          | 0/98 [00:00<?, ?it/s]"
          ],
          "name": "stderr"
        },
        {
          "output_type": "stream",
          "text": [
            "\n",
            "Test set: Average loss: 0.0028, Accuracy: 5510/10000 (55.10%)\n",
            "\n",
            "\n",
            "Current EPOCH: 6\n",
            "Current EPOCH: 6 last LR= [0.5971890056678925] LR =  [0.5971890056678925]\n"
          ],
          "name": "stdout"
        },
        {
          "output_type": "stream",
          "text": [
            "Train set: Loss=1.2346736192703247 Batch_id=97 Accuracy=66.65: 100%|██████████| 98/98 [00:27<00:00,  3.63it/s]\n",
            "  0%|          | 0/98 [00:00<?, ?it/s]"
          ],
          "name": "stderr"
        },
        {
          "output_type": "stream",
          "text": [
            "\n",
            "Test set: Average loss: 0.0028, Accuracy: 5471/10000 (54.71%)\n",
            "\n",
            "\n",
            "Current EPOCH: 7\n",
            "Current EPOCH: 7 last LR= [0.5868346048932719] LR =  [0.5868346048932719]\n"
          ],
          "name": "stdout"
        },
        {
          "output_type": "stream",
          "text": [
            "Train set: Loss=1.5357564687728882 Batch_id=97 Accuracy=68.17: 100%|██████████| 98/98 [00:26<00:00,  3.63it/s]\n",
            "  0%|          | 0/98 [00:00<?, ?it/s]"
          ],
          "name": "stderr"
        },
        {
          "output_type": "stream",
          "text": [
            "\n",
            "Test set: Average loss: 0.0033, Accuracy: 5240/10000 (52.40%)\n",
            "\n",
            "\n",
            "Current EPOCH: 8\n",
            "Current EPOCH: 8 last LR= [0.5691206845361106] LR =  [0.5691206845361106]\n"
          ],
          "name": "stdout"
        },
        {
          "output_type": "stream",
          "text": [
            "Train set: Loss=1.3053252696990967 Batch_id=97 Accuracy=69.32: 100%|██████████| 98/98 [00:27<00:00,  3.61it/s]\n",
            "  0%|          | 0/98 [00:00<?, ?it/s]"
          ],
          "name": "stderr"
        },
        {
          "output_type": "stream",
          "text": [
            "\n",
            "Test set: Average loss: 0.0028, Accuracy: 5451/10000 (54.51%)\n",
            "\n",
            "\n",
            "Current EPOCH: 9\n",
            "Current EPOCH: 9 last LR= [0.5445017480107051] LR =  [0.5445017480107051]\n"
          ],
          "name": "stdout"
        },
        {
          "output_type": "stream",
          "text": [
            "Train set: Loss=1.1659001111984253 Batch_id=97 Accuracy=71.01: 100%|██████████| 98/98 [00:27<00:00,  3.61it/s]\n",
            "  0%|          | 0/98 [00:00<?, ?it/s]"
          ],
          "name": "stderr"
        },
        {
          "output_type": "stream",
          "text": [
            "\n",
            "Test set: Average loss: 0.0028, Accuracy: 5470/10000 (54.70%)\n",
            "\n",
            "\n",
            "Current EPOCH: 10\n",
            "Current EPOCH: 10 last LR= [0.5136094674981158] LR =  [0.5136094674981158]\n"
          ],
          "name": "stdout"
        },
        {
          "output_type": "stream",
          "text": [
            "Train set: Loss=1.2153816223144531 Batch_id=97 Accuracy=71.50: 100%|██████████| 98/98 [00:27<00:00,  3.62it/s]\n",
            "  0%|          | 0/98 [00:00<?, ?it/s]"
          ],
          "name": "stderr"
        },
        {
          "output_type": "stream",
          "text": [
            "\n",
            "Test set: Average loss: 0.0026, Accuracy: 5558/10000 (55.58%)\n",
            "\n",
            "\n",
            "Current EPOCH: 11\n",
            "Current EPOCH: 11 last LR= [0.4772364765139777] LR =  [0.4772364765139777]\n"
          ],
          "name": "stdout"
        },
        {
          "output_type": "stream",
          "text": [
            "Train set: Loss=1.1640596389770508 Batch_id=97 Accuracy=71.84: 100%|██████████| 98/98 [00:27<00:00,  3.61it/s]\n",
            "  0%|          | 0/98 [00:00<?, ?it/s]"
          ],
          "name": "stderr"
        },
        {
          "output_type": "stream",
          "text": [
            "\n",
            "Test set: Average loss: 0.0029, Accuracy: 5596/10000 (55.96%)\n",
            "\n",
            "\n",
            "Current EPOCH: 12\n",
            "Current EPOCH: 12 last LR= [0.436316032533606] LR =  [0.436316032533606]\n"
          ],
          "name": "stdout"
        },
        {
          "output_type": "stream",
          "text": [
            "Train set: Loss=1.1763548851013184 Batch_id=97 Accuracy=73.19: 100%|██████████| 98/98 [00:27<00:00,  3.63it/s]\n",
            "  0%|          | 0/98 [00:00<?, ?it/s]"
          ],
          "name": "stderr"
        },
        {
          "output_type": "stream",
          "text": [
            "\n",
            "Test set: Average loss: 0.0018, Accuracy: 6977/10000 (69.77%)\n",
            "\n",
            "\n",
            "Current EPOCH: 13\n",
            "Current EPOCH: 13 last LR= [0.3918980714903575] LR =  [0.3918980714903575]\n"
          ],
          "name": "stdout"
        },
        {
          "output_type": "stream",
          "text": [
            "Train set: Loss=1.0012820959091187 Batch_id=97 Accuracy=74.99: 100%|██████████| 98/98 [00:26<00:00,  3.64it/s]\n",
            "  0%|          | 0/98 [00:00<?, ?it/s]"
          ],
          "name": "stderr"
        },
        {
          "output_type": "stream",
          "text": [
            "\n",
            "Test set: Average loss: 0.0018, Accuracy: 7000/10000 (70.00%)\n",
            "\n",
            "\n",
            "Current EPOCH: 14\n",
            "Current EPOCH: 14 last LR= [0.34512226854044775] LR =  [0.34512226854044775]\n"
          ],
          "name": "stdout"
        },
        {
          "output_type": "stream",
          "text": [
            "Train set: Loss=0.920612096786499 Batch_id=97 Accuracy=76.22: 100%|██████████| 98/98 [00:27<00:00,  3.62it/s]\n",
            "  0%|          | 0/98 [00:00<?, ?it/s]"
          ],
          "name": "stderr"
        },
        {
          "output_type": "stream",
          "text": [
            "\n",
            "Test set: Average loss: 0.0016, Accuracy: 7296/10000 (72.96%)\n",
            "\n",
            "\n",
            "Current EPOCH: 15\n",
            "Current EPOCH: 15 last LR= [0.29718879630058337] LR =  [0.29718879630058337]\n"
          ],
          "name": "stdout"
        },
        {
          "output_type": "stream",
          "text": [
            "Train set: Loss=0.9205041527748108 Batch_id=97 Accuracy=77.15: 100%|██████████| 98/98 [00:27<00:00,  3.63it/s]\n",
            "  0%|          | 0/98 [00:00<?, ?it/s]"
          ],
          "name": "stderr"
        },
        {
          "output_type": "stream",
          "text": [
            "\n",
            "Test set: Average loss: 0.0016, Accuracy: 7190/10000 (71.90%)\n",
            "\n",
            "\n",
            "Current EPOCH: 16\n",
            "Current EPOCH: 16 last LR= [0.2493275308429625] LR =  [0.2493275308429625]\n"
          ],
          "name": "stdout"
        },
        {
          "output_type": "stream",
          "text": [
            "Train set: Loss=0.9202966690063477 Batch_id=97 Accuracy=78.47: 100%|██████████| 98/98 [00:27<00:00,  3.62it/s]\n",
            "  0%|          | 0/98 [00:00<?, ?it/s]"
          ],
          "name": "stderr"
        },
        {
          "output_type": "stream",
          "text": [
            "\n",
            "Test set: Average loss: 0.0027, Accuracy: 6031/10000 (60.31%)\n",
            "\n",
            "\n",
            "Current EPOCH: 17\n",
            "Current EPOCH: 17 last LR= [0.20276649555960868] LR =  [0.20276649555960868]\n"
          ],
          "name": "stdout"
        },
        {
          "output_type": "stream",
          "text": [
            "Train set: Loss=0.8600121736526489 Batch_id=97 Accuracy=79.36: 100%|██████████| 98/98 [00:26<00:00,  3.64it/s]\n",
            "  0%|          | 0/98 [00:00<?, ?it/s]"
          ],
          "name": "stderr"
        },
        {
          "output_type": "stream",
          "text": [
            "\n",
            "Test set: Average loss: 0.0013, Accuracy: 7774/10000 (77.74%)\n",
            "\n",
            "\n",
            "Current EPOCH: 18\n",
            "Current EPOCH: 18 last LR= [0.15870035256273476] LR =  [0.15870035256273476]\n"
          ],
          "name": "stdout"
        },
        {
          "output_type": "stream",
          "text": [
            "Train set: Loss=0.9283092021942139 Batch_id=97 Accuracy=80.62: 100%|██████████| 98/98 [00:26<00:00,  3.65it/s]\n",
            "  0%|          | 0/98 [00:00<?, ?it/s]"
          ],
          "name": "stderr"
        },
        {
          "output_type": "stream",
          "text": [
            "\n",
            "Test set: Average loss: 0.0014, Accuracy: 7693/10000 (76.93%)\n",
            "\n",
            "\n",
            "Current EPOCH: 19\n",
            "Current EPOCH: 19 last LR= [0.11825975006815784] LR =  [0.11825975006815784]\n"
          ],
          "name": "stdout"
        },
        {
          "output_type": "stream",
          "text": [
            "Train set: Loss=0.681675910949707 Batch_id=97 Accuracy=82.00: 100%|██████████| 98/98 [00:27<00:00,  3.62it/s]\n",
            "  0%|          | 0/98 [00:00<?, ?it/s]"
          ],
          "name": "stderr"
        },
        {
          "output_type": "stream",
          "text": [
            "\n",
            "Test set: Average loss: 0.0013, Accuracy: 7704/10000 (77.04%)\n",
            "\n",
            "\n",
            "Current EPOCH: 20\n",
            "Current EPOCH: 20 last LR= [0.08248231224598725] LR =  [0.08248231224598725]\n"
          ],
          "name": "stdout"
        },
        {
          "output_type": "stream",
          "text": [
            "Train set: Loss=0.6731320023536682 Batch_id=97 Accuracy=83.49: 100%|██████████| 98/98 [00:26<00:00,  3.64it/s]\n",
            "  0%|          | 0/98 [00:00<?, ?it/s]"
          ],
          "name": "stderr"
        },
        {
          "output_type": "stream",
          "text": [
            "\n",
            "Test set: Average loss: 0.0011, Accuracy: 8079/10000 (80.79%)\n",
            "\n",
            "\n",
            "Current EPOCH: 21\n",
            "Current EPOCH: 21 last LR= [0.05228601588041824] LR =  [0.05228601588041824]\n"
          ],
          "name": "stdout"
        },
        {
          "output_type": "stream",
          "text": [
            "Train set: Loss=0.5996974110603333 Batch_id=97 Accuracy=85.00: 100%|██████████| 98/98 [00:26<00:00,  3.66it/s]\n",
            "  0%|          | 0/98 [00:00<?, ?it/s]"
          ],
          "name": "stderr"
        },
        {
          "output_type": "stream",
          "text": [
            "\n",
            "Test set: Average loss: 0.0010, Accuracy: 8316/10000 (83.16%)\n",
            "\n",
            "\n",
            "Current EPOCH: 22\n",
            "Current EPOCH: 22 last LR= [0.028445636939759017] LR =  [0.028445636939759017]\n"
          ],
          "name": "stdout"
        },
        {
          "output_type": "stream",
          "text": [
            "Train set: Loss=0.6842373609542847 Batch_id=97 Accuracy=86.11: 100%|██████████| 98/98 [00:26<00:00,  3.63it/s]\n",
            "  0%|          | 0/98 [00:00<?, ?it/s]"
          ],
          "name": "stderr"
        },
        {
          "output_type": "stream",
          "text": [
            "\n",
            "Test set: Average loss: 0.0009, Accuracy: 8490/10000 (84.90%)\n",
            "\n",
            "\n",
            "Current EPOCH: 23\n",
            "Current EPOCH: 23 last LR= [0.011572871390129568] LR =  [0.011572871390129568]\n"
          ],
          "name": "stdout"
        },
        {
          "output_type": "stream",
          "text": [
            "Train set: Loss=0.5729784369468689 Batch_id=97 Accuracy=87.21: 100%|██████████| 98/98 [00:26<00:00,  3.65it/s]\n"
          ],
          "name": "stderr"
        },
        {
          "output_type": "stream",
          "text": [
            "\n",
            "Test set: Average loss: 0.0009, Accuracy: 8513/10000 (85.13%)\n",
            "\n"
          ],
          "name": "stdout"
        }
      ]
    },
    {
      "cell_type": "code",
      "metadata": {
        "id": "-VAY3B1ZHS92"
      },
      "source": [
        ""
      ],
      "execution_count": null,
      "outputs": []
    },
    {
      "cell_type": "code",
      "metadata": {
        "id": "vkAq_3isHTBu"
      },
      "source": [
        ""
      ],
      "execution_count": null,
      "outputs": []
    },
    {
      "cell_type": "code",
      "metadata": {
        "id": "-APAfEltKYbG"
      },
      "source": [
        "classes = ('plane', 'car', 'bird', 'cat', 'deer', 'dog',\n",
        "\t\t\t'frog', 'horse', 'ship', 'truck')"
      ],
      "execution_count": null,
      "outputs": []
    },
    {
      "cell_type": "code",
      "metadata": {
        "id": "bKLG7lioKZVV",
        "outputId": "7e535027-c004-411c-afb2-a81bc40e984c",
        "colab": {
          "base_uri": "https://localhost:8080/",
          "height": 548
        }
      },
      "source": [
        "trainer.classwise_acc(classes)"
      ],
      "execution_count": null,
      "outputs": [
        {
          "output_type": "stream",
          "text": [
            "\n",
            "Accuracy of plane : 66 %\n",
            "Accuracy of   car : 90 %\n",
            "Accuracy of  bird : 100 %\n",
            "Accuracy of   cat : 80 %\n",
            "Accuracy of  deer : 66 %\n",
            "Accuracy of   dog : 55 %\n",
            "Accuracy of  frog : 100 %\n",
            "Accuracy of horse : 100 %\n",
            "Accuracy of  ship : 100 %\n",
            "Accuracy of truck : 83 %\n",
            "\n"
          ],
          "name": "stdout"
        }
      ]
    },
    {
      "cell_type": "code",
      "metadata": {
        "id": "VLeIl6V1KbFp",
        "outputId": "17594cb9-431c-4271-d7e7-7176e6e2fde7",
        "colab": {
          "base_uri": "https://localhost:8080/",
          "height": 258
        }
      },
      "source": [
        "misclassified_imgs = trainer.get_misclassified()"
      ],
      "execution_count": null,
      "outputs": [
        {
          "output_type": "stream",
          "text": [
            "/content/EVA5/trainer/trainer.py:152: UserWarning: This overload of nonzero is deprecated:\n",
            "\tnonzero()\n",
            "Consider using one of the following signatures instead:\n",
            "\tnonzero(*, bool as_tuple) (Triggered internally at  /pytorch/torch/csrc/utils/python_arg_parser.cpp:766.)\n",
            "  misclassified_inds = (is_correct == 0).nonzero()[:, 0]\n"
          ],
          "name": "stderr"
        }
      ]
    },
    {
      "cell_type": "code",
      "metadata": {
        "id": "CWAEHg07KeIY",
        "outputId": "14b66797-383b-441c-cbc9-6a9113b4ca09",
        "colab": {
          "base_uri": "https://localhost:8080/",
          "height": 729
        }
      },
      "source": [
        "plot_misclassified_images(misclassified_imgs, classes, \"misclassified_images1.png\")"
      ],
      "execution_count": null,
      "outputs": [
        {
          "output_type": "display_data",
          "data": {
            "image/png": "[encoded data removed]",
            "text/plain": [
              "<Figure size 720x720 with 25 Axes>"
            ]
          },
          "metadata": {
            "tags": [],
            "needs_background": "light"
          }
        }
      ]
    },
    {
      "cell_type": "code",
      "metadata": {
        "id": "g35HICT2Kgp5",
        "outputId": "1ed36bd1-7e71-4afc-b24f-85b57d742830",
        "colab": {
          "base_uri": "https://localhost:8080/",
          "height": 607
        }
      },
      "source": [
        "from results import plot_metrics\n",
        "plot_metrics(train_loss, train_acc, test_loss, test_acc)"
      ],
      "execution_count": null,
      "outputs": [
        {
          "output_type": "display_data",
          "data": {
            "image/png": "[encoded data removed]",
            "text/plain": [
              "<Figure size 1080x720 with 4 Axes>"
            ]
          },
          "metadata": {
            "tags": [],
            "needs_background": "light"
          }
        }
      ]
    }
  ]
}