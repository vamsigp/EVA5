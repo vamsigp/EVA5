{
  "nbformat": 4,
  "nbformat_minor": 0,
  "metadata": {
    "colab": {
      "name": "S10-2.ipynb",
      "provenance": []
    },
    "kernelspec": {
      "name": "python3",
      "display_name": "Python 3"
    },
    "accelerator": "GPU",
    "widgets": {
      "application/vnd.jupyter.widget-state+json": {
        "fbaabded52434edf83fedf2cba777d81": {
          "model_module": "@jupyter-widgets/controls",
          "model_name": "HBoxModel",
          "state": {
            "_view_name": "HBoxView",
            "_dom_classes": [],
            "_model_name": "HBoxModel",
            "_view_module": "@jupyter-widgets/controls",
            "_model_module_version": "1.5.0",
            "_view_count": null,
            "_view_module_version": "1.5.0",
            "box_style": "",
            "layout": "IPY_MODEL_c94de23156604f8a808173df73d78139",
            "_model_module": "@jupyter-widgets/controls",
            "children": [
              "IPY_MODEL_64350bbd1d474a12a499ab770c3c74a7",
              "IPY_MODEL_d2633e02518b479c9db1a8b54abcbb3e"
            ]
          }
        },
        "c94de23156604f8a808173df73d78139": {
          "model_module": "@jupyter-widgets/base",
          "model_name": "LayoutModel",
          "state": {
            "_view_name": "LayoutView",
            "grid_template_rows": null,
            "right": null,
            "justify_content": null,
            "_view_module": "@jupyter-widgets/base",
            "overflow": null,
            "_model_module_version": "1.2.0",
            "_view_count": null,
            "flex_flow": null,
            "width": null,
            "min_width": null,
            "border": null,
            "align_items": null,
            "bottom": null,
            "_model_module": "@jupyter-widgets/base",
            "top": null,
            "grid_column": null,
            "overflow_y": null,
            "overflow_x": null,
            "grid_auto_flow": null,
            "grid_area": null,
            "grid_template_columns": null,
            "flex": null,
            "_model_name": "LayoutModel",
            "justify_items": null,
            "grid_row": null,
            "max_height": null,
            "align_content": null,
            "visibility": null,
            "align_self": null,
            "height": null,
            "min_height": null,
            "padding": null,
            "grid_auto_rows": null,
            "grid_gap": null,
            "max_width": null,
            "order": null,
            "_view_module_version": "1.2.0",
            "grid_template_areas": null,
            "object_position": null,
            "object_fit": null,
            "grid_auto_columns": null,
            "margin": null,
            "display": null,
            "left": null
          }
        },
        "64350bbd1d474a12a499ab770c3c74a7": {
          "model_module": "@jupyter-widgets/controls",
          "model_name": "FloatProgressModel",
          "state": {
            "_view_name": "ProgressView",
            "style": "IPY_MODEL_f9a38a16f0454bdf94782334f3d5cdc5",
            "_dom_classes": [],
            "description": "",
            "_model_name": "FloatProgressModel",
            "bar_style": "info",
            "max": 1,
            "_view_module": "@jupyter-widgets/controls",
            "_model_module_version": "1.5.0",
            "value": 1,
            "_view_count": null,
            "_view_module_version": "1.5.0",
            "orientation": "horizontal",
            "min": 0,
            "description_tooltip": null,
            "_model_module": "@jupyter-widgets/controls",
            "layout": "IPY_MODEL_963bd43ef13445a9919b8e4a2f7fac8a"
          }
        },
        "d2633e02518b479c9db1a8b54abcbb3e": {
          "model_module": "@jupyter-widgets/controls",
          "model_name": "HTMLModel",
          "state": {
            "_view_name": "HTMLView",
            "style": "IPY_MODEL_6676e4dbce3d4142a18d152cdb4dfd78",
            "_dom_classes": [],
            "description": "",
            "_model_name": "HTMLModel",
            "placeholder": "​",
            "_view_module": "@jupyter-widgets/controls",
            "_model_module_version": "1.5.0",
            "value": " 170500096/? [00:30&lt;00:00, 14576768.07it/s]",
            "_view_count": null,
            "_view_module_version": "1.5.0",
            "description_tooltip": null,
            "_model_module": "@jupyter-widgets/controls",
            "layout": "IPY_MODEL_9051718a82284500b06544bbd1029638"
          }
        },
        "f9a38a16f0454bdf94782334f3d5cdc5": {
          "model_module": "@jupyter-widgets/controls",
          "model_name": "ProgressStyleModel",
          "state": {
            "_view_name": "StyleView",
            "_model_name": "ProgressStyleModel",
            "description_width": "initial",
            "_view_module": "@jupyter-widgets/base",
            "_model_module_version": "1.5.0",
            "_view_count": null,
            "_view_module_version": "1.2.0",
            "bar_color": null,
            "_model_module": "@jupyter-widgets/controls"
          }
        },
        "963bd43ef13445a9919b8e4a2f7fac8a": {
          "model_module": "@jupyter-widgets/base",
          "model_name": "LayoutModel",
          "state": {
            "_view_name": "LayoutView",
            "grid_template_rows": null,
            "right": null,
            "justify_content": null,
            "_view_module": "@jupyter-widgets/base",
            "overflow": null,
            "_model_module_version": "1.2.0",
            "_view_count": null,
            "flex_flow": null,
            "width": null,
            "min_width": null,
            "border": null,
            "align_items": null,
            "bottom": null,
            "_model_module": "@jupyter-widgets/base",
            "top": null,
            "grid_column": null,
            "overflow_y": null,
            "overflow_x": null,
            "grid_auto_flow": null,
            "grid_area": null,
            "grid_template_columns": null,
            "flex": null,
            "_model_name": "LayoutModel",
            "justify_items": null,
            "grid_row": null,
            "max_height": null,
            "align_content": null,
            "visibility": null,
            "align_self": null,
            "height": null,
            "min_height": null,
            "padding": null,
            "grid_auto_rows": null,
            "grid_gap": null,
            "max_width": null,
            "order": null,
            "_view_module_version": "1.2.0",
            "grid_template_areas": null,
            "object_position": null,
            "object_fit": null,
            "grid_auto_columns": null,
            "margin": null,
            "display": null,
            "left": null
          }
        },
        "6676e4dbce3d4142a18d152cdb4dfd78": {
          "model_module": "@jupyter-widgets/controls",
          "model_name": "DescriptionStyleModel",
          "state": {
            "_view_name": "StyleView",
            "_model_name": "DescriptionStyleModel",
            "description_width": "",
            "_view_module": "@jupyter-widgets/base",
            "_model_module_version": "1.5.0",
            "_view_count": null,
            "_view_module_version": "1.2.0",
            "_model_module": "@jupyter-widgets/controls"
          }
        },
        "9051718a82284500b06544bbd1029638": {
          "model_module": "@jupyter-widgets/base",
          "model_name": "LayoutModel",
          "state": {
            "_view_name": "LayoutView",
            "grid_template_rows": null,
            "right": null,
            "justify_content": null,
            "_view_module": "@jupyter-widgets/base",
            "overflow": null,
            "_model_module_version": "1.2.0",
            "_view_count": null,
            "flex_flow": null,
            "width": null,
            "min_width": null,
            "border": null,
            "align_items": null,
            "bottom": null,
            "_model_module": "@jupyter-widgets/base",
            "top": null,
            "grid_column": null,
            "overflow_y": null,
            "overflow_x": null,
            "grid_auto_flow": null,
            "grid_area": null,
            "grid_template_columns": null,
            "flex": null,
            "_model_name": "LayoutModel",
            "justify_items": null,
            "grid_row": null,
            "max_height": null,
            "align_content": null,
            "visibility": null,
            "align_self": null,
            "height": null,
            "min_height": null,
            "padding": null,
            "grid_auto_rows": null,
            "grid_gap": null,
            "max_width": null,
            "order": null,
            "_view_module_version": "1.2.0",
            "grid_template_areas": null,
            "object_position": null,
            "object_fit": null,
            "grid_auto_columns": null,
            "margin": null,
            "display": null,
            "left": null
          }
        },
        "e48644321ca7447e97ea5b1e8a33f8b3": {
          "model_module": "@jupyter-widgets/controls",
          "model_name": "HBoxModel",
          "state": {
            "_view_name": "HBoxView",
            "_dom_classes": [],
            "_model_name": "HBoxModel",
            "_view_module": "@jupyter-widgets/controls",
            "_model_module_version": "1.5.0",
            "_view_count": null,
            "_view_module_version": "1.5.0",
            "box_style": "",
            "layout": "IPY_MODEL_c81491d90b6a43288e08be9110de6d81",
            "_model_module": "@jupyter-widgets/controls",
            "children": [
              "IPY_MODEL_010f9d142db34f88b937ba81d17a9bf5",
              "IPY_MODEL_e92c89c4976742319a341e9ce4b9b52a"
            ]
          }
        },
        "c81491d90b6a43288e08be9110de6d81": {
          "model_module": "@jupyter-widgets/base",
          "model_name": "LayoutModel",
          "state": {
            "_view_name": "LayoutView",
            "grid_template_rows": null,
            "right": null,
            "justify_content": null,
            "_view_module": "@jupyter-widgets/base",
            "overflow": null,
            "_model_module_version": "1.2.0",
            "_view_count": null,
            "flex_flow": null,
            "width": null,
            "min_width": null,
            "border": null,
            "align_items": null,
            "bottom": null,
            "_model_module": "@jupyter-widgets/base",
            "top": null,
            "grid_column": null,
            "overflow_y": null,
            "overflow_x": null,
            "grid_auto_flow": null,
            "grid_area": null,
            "grid_template_columns": null,
            "flex": null,
            "_model_name": "LayoutModel",
            "justify_items": null,
            "grid_row": null,
            "max_height": null,
            "align_content": null,
            "visibility": null,
            "align_self": null,
            "height": null,
            "min_height": null,
            "padding": null,
            "grid_auto_rows": null,
            "grid_gap": null,
            "max_width": null,
            "order": null,
            "_view_module_version": "1.2.0",
            "grid_template_areas": null,
            "object_position": null,
            "object_fit": null,
            "grid_auto_columns": null,
            "margin": null,
            "display": null,
            "left": null
          }
        },
        "010f9d142db34f88b937ba81d17a9bf5": {
          "model_module": "@jupyter-widgets/controls",
          "model_name": "FloatProgressModel",
          "state": {
            "_view_name": "ProgressView",
            "style": "IPY_MODEL_c72d62a3309f4c7ba1c3281edd225695",
            "_dom_classes": [],
            "description": "100%",
            "_model_name": "FloatProgressModel",
            "bar_style": "success",
            "max": 100,
            "_view_module": "@jupyter-widgets/controls",
            "_model_module_version": "1.5.0",
            "value": 100,
            "_view_count": null,
            "_view_module_version": "1.5.0",
            "orientation": "horizontal",
            "min": 0,
            "description_tooltip": null,
            "_model_module": "@jupyter-widgets/controls",
            "layout": "IPY_MODEL_48826807afff4f2eac98b57eb8185559"
          }
        },
        "e92c89c4976742319a341e9ce4b9b52a": {
          "model_module": "@jupyter-widgets/controls",
          "model_name": "HTMLModel",
          "state": {
            "_view_name": "HTMLView",
            "style": "IPY_MODEL_394fe6eadd9849e8be21d68261c3bb9b",
            "_dom_classes": [],
            "description": "",
            "_model_name": "HTMLModel",
            "placeholder": "​",
            "_view_module": "@jupyter-widgets/controls",
            "_model_module_version": "1.5.0",
            "value": " 100/100 [50:09&lt;00:00, 30.09s/it]",
            "_view_count": null,
            "_view_module_version": "1.5.0",
            "description_tooltip": null,
            "_model_module": "@jupyter-widgets/controls",
            "layout": "IPY_MODEL_2a851db33139485bb665a244abfcfdeb"
          }
        },
        "c72d62a3309f4c7ba1c3281edd225695": {
          "model_module": "@jupyter-widgets/controls",
          "model_name": "ProgressStyleModel",
          "state": {
            "_view_name": "StyleView",
            "_model_name": "ProgressStyleModel",
            "description_width": "initial",
            "_view_module": "@jupyter-widgets/base",
            "_model_module_version": "1.5.0",
            "_view_count": null,
            "_view_module_version": "1.2.0",
            "bar_color": null,
            "_model_module": "@jupyter-widgets/controls"
          }
        },
        "48826807afff4f2eac98b57eb8185559": {
          "model_module": "@jupyter-widgets/base",
          "model_name": "LayoutModel",
          "state": {
            "_view_name": "LayoutView",
            "grid_template_rows": null,
            "right": null,
            "justify_content": null,
            "_view_module": "@jupyter-widgets/base",
            "overflow": null,
            "_model_module_version": "1.2.0",
            "_view_count": null,
            "flex_flow": null,
            "width": null,
            "min_width": null,
            "border": null,
            "align_items": null,
            "bottom": null,
            "_model_module": "@jupyter-widgets/base",
            "top": null,
            "grid_column": null,
            "overflow_y": null,
            "overflow_x": null,
            "grid_auto_flow": null,
            "grid_area": null,
            "grid_template_columns": null,
            "flex": null,
            "_model_name": "LayoutModel",
            "justify_items": null,
            "grid_row": null,
            "max_height": null,
            "align_content": null,
            "visibility": null,
            "align_self": null,
            "height": null,
            "min_height": null,
            "padding": null,
            "grid_auto_rows": null,
            "grid_gap": null,
            "max_width": null,
            "order": null,
            "_view_module_version": "1.2.0",
            "grid_template_areas": null,
            "object_position": null,
            "object_fit": null,
            "grid_auto_columns": null,
            "margin": null,
            "display": null,
            "left": null
          }
        },
        "394fe6eadd9849e8be21d68261c3bb9b": {
          "model_module": "@jupyter-widgets/controls",
          "model_name": "DescriptionStyleModel",
          "state": {
            "_view_name": "StyleView",
            "_model_name": "DescriptionStyleModel",
            "description_width": "",
            "_view_module": "@jupyter-widgets/base",
            "_model_module_version": "1.5.0",
            "_view_count": null,
            "_view_module_version": "1.2.0",
            "_model_module": "@jupyter-widgets/controls"
          }
        },
        "2a851db33139485bb665a244abfcfdeb": {
          "model_module": "@jupyter-widgets/base",
          "model_name": "LayoutModel",
          "state": {
            "_view_name": "LayoutView",
            "grid_template_rows": null,
            "right": null,
            "justify_content": null,
            "_view_module": "@jupyter-widgets/base",
            "overflow": null,
            "_model_module_version": "1.2.0",
            "_view_count": null,
            "flex_flow": null,
            "width": null,
            "min_width": null,
            "border": null,
            "align_items": null,
            "bottom": null,
            "_model_module": "@jupyter-widgets/base",
            "top": null,
            "grid_column": null,
            "overflow_y": null,
            "overflow_x": null,
            "grid_auto_flow": null,
            "grid_area": null,
            "grid_template_columns": null,
            "flex": null,
            "_model_name": "LayoutModel",
            "justify_items": null,
            "grid_row": null,
            "max_height": null,
            "align_content": null,
            "visibility": null,
            "align_self": null,
            "height": null,
            "min_height": null,
            "padding": null,
            "grid_auto_rows": null,
            "grid_gap": null,
            "max_width": null,
            "order": null,
            "_view_module_version": "1.2.0",
            "grid_template_areas": null,
            "object_position": null,
            "object_fit": null,
            "grid_auto_columns": null,
            "margin": null,
            "display": null,
            "left": null
          }
        }
      }
    }
  },
  "cells": [
    {
      "cell_type": "code",
      "metadata": {
        "id": "ta-RPuoK6oB4",
        "outputId": "5d38838d-f576-4734-d3dd-6691de81461f",
        "colab": {
          "base_uri": "https://localhost:8080/",
          "height": 136
        }
      },
      "source": [
        "!git clone -b week10 https://github.com/vamsigp/EVA5/"
      ],
      "execution_count": 1,
      "outputs": [
        {
          "output_type": "stream",
          "text": [
            "Cloning into 'EVA5'...\n",
            "remote: Enumerating objects: 130, done.\u001b[K\n",
            "remote: Counting objects: 100% (130/130), done.\u001b[K\n",
            "remote: Compressing objects: 100% (100/100), done.\u001b[K\n",
            "remote: Total 509 (delta 71), reused 75 (delta 28), pack-reused 379\u001b[K\n",
            "Receiving objects: 100% (509/509), 47.48 MiB | 10.79 MiB/s, done.\n",
            "Resolving deltas: 100% (266/266), done.\n"
          ],
          "name": "stdout"
        }
      ]
    },
    {
      "cell_type": "code",
      "metadata": {
        "id": "uieqvfYL7EzQ",
        "outputId": "12e244d8-f033-439f-cf9f-a69f3578264e",
        "colab": {
          "base_uri": "https://localhost:8080/",
          "height": 34
        }
      },
      "source": [
        "%cd EVA5/trainer"
      ],
      "execution_count": 2,
      "outputs": [
        {
          "output_type": "stream",
          "text": [
            "/content/EVA5/trainer\n"
          ],
          "name": "stdout"
        }
      ]
    },
    {
      "cell_type": "code",
      "metadata": {
        "id": "F_v9ieH87Hwt",
        "outputId": "3725447b-633f-4cbc-f170-2ed9794a9c41",
        "colab": {
          "base_uri": "https://localhost:8080/",
          "height": 649
        }
      },
      "source": [
        "!pip install -U albumentations"
      ],
      "execution_count": 3,
      "outputs": [
        {
          "output_type": "stream",
          "text": [
            "Collecting albumentations\n",
            "\u001b[?25l  Downloading https://files.pythonhosted.org/packages/92/33/1c459c2c9a4028ec75527eff88bc4e2d256555189f42af4baf4d7bd89233/albumentations-0.4.6.tar.gz (117kB)\n",
            "\u001b[K     |████████████████████████████████| 122kB 9.8MB/s \n",
            "\u001b[?25hRequirement already satisfied, skipping upgrade: numpy>=1.11.1 in /usr/local/lib/python3.6/dist-packages (from albumentations) (1.18.5)\n",
            "Requirement already satisfied, skipping upgrade: scipy in /usr/local/lib/python3.6/dist-packages (from albumentations) (1.4.1)\n",
            "Collecting imgaug>=0.4.0\n",
            "\u001b[?25l  Downloading https://files.pythonhosted.org/packages/66/b1/af3142c4a85cba6da9f4ebb5ff4e21e2616309552caca5e8acefe9840622/imgaug-0.4.0-py2.py3-none-any.whl (948kB)\n",
            "\u001b[K     |████████████████████████████████| 952kB 22.6MB/s \n",
            "\u001b[?25hRequirement already satisfied, skipping upgrade: PyYAML in /usr/local/lib/python3.6/dist-packages (from albumentations) (3.13)\n",
            "Requirement already satisfied, skipping upgrade: opencv-python>=4.1.1 in /usr/local/lib/python3.6/dist-packages (from albumentations) (4.1.2.30)\n",
            "Requirement already satisfied, skipping upgrade: Pillow in /usr/local/lib/python3.6/dist-packages (from imgaug>=0.4.0->albumentations) (7.0.0)\n",
            "Requirement already satisfied, skipping upgrade: imageio in /usr/local/lib/python3.6/dist-packages (from imgaug>=0.4.0->albumentations) (2.4.1)\n",
            "Requirement already satisfied, skipping upgrade: Shapely in /usr/local/lib/python3.6/dist-packages (from imgaug>=0.4.0->albumentations) (1.7.1)\n",
            "Requirement already satisfied, skipping upgrade: six in /usr/local/lib/python3.6/dist-packages (from imgaug>=0.4.0->albumentations) (1.15.0)\n",
            "Requirement already satisfied, skipping upgrade: matplotlib in /usr/local/lib/python3.6/dist-packages (from imgaug>=0.4.0->albumentations) (3.2.2)\n",
            "Requirement already satisfied, skipping upgrade: scikit-image>=0.14.2 in /usr/local/lib/python3.6/dist-packages (from imgaug>=0.4.0->albumentations) (0.16.2)\n",
            "Requirement already satisfied, skipping upgrade: cycler>=0.10 in /usr/local/lib/python3.6/dist-packages (from matplotlib->imgaug>=0.4.0->albumentations) (0.10.0)\n",
            "Requirement already satisfied, skipping upgrade: python-dateutil>=2.1 in /usr/local/lib/python3.6/dist-packages (from matplotlib->imgaug>=0.4.0->albumentations) (2.8.1)\n",
            "Requirement already satisfied, skipping upgrade: kiwisolver>=1.0.1 in /usr/local/lib/python3.6/dist-packages (from matplotlib->imgaug>=0.4.0->albumentations) (1.2.0)\n",
            "Requirement already satisfied, skipping upgrade: pyparsing!=2.0.4,!=2.1.2,!=2.1.6,>=2.0.1 in /usr/local/lib/python3.6/dist-packages (from matplotlib->imgaug>=0.4.0->albumentations) (2.4.7)\n",
            "Requirement already satisfied, skipping upgrade: networkx>=2.0 in /usr/local/lib/python3.6/dist-packages (from scikit-image>=0.14.2->imgaug>=0.4.0->albumentations) (2.5)\n",
            "Requirement already satisfied, skipping upgrade: PyWavelets>=0.4.0 in /usr/local/lib/python3.6/dist-packages (from scikit-image>=0.14.2->imgaug>=0.4.0->albumentations) (1.1.1)\n",
            "Requirement already satisfied, skipping upgrade: decorator>=4.3.0 in /usr/local/lib/python3.6/dist-packages (from networkx>=2.0->scikit-image>=0.14.2->imgaug>=0.4.0->albumentations) (4.4.2)\n",
            "Building wheels for collected packages: albumentations\n",
            "  Building wheel for albumentations (setup.py) ... \u001b[?25l\u001b[?25hdone\n",
            "  Created wheel for albumentations: filename=albumentations-0.4.6-cp36-none-any.whl size=65165 sha256=854f8e700c52b95236e69f97f431de8fabae425f0fe37b9cb9193ff19e43db25\n",
            "  Stored in directory: /root/.cache/pip/wheels/c7/f4/89/56d1bee5c421c36c1a951eeb4adcc32fbb82f5344c086efa14\n",
            "Successfully built albumentations\n",
            "Installing collected packages: imgaug, albumentations\n",
            "  Found existing installation: imgaug 0.2.9\n",
            "    Uninstalling imgaug-0.2.9:\n",
            "      Successfully uninstalled imgaug-0.2.9\n",
            "  Found existing installation: albumentations 0.1.12\n",
            "    Uninstalling albumentations-0.1.12:\n",
            "      Successfully uninstalled albumentations-0.1.12\n",
            "Successfully installed albumentations-0.4.6 imgaug-0.4.0\n"
          ],
          "name": "stdout"
        }
      ]
    },
    {
      "cell_type": "code",
      "metadata": {
        "id": "ZxMwlaK67RW6"
      },
      "source": [
        "%matplotlib inline"
      ],
      "execution_count": 4,
      "outputs": []
    },
    {
      "cell_type": "code",
      "metadata": {
        "id": "-sjkc2jN7s4l"
      },
      "source": [
        "import torch\n",
        "import torchvision\n",
        "import torch.nn as nn\n",
        "import torch.optim as optim\n",
        "from config import ModelConfig\n",
        "from data_engine import DataEngine\n",
        "from trainer import Trainer\n",
        "from results import *\n",
        "from utils import *"
      ],
      "execution_count": 5,
      "outputs": []
    },
    {
      "cell_type": "code",
      "metadata": {
        "id": "aLi03Z5U9isF"
      },
      "source": [
        "from Albumentations import *\n",
        "from GradCAM import *"
      ],
      "execution_count": 6,
      "outputs": []
    },
    {
      "cell_type": "code",
      "metadata": {
        "id": "JrihgUz8KIvy"
      },
      "source": [
        "# from models.cifar10 import cifar10Model\n",
        "from models.resnet import ResNet18\n",
        "from models.resnet_lr import ResNet18LR"
      ],
      "execution_count": 7,
      "outputs": []
    },
    {
      "cell_type": "code",
      "metadata": {
        "id": "JdckgEzZ9kMp"
      },
      "source": [
        "transform_album = album_compose()"
      ],
      "execution_count": 8,
      "outputs": []
    },
    {
      "cell_type": "code",
      "metadata": {
        "id": "vycunyY4-BD8",
        "outputId": "36bbb5f0-ba54-4921-b350-85cf3bd753a8",
        "colab": {
          "base_uri": "https://localhost:8080/",
          "height": 187
        }
      },
      "source": [
        "# View model config\n",
        "args = ModelConfig(transform_album)\n",
        "args.print_config()\n",
        "\n",
        "print()\n",
        "# Set seed\n",
        "init_seed(args)"
      ],
      "execution_count": 9,
      "outputs": [
        {
          "output_type": "stream",
          "text": [
            "Model Parameters:\n",
            "{ 'batch_size_cpu': 64,\n",
            "  'batch_size_cuda': 128,\n",
            "  'dropout_value': 0.15,\n",
            "  'epochs': 50,\n",
            "  'num_workers': 4,\n",
            "  'seed': 1,\n",
            "  'train_transform': <Albumentations.album_compose object at 0x7efc2ac7d048>}\n",
            "\n",
            "CUDA Available\n"
          ],
          "name": "stdout"
        }
      ]
    },
    {
      "cell_type": "code",
      "metadata": {
        "id": "09QQyyWs-EUF",
        "outputId": "3708d593-3204-425f-a8f4-2677a243ff75",
        "colab": {
          "base_uri": "https://localhost:8080/",
          "height": 100,
          "referenced_widgets": [
            "fbaabded52434edf83fedf2cba777d81",
            "c94de23156604f8a808173df73d78139",
            "64350bbd1d474a12a499ab770c3c74a7",
            "d2633e02518b479c9db1a8b54abcbb3e",
            "f9a38a16f0454bdf94782334f3d5cdc5",
            "963bd43ef13445a9919b8e4a2f7fac8a",
            "6676e4dbce3d4142a18d152cdb4dfd78",
            "9051718a82284500b06544bbd1029638"
          ]
        }
      },
      "source": [
        "data = DataEngine(args)\n",
        "\n",
        "# # get some random training images\n",
        "# dataiter = iter(data.train_loader)\n",
        "# images, labels = dataiter.next()\n",
        "\n",
        "# # show images\n",
        "# imshow(torchvision.utils.make_grid(images[:4]))\n",
        "# # print labels\n",
        "# print(' '.join('%5s' % data.classes[labels[j]] for j in range(4)))"
      ],
      "execution_count": 10,
      "outputs": [
        {
          "output_type": "stream",
          "text": [
            "Downloading https://www.cs.toronto.edu/~kriz/cifar-10-python.tar.gz to ./data/cifar-10-python.tar.gz\n"
          ],
          "name": "stdout"
        },
        {
          "output_type": "display_data",
          "data": {
            "application/vnd.jupyter.widget-view+json": {
              "model_id": "fbaabded52434edf83fedf2cba777d81",
              "version_minor": 0,
              "version_major": 2
            },
            "text/plain": [
              "HBox(children=(FloatProgress(value=1.0, bar_style='info', max=1.0), HTML(value='')))"
            ]
          },
          "metadata": {
            "tags": []
          }
        },
        {
          "output_type": "stream",
          "text": [
            "Extracting ./data/cifar-10-python.tar.gz to ./data\n",
            "Files already downloaded and verified\n"
          ],
          "name": "stdout"
        }
      ]
    },
    {
      "cell_type": "code",
      "metadata": {
        "id": "aWDbL5YiJ6rv"
      },
      "source": [
        "device = which_device()\n",
        "# model = ResNet18().to(device)\n",
        "\n",
        "# show_model_summary(model, device, (3,32,32))"
      ],
      "execution_count": 11,
      "outputs": []
    },
    {
      "cell_type": "code",
      "metadata": {
        "id": "CiutLDgU0KXi",
        "outputId": "7b0d92c8-91e2-427d-a5c0-19b4c8ba93f2",
        "colab": {
          "base_uri": "https://localhost:8080/",
          "height": 272
        }
      },
      "source": [
        "!pip install torch-lr-finder"
      ],
      "execution_count": 12,
      "outputs": [
        {
          "output_type": "stream",
          "text": [
            "Collecting torch-lr-finder\n",
            "  Downloading https://files.pythonhosted.org/packages/ea/51/1a869067989a0fdaf18e49f0ee3aebfcb63470525245aac7dc390cfc676a/torch_lr_finder-0.2.1-py3-none-any.whl\n",
            "Requirement already satisfied: torch>=0.4.1 in /usr/local/lib/python3.6/dist-packages (from torch-lr-finder) (1.6.0+cu101)\n",
            "Requirement already satisfied: packaging in /usr/local/lib/python3.6/dist-packages (from torch-lr-finder) (20.4)\n",
            "Requirement already satisfied: matplotlib in /usr/local/lib/python3.6/dist-packages (from torch-lr-finder) (3.2.2)\n",
            "Requirement already satisfied: numpy in /usr/local/lib/python3.6/dist-packages (from torch-lr-finder) (1.18.5)\n",
            "Requirement already satisfied: tqdm in /usr/local/lib/python3.6/dist-packages (from torch-lr-finder) (4.41.1)\n",
            "Requirement already satisfied: future in /usr/local/lib/python3.6/dist-packages (from torch>=0.4.1->torch-lr-finder) (0.16.0)\n",
            "Requirement already satisfied: six in /usr/local/lib/python3.6/dist-packages (from packaging->torch-lr-finder) (1.15.0)\n",
            "Requirement already satisfied: pyparsing>=2.0.2 in /usr/local/lib/python3.6/dist-packages (from packaging->torch-lr-finder) (2.4.7)\n",
            "Requirement already satisfied: python-dateutil>=2.1 in /usr/local/lib/python3.6/dist-packages (from matplotlib->torch-lr-finder) (2.8.1)\n",
            "Requirement already satisfied: cycler>=0.10 in /usr/local/lib/python3.6/dist-packages (from matplotlib->torch-lr-finder) (0.10.0)\n",
            "Requirement already satisfied: kiwisolver>=1.0.1 in /usr/local/lib/python3.6/dist-packages (from matplotlib->torch-lr-finder) (1.2.0)\n",
            "Installing collected packages: torch-lr-finder\n",
            "Successfully installed torch-lr-finder-0.2.1\n"
          ],
          "name": "stdout"
        }
      ]
    },
    {
      "cell_type": "code",
      "metadata": {
        "id": "wXo1V-nJz6-T"
      },
      "source": [
        "# from torch_lr_finder import LRFinder\n",
        "# from torch.optim.lr_scheduler import ReduceLROnPlateau"
      ],
      "execution_count": 13,
      "outputs": []
    },
    {
      "cell_type": "code",
      "metadata": {
        "id": "TttODP36JNPw"
      },
      "source": [
        "from torch_lr_finder import LRFinder\n",
        "import torch.nn as nn\n",
        "import torch.optim as optim\n",
        "\n",
        "\n",
        "def get_best_lr_sgd(model, trainloader, lr=1e-7, momentum=0.9, end_lr=100, num_iter=100):\n",
        "    \"\"\"\n",
        "    Tweaked version from fastai\n",
        "    \n",
        "    Increases the learning rate in an exponential manner and computes the training loss for each learning rate. \n",
        "    lr_finder.plot() plots the training loss versus logarithmic learning rate.\n",
        "    \"\"\"\n",
        "    criterion = nn.CrossEntropyLoss()\n",
        "    optimizer = optim.SGD(model.parameters(), lr=lr, momentum=momentum)\n",
        "    lr_finder = LRFinder(model, optimizer, criterion, device=\"cuda\")\n",
        "    lr_finder.range_test(trainloader, end_lr=end_lr, num_iter=num_iter)\n",
        "    lr_finder.plot() # to inspect the loss-learning rate graph\n",
        "    return lr_finder"
      ],
      "execution_count": 14,
      "outputs": []
    },
    {
      "cell_type": "code",
      "metadata": {
        "id": "n_Da_GFgJSJH",
        "outputId": "18b7b5ce-a2a7-4ac0-c3db-18a8d7b6867e",
        "colab": {
          "base_uri": "https://localhost:8080/",
          "height": 454,
          "referenced_widgets": [
            "e48644321ca7447e97ea5b1e8a33f8b3",
            "c81491d90b6a43288e08be9110de6d81",
            "010f9d142db34f88b937ba81d17a9bf5",
            "e92c89c4976742319a341e9ce4b9b52a",
            "c72d62a3309f4c7ba1c3281edd225695",
            "48826807afff4f2eac98b57eb8185559",
            "394fe6eadd9849e8be21d68261c3bb9b",
            "2a851db33139485bb665a244abfcfdeb"
          ]
        }
      },
      "source": [
        "model_lr = ResNet18LR().to(device)\n",
        "\n",
        "get_best_lr_sgd(model_lr, data.train_loader)"
      ],
      "execution_count": 16,
      "outputs": [
        {
          "output_type": "display_data",
          "data": {
            "application/vnd.jupyter.widget-view+json": {
              "model_id": "e48644321ca7447e97ea5b1e8a33f8b3",
              "version_minor": 0,
              "version_major": 2
            },
            "text/plain": [
              "HBox(children=(FloatProgress(value=0.0), HTML(value='')))"
            ]
          },
          "metadata": {
            "tags": []
          }
        },
        {
          "output_type": "stream",
          "text": [
            "/content/EVA5/trainer/models/resnet_lr.py:104: UserWarning: Implicit dimension choice for softmax has been deprecated. Change the call to include dim=X as an argument.\n",
            "  out = F.softmax(out)\n"
          ],
          "name": "stderr"
        },
        {
          "output_type": "stream",
          "text": [
            "\n",
            "Learning rate search finished. See the graph with {finder_name}.plot()\n",
            "LR suggestion: steepest gradient\n",
            "Suggested LR: 8.11E-02\n"
          ],
          "name": "stdout"
        },
        {
          "output_type": "display_data",
          "data": {
            "image/png": "[encoded data removed]",
            "text/plain": [
              "<Figure size 432x288 with 1 Axes>"
            ]
          },
          "metadata": {
            "tags": [],
            "needs_background": "light"
          }
        },
        {
          "output_type": "execute_result",
          "data": {
            "text/plain": [
              "<torch_lr_finder.lr_finder.LRFinder at 0x7efc2133c240>"
            ]
          },
          "metadata": {
            "tags": []
          },
          "execution_count": 16
        }
      ]
    },
    {
      "cell_type": "code",
      "metadata": {
        "id": "EQuO_WQgzwG2"
      },
      "source": [
        "# for i in range(1,16):\n",
        "#   model = ResNet18().to(device)\n",
        "#   criterion = nn.CrossEntropyLoss()\n",
        "#   optimizer = optim.SGD(model.parameters(), lr=1e-7, momentum=0.9)\n",
        "  \n",
        "#   lr_finder = LRFinder(model, optimizer, criterion, device=device)\n",
        "#   lr_finder.range_test(data.train_loader, end_lr=100, num_iter=100, step_mode=\"exp\")\n",
        "#   lr_finder.plot()\n",
        "#   lr_finder.reset()\n",
        "\n"
      ],
      "execution_count": null,
      "outputs": []
    },
    {
      "cell_type": "code",
      "metadata": {
        "id": "SxTxdCoqKBcU"
      },
      "source": [
        "from torch.optim.lr_scheduler import StepLR, OneCycleLR, ReduceLROnPlateau"
      ],
      "execution_count": 17,
      "outputs": []
    },
    {
      "cell_type": "code",
      "metadata": {
        "id": "KGMXylr2JFhJ"
      },
      "source": [
        "model = ResNet18().to(device)\n",
        "\n",
        "criterion = nn.CrossEntropyLoss()\n",
        "\n",
        "optimizer = optim.SGD(model.parameters(), lr=6.58E-02, momentum=0.9, weight_decay=0.001)\n",
        "\n",
        "# scheduler = StepLR(optimizer, step_size=8, gamma=0.1)\n",
        "# scheduler = OneCycleLR(optimizer,max_lr=0.1,total_steps=20)\n",
        "scheduler = ReduceLROnPlateau(optimizer, mode='min', factor=0.2, patience=3, verbose=False, threshold=0.0001, threshold_mode='rel', cooldown=0, min_lr=0, eps=1e-08)"
      ],
      "execution_count": 18,
      "outputs": []
    },
    {
      "cell_type": "code",
      "metadata": {
        "id": "-KDRkZG66uFA"
      },
      "source": [
        ""
      ],
      "execution_count": 18,
      "outputs": []
    },
    {
      "cell_type": "code",
      "metadata": {
        "id": "qwA3whgUKReR"
      },
      "source": [
        "trainer = Trainer(model, \n",
        "                  device,\n",
        "                  train_loader=data.train_loader, \n",
        "                  test_loader = data.test_loader, \n",
        "                  optimizer = optimizer, \n",
        "                  loss_func = criterion, \n",
        "                  lr_scheduler = scheduler) "
      ],
      "execution_count": 19,
      "outputs": []
    },
    {
      "cell_type": "code",
      "metadata": {
        "id": "YEy4tQ1jKUXJ",
        "outputId": "e0f8ae64-b5a5-454b-a47b-b9ad715355c8",
        "colab": {
          "base_uri": "https://localhost:8080/",
          "height": 1000
        }
      },
      "source": [
        "# (train_loss, train_acc, test_loss, test_acc) = trainer.train_model(epochs=args.epochs, lambda_l1=0.0001)\n",
        "(train_loss, train_acc, test_loss, test_acc) = trainer.train_model(epochs=args.epochs, lambda_l1=0.0001)"
      ],
      "execution_count": 20,
      "outputs": [
        {
          "output_type": "stream",
          "text": [
            "\r  0%|          | 0/391 [00:00<?, ?it/s]"
          ],
          "name": "stderr"
        },
        {
          "output_type": "stream",
          "text": [
            "\n",
            "Current EPOCH: 0\n",
            "Learning Rate(ReduceLROnPlateau) =  0.0658\n"
          ],
          "name": "stdout"
        },
        {
          "output_type": "stream",
          "text": [
            "Train set: Loss=3.3440701961517334 Batch_id=390 Accuracy=28.26: 100%|██████████| 391/391 [00:56<00:00,  6.91it/s]\n",
            "  0%|          | 0/391 [00:00<?, ?it/s]"
          ],
          "name": "stderr"
        },
        {
          "output_type": "stream",
          "text": [
            "\n",
            "Test set: Average loss: 0.0141, Accuracy: 3451/10000 (34.51%)\n",
            "\n",
            "ReduceLROnPlateau, ReduceLROnPlateau::step(), val_loss 0.014089708340167999\n",
            "\n",
            "Current EPOCH: 1\n",
            "Learning Rate(ReduceLROnPlateau) =  0.0658\n"
          ],
          "name": "stdout"
        },
        {
          "output_type": "stream",
          "text": [
            "Train set: Loss=2.5282552242279053 Batch_id=390 Accuracy=36.60: 100%|██████████| 391/391 [00:57<00:00,  6.81it/s]\n",
            "  0%|          | 0/391 [00:00<?, ?it/s]"
          ],
          "name": "stderr"
        },
        {
          "output_type": "stream",
          "text": [
            "\n",
            "Test set: Average loss: 0.0134, Accuracy: 3768/10000 (37.68%)\n",
            "\n",
            "ReduceLROnPlateau, ReduceLROnPlateau::step(), val_loss 0.01342564035654068\n",
            "\n",
            "Current EPOCH: 2\n",
            "Learning Rate(ReduceLROnPlateau) =  0.0658\n"
          ],
          "name": "stdout"
        },
        {
          "output_type": "stream",
          "text": [
            "Train set: Loss=2.4930009841918945 Batch_id=390 Accuracy=42.26: 100%|██████████| 391/391 [00:57<00:00,  6.79it/s]\n",
            "  0%|          | 0/391 [00:00<?, ?it/s]"
          ],
          "name": "stderr"
        },
        {
          "output_type": "stream",
          "text": [
            "\n",
            "Test set: Average loss: 0.0127, Accuracy: 4325/10000 (43.25%)\n",
            "\n",
            "ReduceLROnPlateau, ReduceLROnPlateau::step(), val_loss 0.012740383541584015\n",
            "\n",
            "Current EPOCH: 3\n",
            "Learning Rate(ReduceLROnPlateau) =  0.0658\n"
          ],
          "name": "stdout"
        },
        {
          "output_type": "stream",
          "text": [
            "Train set: Loss=2.1707868576049805 Batch_id=390 Accuracy=48.15: 100%|██████████| 391/391 [00:57<00:00,  6.81it/s]\n",
            "  0%|          | 0/391 [00:00<?, ?it/s]"
          ],
          "name": "stderr"
        },
        {
          "output_type": "stream",
          "text": [
            "\n",
            "Test set: Average loss: 0.0097, Accuracy: 5535/10000 (55.35%)\n",
            "\n",
            "ReduceLROnPlateau, ReduceLROnPlateau::step(), val_loss 0.00974085133075714\n",
            "\n",
            "Current EPOCH: 4\n",
            "Learning Rate(ReduceLROnPlateau) =  0.0658\n"
          ],
          "name": "stdout"
        },
        {
          "output_type": "stream",
          "text": [
            "Train set: Loss=1.7737911939620972 Batch_id=390 Accuracy=52.20: 100%|██████████| 391/391 [00:57<00:00,  6.85it/s]\n",
            "  0%|          | 0/391 [00:00<?, ?it/s]"
          ],
          "name": "stderr"
        },
        {
          "output_type": "stream",
          "text": [
            "\n",
            "Test set: Average loss: 0.0089, Accuracy: 5933/10000 (59.33%)\n",
            "\n",
            "ReduceLROnPlateau, ReduceLROnPlateau::step(), val_loss 0.008871930706501007\n",
            "\n",
            "Current EPOCH: 5\n",
            "Learning Rate(ReduceLROnPlateau) =  0.0658\n"
          ],
          "name": "stdout"
        },
        {
          "output_type": "stream",
          "text": [
            "Train set: Loss=1.760671615600586 Batch_id=390 Accuracy=54.28: 100%|██████████| 391/391 [00:57<00:00,  6.86it/s]\n",
            "  0%|          | 0/391 [00:00<?, ?it/s]"
          ],
          "name": "stderr"
        },
        {
          "output_type": "stream",
          "text": [
            "\n",
            "Test set: Average loss: 0.0094, Accuracy: 5712/10000 (57.12%)\n",
            "\n",
            "ReduceLROnPlateau, ReduceLROnPlateau::step(), val_loss 0.009388805574178696\n",
            "\n",
            "Current EPOCH: 6\n",
            "Learning Rate(ReduceLROnPlateau) =  0.0658\n"
          ],
          "name": "stdout"
        },
        {
          "output_type": "stream",
          "text": [
            "Train set: Loss=1.6868176460266113 Batch_id=390 Accuracy=55.85: 100%|██████████| 391/391 [00:56<00:00,  6.91it/s]\n",
            "  0%|          | 0/391 [00:00<?, ?it/s]"
          ],
          "name": "stderr"
        },
        {
          "output_type": "stream",
          "text": [
            "\n",
            "Test set: Average loss: 0.0090, Accuracy: 6063/10000 (60.63%)\n",
            "\n",
            "ReduceLROnPlateau, ReduceLROnPlateau::step(), val_loss 0.009034367340803146\n",
            "\n",
            "Current EPOCH: 7\n",
            "Learning Rate(ReduceLROnPlateau) =  0.0658\n"
          ],
          "name": "stdout"
        },
        {
          "output_type": "stream",
          "text": [
            "Train set: Loss=1.402552604675293 Batch_id=390 Accuracy=57.36: 100%|██████████| 391/391 [00:56<00:00,  6.92it/s]\n",
            "  0%|          | 0/391 [00:00<?, ?it/s]"
          ],
          "name": "stderr"
        },
        {
          "output_type": "stream",
          "text": [
            "\n",
            "Test set: Average loss: 0.0097, Accuracy: 5792/10000 (57.92%)\n",
            "\n",
            "ReduceLROnPlateau, ReduceLROnPlateau::step(), val_loss 0.009730163884162903\n",
            "\n",
            "Current EPOCH: 8\n",
            "Learning Rate(ReduceLROnPlateau) =  0.0658\n"
          ],
          "name": "stdout"
        },
        {
          "output_type": "stream",
          "text": [
            "Train set: Loss=1.3832333087921143 Batch_id=390 Accuracy=58.67: 100%|██████████| 391/391 [00:55<00:00,  6.99it/s]\n",
            "  0%|          | 0/391 [00:00<?, ?it/s]"
          ],
          "name": "stderr"
        },
        {
          "output_type": "stream",
          "text": [
            "\n",
            "Test set: Average loss: 0.0083, Accuracy: 6295/10000 (62.95%)\n",
            "\n",
            "ReduceLROnPlateau, ReduceLROnPlateau::step(), val_loss 0.00827528687119484\n",
            "\n",
            "Current EPOCH: 9\n",
            "Learning Rate(ReduceLROnPlateau) =  0.0658\n"
          ],
          "name": "stdout"
        },
        {
          "output_type": "stream",
          "text": [
            "Train set: Loss=1.6280333995819092 Batch_id=390 Accuracy=58.86: 100%|██████████| 391/391 [00:55<00:00,  7.03it/s]\n",
            "  0%|          | 0/391 [00:00<?, ?it/s]"
          ],
          "name": "stderr"
        },
        {
          "output_type": "stream",
          "text": [
            "\n",
            "Test set: Average loss: 0.0088, Accuracy: 6256/10000 (62.56%)\n",
            "\n",
            "ReduceLROnPlateau, ReduceLROnPlateau::step(), val_loss 0.008832015454769134\n",
            "\n",
            "Current EPOCH: 10\n",
            "Learning Rate(ReduceLROnPlateau) =  0.0658\n"
          ],
          "name": "stdout"
        },
        {
          "output_type": "stream",
          "text": [
            "Train set: Loss=1.260667324066162 Batch_id=390 Accuracy=59.44: 100%|██████████| 391/391 [00:55<00:00,  7.03it/s]\n",
            "  0%|          | 0/391 [00:00<?, ?it/s]"
          ],
          "name": "stderr"
        },
        {
          "output_type": "stream",
          "text": [
            "\n",
            "Test set: Average loss: 0.0088, Accuracy: 6138/10000 (61.38%)\n",
            "\n",
            "ReduceLROnPlateau, ReduceLROnPlateau::step(), val_loss 0.008761545944213868\n",
            "\n",
            "Current EPOCH: 11\n",
            "Learning Rate(ReduceLROnPlateau) =  0.0658\n"
          ],
          "name": "stdout"
        },
        {
          "output_type": "stream",
          "text": [
            "Train set: Loss=1.574623465538025 Batch_id=390 Accuracy=59.67: 100%|██████████| 391/391 [00:55<00:00,  7.04it/s]\n",
            "  0%|          | 0/391 [00:00<?, ?it/s]"
          ],
          "name": "stderr"
        },
        {
          "output_type": "stream",
          "text": [
            "\n",
            "Test set: Average loss: 0.0102, Accuracy: 5751/10000 (57.51%)\n",
            "\n",
            "ReduceLROnPlateau, ReduceLROnPlateau::step(), val_loss 0.010180667436122894\n",
            "\n",
            "Current EPOCH: 12\n",
            "Learning Rate(ReduceLROnPlateau) =  0.0658\n"
          ],
          "name": "stdout"
        },
        {
          "output_type": "stream",
          "text": [
            "Train set: Loss=1.2546348571777344 Batch_id=390 Accuracy=60.17: 100%|██████████| 391/391 [00:55<00:00,  7.04it/s]\n",
            "  0%|          | 0/391 [00:00<?, ?it/s]"
          ],
          "name": "stderr"
        },
        {
          "output_type": "stream",
          "text": [
            "\n",
            "Test set: Average loss: 0.0095, Accuracy: 5855/10000 (58.55%)\n",
            "\n",
            "ReduceLROnPlateau, ReduceLROnPlateau::step(), val_loss 0.009514276617765426\n",
            "\n",
            "Current EPOCH: 13\n",
            "Learning Rate(ReduceLROnPlateau) =  0.01316\n"
          ],
          "name": "stdout"
        },
        {
          "output_type": "stream",
          "text": [
            "Train set: Loss=1.1718904972076416 Batch_id=390 Accuracy=67.04: 100%|██████████| 391/391 [00:55<00:00,  7.04it/s]\n",
            "  0%|          | 0/391 [00:00<?, ?it/s]"
          ],
          "name": "stderr"
        },
        {
          "output_type": "stream",
          "text": [
            "\n",
            "Test set: Average loss: 0.0057, Accuracy: 7468/10000 (74.68%)\n",
            "\n",
            "ReduceLROnPlateau, ReduceLROnPlateau::step(), val_loss 0.005743962424993515\n",
            "\n",
            "Current EPOCH: 14\n",
            "Learning Rate(ReduceLROnPlateau) =  0.01316\n"
          ],
          "name": "stdout"
        },
        {
          "output_type": "stream",
          "text": [
            "Train set: Loss=1.2007020711898804 Batch_id=390 Accuracy=68.37: 100%|██████████| 391/391 [00:55<00:00,  7.03it/s]\n",
            "  0%|          | 0/391 [00:00<?, ?it/s]"
          ],
          "name": "stderr"
        },
        {
          "output_type": "stream",
          "text": [
            "\n",
            "Test set: Average loss: 0.0058, Accuracy: 7388/10000 (73.88%)\n",
            "\n",
            "ReduceLROnPlateau, ReduceLROnPlateau::step(), val_loss 0.005827661603689194\n",
            "\n",
            "Current EPOCH: 15\n",
            "Learning Rate(ReduceLROnPlateau) =  0.01316\n"
          ],
          "name": "stdout"
        },
        {
          "output_type": "stream",
          "text": [
            "Train set: Loss=1.087294101715088 Batch_id=390 Accuracy=68.83: 100%|██████████| 391/391 [00:55<00:00,  7.04it/s]\n",
            "  0%|          | 0/391 [00:00<?, ?it/s]"
          ],
          "name": "stderr"
        },
        {
          "output_type": "stream",
          "text": [
            "\n",
            "Test set: Average loss: 0.0053, Accuracy: 7651/10000 (76.51%)\n",
            "\n",
            "ReduceLROnPlateau, ReduceLROnPlateau::step(), val_loss 0.0053366133749485015\n",
            "\n",
            "Current EPOCH: 16\n",
            "Learning Rate(ReduceLROnPlateau) =  0.01316\n"
          ],
          "name": "stdout"
        },
        {
          "output_type": "stream",
          "text": [
            "Train set: Loss=1.0225679874420166 Batch_id=390 Accuracy=68.87: 100%|██████████| 391/391 [00:55<00:00,  7.04it/s]\n",
            "  0%|          | 0/391 [00:00<?, ?it/s]"
          ],
          "name": "stderr"
        },
        {
          "output_type": "stream",
          "text": [
            "\n",
            "Test set: Average loss: 0.0058, Accuracy: 7417/10000 (74.17%)\n",
            "\n",
            "ReduceLROnPlateau, ReduceLROnPlateau::step(), val_loss 0.0057921097189188005\n",
            "\n",
            "Current EPOCH: 17\n",
            "Learning Rate(ReduceLROnPlateau) =  0.01316\n"
          ],
          "name": "stdout"
        },
        {
          "output_type": "stream",
          "text": [
            "Train set: Loss=1.2697534561157227 Batch_id=390 Accuracy=69.08: 100%|██████████| 391/391 [00:55<00:00,  7.04it/s]\n",
            "  0%|          | 0/391 [00:00<?, ?it/s]"
          ],
          "name": "stderr"
        },
        {
          "output_type": "stream",
          "text": [
            "\n",
            "Test set: Average loss: 0.0061, Accuracy: 7286/10000 (72.86%)\n",
            "\n",
            "ReduceLROnPlateau, ReduceLROnPlateau::step(), val_loss 0.006139606672525406\n",
            "\n",
            "Current EPOCH: 18\n",
            "Learning Rate(ReduceLROnPlateau) =  0.01316\n"
          ],
          "name": "stdout"
        },
        {
          "output_type": "stream",
          "text": [
            "Train set: Loss=1.1372883319854736 Batch_id=390 Accuracy=68.79: 100%|██████████| 391/391 [00:55<00:00,  7.05it/s]\n",
            "  0%|          | 0/391 [00:00<?, ?it/s]"
          ],
          "name": "stderr"
        },
        {
          "output_type": "stream",
          "text": [
            "\n",
            "Test set: Average loss: 0.0060, Accuracy: 7374/10000 (73.74%)\n",
            "\n",
            "ReduceLROnPlateau, ReduceLROnPlateau::step(), val_loss 0.0059795449852943425\n",
            "\n",
            "Current EPOCH: 19\n",
            "Learning Rate(ReduceLROnPlateau) =  0.01316\n"
          ],
          "name": "stdout"
        },
        {
          "output_type": "stream",
          "text": [
            "Train set: Loss=1.138709545135498 Batch_id=390 Accuracy=68.91: 100%|██████████| 391/391 [00:55<00:00,  7.04it/s]\n",
            "  0%|          | 0/391 [00:00<?, ?it/s]"
          ],
          "name": "stderr"
        },
        {
          "output_type": "stream",
          "text": [
            "\n",
            "Test set: Average loss: 0.0053, Accuracy: 7644/10000 (76.44%)\n",
            "\n",
            "ReduceLROnPlateau, ReduceLROnPlateau::step(), val_loss 0.005344473093748092\n",
            "\n",
            "Current EPOCH: 20\n",
            "Learning Rate(ReduceLROnPlateau) =  0.0026320000000000002\n"
          ],
          "name": "stdout"
        },
        {
          "output_type": "stream",
          "text": [
            "Train set: Loss=0.8352726697921753 Batch_id=390 Accuracy=72.36: 100%|██████████| 391/391 [00:55<00:00,  7.04it/s]\n",
            "  0%|          | 0/391 [00:00<?, ?it/s]"
          ],
          "name": "stderr"
        },
        {
          "output_type": "stream",
          "text": [
            "\n",
            "Test set: Average loss: 0.0046, Accuracy: 7953/10000 (79.53%)\n",
            "\n",
            "ReduceLROnPlateau, ReduceLROnPlateau::step(), val_loss 0.004597525501251221\n",
            "\n",
            "Current EPOCH: 21\n",
            "Learning Rate(ReduceLROnPlateau) =  0.0026320000000000002\n"
          ],
          "name": "stdout"
        },
        {
          "output_type": "stream",
          "text": [
            "Train set: Loss=1.0069243907928467 Batch_id=390 Accuracy=73.38: 100%|██████████| 391/391 [00:55<00:00,  7.04it/s]\n",
            "  0%|          | 0/391 [00:00<?, ?it/s]"
          ],
          "name": "stderr"
        },
        {
          "output_type": "stream",
          "text": [
            "\n",
            "Test set: Average loss: 0.0044, Accuracy: 8075/10000 (80.75%)\n",
            "\n",
            "ReduceLROnPlateau, ReduceLROnPlateau::step(), val_loss 0.004443338152766227\n",
            "\n",
            "Current EPOCH: 22\n",
            "Learning Rate(ReduceLROnPlateau) =  0.0026320000000000002\n"
          ],
          "name": "stdout"
        },
        {
          "output_type": "stream",
          "text": [
            "Train set: Loss=0.9569872617721558 Batch_id=390 Accuracy=73.90: 100%|██████████| 391/391 [00:55<00:00,  7.06it/s]\n",
            "  0%|          | 0/391 [00:00<?, ?it/s]"
          ],
          "name": "stderr"
        },
        {
          "output_type": "stream",
          "text": [
            "\n",
            "Test set: Average loss: 0.0044, Accuracy: 8072/10000 (80.72%)\n",
            "\n",
            "ReduceLROnPlateau, ReduceLROnPlateau::step(), val_loss 0.004389287094771862\n",
            "\n",
            "Current EPOCH: 23\n",
            "Learning Rate(ReduceLROnPlateau) =  0.0026320000000000002\n"
          ],
          "name": "stdout"
        },
        {
          "output_type": "stream",
          "text": [
            "Train set: Loss=1.2273139953613281 Batch_id=390 Accuracy=74.33: 100%|██████████| 391/391 [00:55<00:00,  7.03it/s]\n",
            "  0%|          | 0/391 [00:00<?, ?it/s]"
          ],
          "name": "stderr"
        },
        {
          "output_type": "stream",
          "text": [
            "\n",
            "Test set: Average loss: 0.0044, Accuracy: 8075/10000 (80.75%)\n",
            "\n",
            "ReduceLROnPlateau, ReduceLROnPlateau::step(), val_loss 0.004434143179655075\n",
            "\n",
            "Current EPOCH: 24\n",
            "Learning Rate(ReduceLROnPlateau) =  0.0026320000000000002\n"
          ],
          "name": "stdout"
        },
        {
          "output_type": "stream",
          "text": [
            "Train set: Loss=0.727895975112915 Batch_id=390 Accuracy=74.14: 100%|██████████| 391/391 [00:55<00:00,  7.04it/s]\n",
            "  0%|          | 0/391 [00:00<?, ?it/s]"
          ],
          "name": "stderr"
        },
        {
          "output_type": "stream",
          "text": [
            "\n",
            "Test set: Average loss: 0.0044, Accuracy: 8108/10000 (81.08%)\n",
            "\n",
            "ReduceLROnPlateau, ReduceLROnPlateau::step(), val_loss 0.0043548742711544035\n",
            "\n",
            "Current EPOCH: 25\n",
            "Learning Rate(ReduceLROnPlateau) =  0.0026320000000000002\n"
          ],
          "name": "stdout"
        },
        {
          "output_type": "stream",
          "text": [
            "Train set: Loss=1.104197382926941 Batch_id=390 Accuracy=74.17: 100%|██████████| 391/391 [00:55<00:00,  7.04it/s]\n",
            "  0%|          | 0/391 [00:00<?, ?it/s]"
          ],
          "name": "stderr"
        },
        {
          "output_type": "stream",
          "text": [
            "\n",
            "Test set: Average loss: 0.0045, Accuracy: 8063/10000 (80.63%)\n",
            "\n",
            "ReduceLROnPlateau, ReduceLROnPlateau::step(), val_loss 0.0045274506717920306\n",
            "\n",
            "Current EPOCH: 26\n",
            "Learning Rate(ReduceLROnPlateau) =  0.0026320000000000002\n"
          ],
          "name": "stdout"
        },
        {
          "output_type": "stream",
          "text": [
            "Train set: Loss=1.0263864994049072 Batch_id=390 Accuracy=74.51: 100%|██████████| 391/391 [00:55<00:00,  7.05it/s]\n",
            "  0%|          | 0/391 [00:00<?, ?it/s]"
          ],
          "name": "stderr"
        },
        {
          "output_type": "stream",
          "text": [
            "\n",
            "Test set: Average loss: 0.0044, Accuracy: 8098/10000 (80.98%)\n",
            "\n",
            "ReduceLROnPlateau, ReduceLROnPlateau::step(), val_loss 0.0043520642548799515\n",
            "\n",
            "Current EPOCH: 27\n",
            "Learning Rate(ReduceLROnPlateau) =  0.0026320000000000002\n"
          ],
          "name": "stdout"
        },
        {
          "output_type": "stream",
          "text": [
            "Train set: Loss=0.8644276857376099 Batch_id=390 Accuracy=74.43: 100%|██████████| 391/391 [00:55<00:00,  7.04it/s]\n",
            "  0%|          | 0/391 [00:00<?, ?it/s]"
          ],
          "name": "stderr"
        },
        {
          "output_type": "stream",
          "text": [
            "\n",
            "Test set: Average loss: 0.0044, Accuracy: 8068/10000 (80.68%)\n",
            "\n",
            "ReduceLROnPlateau, ReduceLROnPlateau::step(), val_loss 0.004436143663525582\n",
            "\n",
            "Current EPOCH: 28\n",
            "Learning Rate(ReduceLROnPlateau) =  0.0026320000000000002\n"
          ],
          "name": "stdout"
        },
        {
          "output_type": "stream",
          "text": [
            "Train set: Loss=0.9681370854377747 Batch_id=390 Accuracy=74.70: 100%|██████████| 391/391 [00:55<00:00,  7.03it/s]\n",
            "  0%|          | 0/391 [00:00<?, ?it/s]"
          ],
          "name": "stderr"
        },
        {
          "output_type": "stream",
          "text": [
            "\n",
            "Test set: Average loss: 0.0044, Accuracy: 8091/10000 (80.91%)\n",
            "\n",
            "ReduceLROnPlateau, ReduceLROnPlateau::step(), val_loss 0.004399207693338394\n",
            "\n",
            "Current EPOCH: 29\n",
            "Learning Rate(ReduceLROnPlateau) =  0.0026320000000000002\n"
          ],
          "name": "stdout"
        },
        {
          "output_type": "stream",
          "text": [
            "Train set: Loss=1.046402096748352 Batch_id=390 Accuracy=74.48: 100%|██████████| 391/391 [00:55<00:00,  7.04it/s]\n",
            "  0%|          | 0/391 [00:00<?, ?it/s]"
          ],
          "name": "stderr"
        },
        {
          "output_type": "stream",
          "text": [
            "\n",
            "Test set: Average loss: 0.0044, Accuracy: 8096/10000 (80.96%)\n",
            "\n",
            "ReduceLROnPlateau, ReduceLROnPlateau::step(), val_loss 0.00439471749663353\n",
            "\n",
            "Current EPOCH: 30\n",
            "Learning Rate(ReduceLROnPlateau) =  0.0026320000000000002\n"
          ],
          "name": "stdout"
        },
        {
          "output_type": "stream",
          "text": [
            "Train set: Loss=0.8322495818138123 Batch_id=390 Accuracy=74.71: 100%|██████████| 391/391 [00:55<00:00,  7.04it/s]\n",
            "  0%|          | 0/391 [00:00<?, ?it/s]"
          ],
          "name": "stderr"
        },
        {
          "output_type": "stream",
          "text": [
            "\n",
            "Test set: Average loss: 0.0045, Accuracy: 8027/10000 (80.27%)\n",
            "\n",
            "ReduceLROnPlateau, ReduceLROnPlateau::step(), val_loss 0.004495384049415589\n",
            "\n",
            "Current EPOCH: 31\n",
            "Learning Rate(ReduceLROnPlateau) =  0.0005264000000000001\n"
          ],
          "name": "stdout"
        },
        {
          "output_type": "stream",
          "text": [
            "Train set: Loss=0.8845719695091248 Batch_id=390 Accuracy=76.44: 100%|██████████| 391/391 [00:55<00:00,  7.04it/s]\n",
            "  0%|          | 0/391 [00:00<?, ?it/s]"
          ],
          "name": "stderr"
        },
        {
          "output_type": "stream",
          "text": [
            "\n",
            "Test set: Average loss: 0.0040, Accuracy: 8283/10000 (82.83%)\n",
            "\n",
            "ReduceLROnPlateau, ReduceLROnPlateau::step(), val_loss 0.0039668526083230975\n",
            "\n",
            "Current EPOCH: 32\n",
            "Learning Rate(ReduceLROnPlateau) =  0.0005264000000000001\n"
          ],
          "name": "stdout"
        },
        {
          "output_type": "stream",
          "text": [
            "Train set: Loss=0.9566413164138794 Batch_id=390 Accuracy=76.74: 100%|██████████| 391/391 [00:55<00:00,  7.04it/s]\n",
            "  0%|          | 0/391 [00:00<?, ?it/s]"
          ],
          "name": "stderr"
        },
        {
          "output_type": "stream",
          "text": [
            "\n",
            "Test set: Average loss: 0.0039, Accuracy: 8331/10000 (83.31%)\n",
            "\n",
            "ReduceLROnPlateau, ReduceLROnPlateau::step(), val_loss 0.0039020315170288085\n",
            "\n",
            "Current EPOCH: 33\n",
            "Learning Rate(ReduceLROnPlateau) =  0.0005264000000000001\n"
          ],
          "name": "stdout"
        },
        {
          "output_type": "stream",
          "text": [
            "Train set: Loss=0.6533699631690979 Batch_id=390 Accuracy=76.98: 100%|██████████| 391/391 [00:55<00:00,  7.05it/s]\n",
            "  0%|          | 0/391 [00:00<?, ?it/s]"
          ],
          "name": "stderr"
        },
        {
          "output_type": "stream",
          "text": [
            "\n",
            "Test set: Average loss: 0.0038, Accuracy: 8327/10000 (83.27%)\n",
            "\n",
            "ReduceLROnPlateau, ReduceLROnPlateau::step(), val_loss 0.003840154492855072\n",
            "\n",
            "Current EPOCH: 34\n",
            "Learning Rate(ReduceLROnPlateau) =  0.0005264000000000001\n"
          ],
          "name": "stdout"
        },
        {
          "output_type": "stream",
          "text": [
            "Train set: Loss=0.7167603969573975 Batch_id=390 Accuracy=77.16: 100%|██████████| 391/391 [00:55<00:00,  7.06it/s]\n",
            "  0%|          | 0/391 [00:00<?, ?it/s]"
          ],
          "name": "stderr"
        },
        {
          "output_type": "stream",
          "text": [
            "\n",
            "Test set: Average loss: 0.0040, Accuracy: 8277/10000 (82.77%)\n",
            "\n",
            "ReduceLROnPlateau, ReduceLROnPlateau::step(), val_loss 0.003988975721597672\n",
            "\n",
            "Current EPOCH: 35\n",
            "Learning Rate(ReduceLROnPlateau) =  0.0005264000000000001\n"
          ],
          "name": "stdout"
        },
        {
          "output_type": "stream",
          "text": [
            "Train set: Loss=0.9262033700942993 Batch_id=390 Accuracy=77.04: 100%|██████████| 391/391 [00:55<00:00,  7.03it/s]\n",
            "  0%|          | 0/391 [00:00<?, ?it/s]"
          ],
          "name": "stderr"
        },
        {
          "output_type": "stream",
          "text": [
            "\n",
            "Test set: Average loss: 0.0038, Accuracy: 8331/10000 (83.31%)\n",
            "\n",
            "ReduceLROnPlateau, ReduceLROnPlateau::step(), val_loss 0.003826552551984787\n",
            "\n",
            "Current EPOCH: 36\n",
            "Learning Rate(ReduceLROnPlateau) =  0.0005264000000000001\n"
          ],
          "name": "stdout"
        },
        {
          "output_type": "stream",
          "text": [
            "Train set: Loss=0.7134802937507629 Batch_id=390 Accuracy=77.13: 100%|██████████| 391/391 [00:55<00:00,  7.03it/s]\n",
            "  0%|          | 0/391 [00:00<?, ?it/s]"
          ],
          "name": "stderr"
        },
        {
          "output_type": "stream",
          "text": [
            "\n",
            "Test set: Average loss: 0.0038, Accuracy: 8318/10000 (83.18%)\n",
            "\n",
            "ReduceLROnPlateau, ReduceLROnPlateau::step(), val_loss 0.0038169892698526383\n",
            "\n",
            "Current EPOCH: 37\n",
            "Learning Rate(ReduceLROnPlateau) =  0.0005264000000000001\n"
          ],
          "name": "stdout"
        },
        {
          "output_type": "stream",
          "text": [
            "Train set: Loss=0.8014155626296997 Batch_id=390 Accuracy=77.19: 100%|██████████| 391/391 [00:55<00:00,  7.04it/s]\n",
            "  0%|          | 0/391 [00:00<?, ?it/s]"
          ],
          "name": "stderr"
        },
        {
          "output_type": "stream",
          "text": [
            "\n",
            "Test set: Average loss: 0.0038, Accuracy: 8367/10000 (83.67%)\n",
            "\n",
            "ReduceLROnPlateau, ReduceLROnPlateau::step(), val_loss 0.003775630870461464\n",
            "\n",
            "Current EPOCH: 38\n",
            "Learning Rate(ReduceLROnPlateau) =  0.0005264000000000001\n"
          ],
          "name": "stdout"
        },
        {
          "output_type": "stream",
          "text": [
            "Train set: Loss=0.8424111008644104 Batch_id=390 Accuracy=77.66: 100%|██████████| 391/391 [00:55<00:00,  7.05it/s]\n",
            "  0%|          | 0/391 [00:00<?, ?it/s]"
          ],
          "name": "stderr"
        },
        {
          "output_type": "stream",
          "text": [
            "\n",
            "Test set: Average loss: 0.0038, Accuracy: 8351/10000 (83.51%)\n",
            "\n",
            "ReduceLROnPlateau, ReduceLROnPlateau::step(), val_loss 0.0037585325062274933\n",
            "\n",
            "Current EPOCH: 39\n",
            "Learning Rate(ReduceLROnPlateau) =  0.0005264000000000001\n"
          ],
          "name": "stdout"
        },
        {
          "output_type": "stream",
          "text": [
            "Train set: Loss=0.8911141753196716 Batch_id=390 Accuracy=77.20: 100%|██████████| 391/391 [00:55<00:00,  7.05it/s]\n",
            "  0%|          | 0/391 [00:00<?, ?it/s]"
          ],
          "name": "stderr"
        },
        {
          "output_type": "stream",
          "text": [
            "\n",
            "Test set: Average loss: 0.0038, Accuracy: 8325/10000 (83.25%)\n",
            "\n",
            "ReduceLROnPlateau, ReduceLROnPlateau::step(), val_loss 0.0038389262318611144\n",
            "\n",
            "Current EPOCH: 40\n",
            "Learning Rate(ReduceLROnPlateau) =  0.0005264000000000001\n"
          ],
          "name": "stdout"
        },
        {
          "output_type": "stream",
          "text": [
            "Train set: Loss=0.7871730327606201 Batch_id=390 Accuracy=77.34: 100%|██████████| 391/391 [00:55<00:00,  7.03it/s]\n",
            "  0%|          | 0/391 [00:00<?, ?it/s]"
          ],
          "name": "stderr"
        },
        {
          "output_type": "stream",
          "text": [
            "\n",
            "Test set: Average loss: 0.0037, Accuracy: 8404/10000 (84.04%)\n",
            "\n",
            "ReduceLROnPlateau, ReduceLROnPlateau::step(), val_loss 0.0037311997830867766\n",
            "\n",
            "Current EPOCH: 41\n",
            "Learning Rate(ReduceLROnPlateau) =  0.0005264000000000001\n"
          ],
          "name": "stdout"
        },
        {
          "output_type": "stream",
          "text": [
            "Train set: Loss=0.7219609618186951 Batch_id=390 Accuracy=77.57: 100%|██████████| 391/391 [00:55<00:00,  7.03it/s]\n",
            "  0%|          | 0/391 [00:00<?, ?it/s]"
          ],
          "name": "stderr"
        },
        {
          "output_type": "stream",
          "text": [
            "\n",
            "Test set: Average loss: 0.0038, Accuracy: 8364/10000 (83.64%)\n",
            "\n",
            "ReduceLROnPlateau, ReduceLROnPlateau::step(), val_loss 0.003758834284543991\n",
            "\n",
            "Current EPOCH: 42\n",
            "Learning Rate(ReduceLROnPlateau) =  0.0005264000000000001\n"
          ],
          "name": "stdout"
        },
        {
          "output_type": "stream",
          "text": [
            "Train set: Loss=0.7246653437614441 Batch_id=390 Accuracy=77.76: 100%|██████████| 391/391 [00:55<00:00,  7.05it/s]\n",
            "  0%|          | 0/391 [00:00<?, ?it/s]"
          ],
          "name": "stderr"
        },
        {
          "output_type": "stream",
          "text": [
            "\n",
            "Test set: Average loss: 0.0038, Accuracy: 8325/10000 (83.25%)\n",
            "\n",
            "ReduceLROnPlateau, ReduceLROnPlateau::step(), val_loss 0.00384498091340065\n",
            "\n",
            "Current EPOCH: 43\n",
            "Learning Rate(ReduceLROnPlateau) =  0.0005264000000000001\n"
          ],
          "name": "stdout"
        },
        {
          "output_type": "stream",
          "text": [
            "Train set: Loss=0.7691771984100342 Batch_id=390 Accuracy=77.71: 100%|██████████| 391/391 [00:55<00:00,  7.04it/s]\n",
            "  0%|          | 0/391 [00:00<?, ?it/s]"
          ],
          "name": "stderr"
        },
        {
          "output_type": "stream",
          "text": [
            "\n",
            "Test set: Average loss: 0.0039, Accuracy: 8312/10000 (83.12%)\n",
            "\n",
            "ReduceLROnPlateau, ReduceLROnPlateau::step(), val_loss 0.0038786919087171554\n",
            "\n",
            "Current EPOCH: 44\n",
            "Learning Rate(ReduceLROnPlateau) =  0.0005264000000000001\n"
          ],
          "name": "stdout"
        },
        {
          "output_type": "stream",
          "text": [
            "Train set: Loss=0.8291316032409668 Batch_id=390 Accuracy=77.86: 100%|██████████| 391/391 [00:55<00:00,  7.04it/s]\n",
            "  0%|          | 0/391 [00:00<?, ?it/s]"
          ],
          "name": "stderr"
        },
        {
          "output_type": "stream",
          "text": [
            "\n",
            "Test set: Average loss: 0.0037, Accuracy: 8355/10000 (83.55%)\n",
            "\n",
            "ReduceLROnPlateau, ReduceLROnPlateau::step(), val_loss 0.0037398496508598326\n",
            "\n",
            "Current EPOCH: 45\n",
            "Learning Rate(ReduceLROnPlateau) =  0.00010528000000000002\n"
          ],
          "name": "stdout"
        },
        {
          "output_type": "stream",
          "text": [
            "Train set: Loss=0.9025251269340515 Batch_id=390 Accuracy=78.20: 100%|██████████| 391/391 [00:55<00:00,  7.04it/s]\n",
            "  0%|          | 0/391 [00:00<?, ?it/s]"
          ],
          "name": "stderr"
        },
        {
          "output_type": "stream",
          "text": [
            "\n",
            "Test set: Average loss: 0.0037, Accuracy: 8402/10000 (84.02%)\n",
            "\n",
            "ReduceLROnPlateau, ReduceLROnPlateau::step(), val_loss 0.003673923605680466\n",
            "\n",
            "Current EPOCH: 46\n",
            "Learning Rate(ReduceLROnPlateau) =  0.00010528000000000002\n"
          ],
          "name": "stdout"
        },
        {
          "output_type": "stream",
          "text": [
            "Train set: Loss=0.941533088684082 Batch_id=390 Accuracy=78.12: 100%|██████████| 391/391 [00:55<00:00,  7.03it/s]\n",
            "  0%|          | 0/391 [00:00<?, ?it/s]"
          ],
          "name": "stderr"
        },
        {
          "output_type": "stream",
          "text": [
            "\n",
            "Test set: Average loss: 0.0036, Accuracy: 8442/10000 (84.42%)\n",
            "\n",
            "ReduceLROnPlateau, ReduceLROnPlateau::step(), val_loss 0.003629804155230522\n",
            "\n",
            "Current EPOCH: 47\n",
            "Learning Rate(ReduceLROnPlateau) =  0.00010528000000000002\n"
          ],
          "name": "stdout"
        },
        {
          "output_type": "stream",
          "text": [
            "Train set: Loss=0.8826910853385925 Batch_id=390 Accuracy=78.34: 100%|██████████| 391/391 [00:55<00:00,  7.04it/s]\n",
            "  0%|          | 0/391 [00:00<?, ?it/s]"
          ],
          "name": "stderr"
        },
        {
          "output_type": "stream",
          "text": [
            "\n",
            "Test set: Average loss: 0.0037, Accuracy: 8380/10000 (83.80%)\n",
            "\n",
            "ReduceLROnPlateau, ReduceLROnPlateau::step(), val_loss 0.003722007840871811\n",
            "\n",
            "Current EPOCH: 48\n",
            "Learning Rate(ReduceLROnPlateau) =  0.00010528000000000002\n"
          ],
          "name": "stdout"
        },
        {
          "output_type": "stream",
          "text": [
            "Train set: Loss=0.9854153990745544 Batch_id=390 Accuracy=78.46: 100%|██████████| 391/391 [00:55<00:00,  7.03it/s]\n",
            "  0%|          | 0/391 [00:00<?, ?it/s]"
          ],
          "name": "stderr"
        },
        {
          "output_type": "stream",
          "text": [
            "\n",
            "Test set: Average loss: 0.0036, Accuracy: 8426/10000 (84.26%)\n",
            "\n",
            "ReduceLROnPlateau, ReduceLROnPlateau::step(), val_loss 0.003627431216835976\n",
            "\n",
            "Current EPOCH: 49\n",
            "Learning Rate(ReduceLROnPlateau) =  0.00010528000000000002\n"
          ],
          "name": "stdout"
        },
        {
          "output_type": "stream",
          "text": [
            "Train set: Loss=0.7477579116821289 Batch_id=390 Accuracy=78.20: 100%|██████████| 391/391 [00:55<00:00,  7.05it/s]\n"
          ],
          "name": "stderr"
        },
        {
          "output_type": "stream",
          "text": [
            "\n",
            "Test set: Average loss: 0.0036, Accuracy: 8434/10000 (84.34%)\n",
            "\n",
            "ReduceLROnPlateau, ReduceLROnPlateau::step(), val_loss 0.0036452473878860474\n"
          ],
          "name": "stdout"
        }
      ]
    },
    {
      "cell_type": "code",
      "metadata": {
        "id": "nmHdIipQuKrC"
      },
      "source": [
        ""
      ],
      "execution_count": 20,
      "outputs": []
    },
    {
      "cell_type": "code",
      "metadata": {
        "id": "-APAfEltKYbG"
      },
      "source": [
        "classes = ('plane', 'car', 'bird', 'cat', 'deer', 'dog',\n",
        "\t\t\t'frog', 'horse', 'ship', 'truck')"
      ],
      "execution_count": 21,
      "outputs": []
    },
    {
      "cell_type": "code",
      "metadata": {
        "id": "bKLG7lioKZVV",
        "outputId": "48396313-2e92-4d93-d5e4-c36e7ff0515a",
        "colab": {
          "base_uri": "https://localhost:8080/",
          "height": 221
        }
      },
      "source": [
        "trainer.classwise_acc(classes)"
      ],
      "execution_count": 22,
      "outputs": [
        {
          "output_type": "stream",
          "text": [
            "\n",
            "Accuracy of plane : 82 %\n",
            "Accuracy of   car : 89 %\n",
            "Accuracy of  bird : 70 %\n",
            "Accuracy of   cat : 65 %\n",
            "Accuracy of  deer : 83 %\n",
            "Accuracy of   dog : 74 %\n",
            "Accuracy of  frog : 96 %\n",
            "Accuracy of horse : 90 %\n",
            "Accuracy of  ship : 84 %\n",
            "Accuracy of truck : 89 %\n",
            "\n"
          ],
          "name": "stdout"
        }
      ]
    },
    {
      "cell_type": "code",
      "metadata": {
        "id": "VLeIl6V1KbFp",
        "outputId": "a4d7df02-e792-4841-84db-66d1c6725ffb",
        "colab": {
          "base_uri": "https://localhost:8080/",
          "height": 102
        }
      },
      "source": [
        "misclassified_imgs = trainer.get_misclassified()"
      ],
      "execution_count": 23,
      "outputs": [
        {
          "output_type": "stream",
          "text": [
            "/content/EVA5/trainer/trainer.py:148: UserWarning: This overload of nonzero is deprecated:\n",
            "\tnonzero()\n",
            "Consider using one of the following signatures instead:\n",
            "\tnonzero(*, bool as_tuple) (Triggered internally at  /pytorch/torch/csrc/utils/python_arg_parser.cpp:766.)\n",
            "  misclassified_inds = (is_correct == 0).nonzero()[:, 0]\n"
          ],
          "name": "stderr"
        }
      ]
    },
    {
      "cell_type": "code",
      "metadata": {
        "id": "CWAEHg07KeIY",
        "outputId": "c900eb52-d08a-4ac9-c70d-1b2c5f893f95",
        "colab": {
          "base_uri": "https://localhost:8080/",
          "height": 729
        }
      },
      "source": [
        "plot_misclassified_images(misclassified_imgs, classes, \"misclassified_images1.png\")"
      ],
      "execution_count": 24,
      "outputs": [
        {
          "output_type": "display_data",
          "data": {
            "image/png": "[encoded data removed]",
            "text/plain": [
              "<Figure size 720x720 with 25 Axes>"
            ]
          },
          "metadata": {
            "tags": [],
            "needs_background": "light"
          }
        }
      ]
    },
    {
      "cell_type": "code",
      "metadata": {
        "id": "g35HICT2Kgp5",
        "outputId": "8cda7ea8-f5c2-4727-fbd8-40d1e4111200",
        "colab": {
          "base_uri": "https://localhost:8080/",
          "height": 607
        }
      },
      "source": [
        "from results import plot_metrics\n",
        "plot_metrics(train_loss, train_acc, test_loss, test_acc)"
      ],
      "execution_count": 25,
      "outputs": [
        {
          "output_type": "display_data",
          "data": {
            "image/png": "[encoded data removed]",
            "text/plain": [
              "<Figure size 1080x720 with 4 Axes>"
            ]
          },
          "metadata": {
            "tags": [],
            "needs_background": "light"
          }
        }
      ]
    },
    {
      "cell_type": "code",
      "metadata": {
        "id": "YS4avjXSKk_J"
      },
      "source": [
        "### GradCam"
      ],
      "execution_count": 26,
      "outputs": []
    },
    {
      "cell_type": "code",
      "metadata": {
        "id": "LUPqvUO1cq4_"
      },
      "source": [
        "dataiter = iter(data.test_loader)\n",
        "images, labels = dataiter.next()"
      ],
      "execution_count": 27,
      "outputs": []
    },
    {
      "cell_type": "code",
      "metadata": {
        "id": "gX90Ur_Zcysh"
      },
      "source": [
        "import PIL\n",
        "import numpy as np"
      ],
      "execution_count": 28,
      "outputs": []
    },
    {
      "cell_type": "code",
      "metadata": {
        "id": "88PWN-mddnWn"
      },
      "source": [
        "# model.convblock"
      ],
      "execution_count": 29,
      "outputs": []
    },
    {
      "cell_type": "code",
      "metadata": {
        "id": "eerB8TQmAtUk",
        "outputId": "966c4231-7199-4352-90be-78ac7bcc7164",
        "colab": {
          "base_uri": "https://localhost:8080/",
          "height": 357
        }
      },
      "source": [
        "for name, layer in model.named_modules():\n",
        "  if isinstance(layer, torch.nn.Conv2d):\n",
        "    print(name, layer)"
      ],
      "execution_count": 30,
      "outputs": [
        {
          "output_type": "stream",
          "text": [
            "conv1 Conv2d(3, 64, kernel_size=(3, 3), stride=(1, 1), padding=(1, 1), bias=False)\n",
            "layer1.0.conv1 Conv2d(64, 64, kernel_size=(3, 3), stride=(1, 1), padding=(1, 1), bias=False)\n",
            "layer1.0.conv2 Conv2d(64, 64, kernel_size=(3, 3), stride=(1, 1), padding=(1, 1), bias=False)\n",
            "layer1.1.conv1 Conv2d(64, 64, kernel_size=(3, 3), stride=(1, 1), padding=(1, 1), bias=False)\n",
            "layer1.1.conv2 Conv2d(64, 64, kernel_size=(3, 3), stride=(1, 1), padding=(1, 1), bias=False)\n",
            "layer2.0.conv1 Conv2d(64, 128, kernel_size=(3, 3), stride=(2, 2), padding=(1, 1), bias=False)\n",
            "layer2.0.conv2 Conv2d(128, 128, kernel_size=(3, 3), stride=(1, 1), padding=(1, 1), bias=False)\n",
            "layer2.0.shortcut.0 Conv2d(64, 128, kernel_size=(1, 1), stride=(2, 2), bias=False)\n",
            "layer2.1.conv1 Conv2d(128, 128, kernel_size=(3, 3), stride=(1, 1), padding=(1, 1), bias=False)\n",
            "layer2.1.conv2 Conv2d(128, 128, kernel_size=(3, 3), stride=(1, 1), padding=(1, 1), bias=False)\n",
            "layer3.0.conv1 Conv2d(128, 256, kernel_size=(3, 3), stride=(2, 2), padding=(1, 1), bias=False)\n",
            "layer3.0.conv2 Conv2d(256, 256, kernel_size=(3, 3), stride=(1, 1), padding=(1, 1), bias=False)\n",
            "layer3.0.shortcut.0 Conv2d(128, 256, kernel_size=(1, 1), stride=(2, 2), bias=False)\n",
            "layer3.1.conv1 Conv2d(256, 256, kernel_size=(3, 3), stride=(1, 1), padding=(1, 1), bias=False)\n",
            "layer3.1.conv2 Conv2d(256, 256, kernel_size=(3, 3), stride=(1, 1), padding=(1, 1), bias=False)\n",
            "layer4.0.conv1 Conv2d(256, 512, kernel_size=(3, 3), stride=(2, 2), padding=(1, 1), bias=False)\n",
            "layer4.0.conv2 Conv2d(512, 512, kernel_size=(3, 3), stride=(1, 1), padding=(1, 1), bias=False)\n",
            "layer4.0.shortcut.0 Conv2d(256, 512, kernel_size=(1, 1), stride=(2, 2), bias=False)\n",
            "layer4.1.conv1 Conv2d(512, 512, kernel_size=(3, 3), stride=(1, 1), padding=(1, 1), bias=False)\n",
            "layer4.1.conv2 Conv2d(512, 512, kernel_size=(3, 3), stride=(1, 1), padding=(1, 1), bias=False)\n"
          ],
          "name": "stdout"
        }
      ]
    },
    {
      "cell_type": "code",
      "metadata": {
        "id": "A1yrtqj8dQWT"
      },
      "source": [
        "def plot_images_gradcam(torch_img,normed_torch_img, model):\n",
        "    images=[]\n",
        "    g1 = GradCAM(model, model.layer1)\n",
        "    g2 = GradCAM(model, model.layer2)\n",
        "    g3 = GradCAM(model, model.layer3)\n",
        "    g4 = GradCAM(model, model.layer4)\n",
        "    mask1, _ = g1(normed_torch_img)\n",
        "    mask2, _ = g2(normed_torch_img)\n",
        "    mask3, _ = g3(normed_torch_img)\n",
        "    mask4, _ = g4(normed_torch_img)\n",
        "    heatmap1, result1 = visualize_cam(mask1, torch_img)\n",
        "    heatmap2, result2 = visualize_cam(mask2, torch_img)\n",
        "    heatmap3, result3 = visualize_cam(mask3, torch_img)\n",
        "    heatmap4, result4 = visualize_cam(mask4, torch_img)\n",
        "\n",
        "    images.extend([torch_img.cpu(), heatmap1, heatmap2, heatmap3, heatmap4])\n",
        "    images.extend([torch_img.cpu(), result1, result2, result3, result4])\n",
        "    grid_image = make_grid(images, nrow=5)\n",
        "    imshow(grid_image)"
      ],
      "execution_count": 31,
      "outputs": []
    },
    {
      "cell_type": "code",
      "metadata": {
        "id": "co6zo6Dbc7oM",
        "outputId": "e826fcbe-2448-4766-a5d5-cb461d98ac6d",
        "colab": {
          "base_uri": "https://localhost:8080/",
          "height": 356
        }
      },
      "source": [
        "trans = transforms.ToPILImage()\n",
        "pil_img=trans(torchvision.utils.make_grid(images[1]))\n",
        "torch_img,normed_torch_img=change(pil_img,device)\n",
        "plot_images_gradcam(torch_img,normed_torch_img, model)"
      ],
      "execution_count": 32,
      "outputs": [
        {
          "output_type": "stream",
          "text": [
            "/usr/local/lib/python3.6/dist-packages/torch/nn/functional.py:2941: UserWarning: nn.functional.upsample is deprecated. Use nn.functional.interpolate instead.\n",
            "  warnings.warn(\"nn.functional.upsample is deprecated. Use nn.functional.interpolate instead.\")\n"
          ],
          "name": "stderr"
        },
        {
          "output_type": "display_data",
          "data": {
            "image/png": "[encoded data removed]",
            "text/plain": [
              "<Figure size 864x864 with 1 Axes>"
            ]
          },
          "metadata": {
            "tags": [],
            "needs_background": "light"
          }
        }
      ]
    }
  ]
}