{
  "nbformat": 4,
  "nbformat_minor": 0,
  "metadata": {
    "kernelspec": {
      "display_name": "Python 3",
      "language": "python",
      "name": "python3"
    },
    "language_info": {
      "codemirror_mode": {
        "name": "ipython",
        "version": 3
      },
      "file_extension": ".py",
      "mimetype": "text/x-python",
      "name": "python",
      "nbconvert_exporter": "python",
      "pygments_lexer": "ipython3",
      "version": "3.8.3"
    },
    "colab": {
      "name": "EVA_AssignmentS8_solution.ipynb",
      "provenance": [],
      "collapsed_sections": []
    },
    "accelerator": "GPU",
    "widgets": {
      "application/vnd.jupyter.widget-state+json": {
        "9e38b91e7a894997bd09a3a2c82f6cff": {
          "model_module": "@jupyter-widgets/controls",
          "model_name": "HBoxModel",
          "state": {
            "_view_name": "HBoxView",
            "_dom_classes": [],
            "_model_name": "HBoxModel",
            "_view_module": "@jupyter-widgets/controls",
            "_model_module_version": "1.5.0",
            "_view_count": null,
            "_view_module_version": "1.5.0",
            "box_style": "",
            "layout": "IPY_MODEL_364cbe1d8b684e46bd29919cecd64677",
            "_model_module": "@jupyter-widgets/controls",
            "children": [
              "IPY_MODEL_12dbccc26734414e92c3a1f6dbaec40c",
              "IPY_MODEL_24dd989e9e17471c896ccd6775522d1c"
            ]
          }
        },
        "364cbe1d8b684e46bd29919cecd64677": {
          "model_module": "@jupyter-widgets/base",
          "model_name": "LayoutModel",
          "state": {
            "_view_name": "LayoutView",
            "grid_template_rows": null,
            "right": null,
            "justify_content": null,
            "_view_module": "@jupyter-widgets/base",
            "overflow": null,
            "_model_module_version": "1.2.0",
            "_view_count": null,
            "flex_flow": null,
            "width": null,
            "min_width": null,
            "border": null,
            "align_items": null,
            "bottom": null,
            "_model_module": "@jupyter-widgets/base",
            "top": null,
            "grid_column": null,
            "overflow_y": null,
            "overflow_x": null,
            "grid_auto_flow": null,
            "grid_area": null,
            "grid_template_columns": null,
            "flex": null,
            "_model_name": "LayoutModel",
            "justify_items": null,
            "grid_row": null,
            "max_height": null,
            "align_content": null,
            "visibility": null,
            "align_self": null,
            "height": null,
            "min_height": null,
            "padding": null,
            "grid_auto_rows": null,
            "grid_gap": null,
            "max_width": null,
            "order": null,
            "_view_module_version": "1.2.0",
            "grid_template_areas": null,
            "object_position": null,
            "object_fit": null,
            "grid_auto_columns": null,
            "margin": null,
            "display": null,
            "left": null
          }
        },
        "12dbccc26734414e92c3a1f6dbaec40c": {
          "model_module": "@jupyter-widgets/controls",
          "model_name": "FloatProgressModel",
          "state": {
            "_view_name": "ProgressView",
            "style": "IPY_MODEL_6897ea8c42a64b4aafde8fe59e153a5d",
            "_dom_classes": [],
            "description": "",
            "_model_name": "FloatProgressModel",
            "bar_style": "info",
            "max": 1,
            "_view_module": "@jupyter-widgets/controls",
            "_model_module_version": "1.5.0",
            "value": 0,
            "_view_count": null,
            "_view_module_version": "1.5.0",
            "orientation": "horizontal",
            "min": 0,
            "description_tooltip": null,
            "_model_module": "@jupyter-widgets/controls",
            "layout": "IPY_MODEL_096238911b2349159c8c51cd7d297db3"
          }
        },
        "24dd989e9e17471c896ccd6775522d1c": {
          "model_module": "@jupyter-widgets/controls",
          "model_name": "HTMLModel",
          "state": {
            "_view_name": "HTMLView",
            "style": "IPY_MODEL_1775160274094663a5a43b508f895724",
            "_dom_classes": [],
            "description": "",
            "_model_name": "HTMLModel",
            "placeholder": "​",
            "_view_module": "@jupyter-widgets/controls",
            "_model_module_version": "1.5.0",
            "value": " 0/? [00:00&lt;?, ?it/s]",
            "_view_count": null,
            "_view_module_version": "1.5.0",
            "description_tooltip": null,
            "_model_module": "@jupyter-widgets/controls",
            "layout": "IPY_MODEL_e1727121d5004317b56e2f4c755cb450"
          }
        },
        "6897ea8c42a64b4aafde8fe59e153a5d": {
          "model_module": "@jupyter-widgets/controls",
          "model_name": "ProgressStyleModel",
          "state": {
            "_view_name": "StyleView",
            "_model_name": "ProgressStyleModel",
            "description_width": "initial",
            "_view_module": "@jupyter-widgets/base",
            "_model_module_version": "1.5.0",
            "_view_count": null,
            "_view_module_version": "1.2.0",
            "bar_color": null,
            "_model_module": "@jupyter-widgets/controls"
          }
        },
        "096238911b2349159c8c51cd7d297db3": {
          "model_module": "@jupyter-widgets/base",
          "model_name": "LayoutModel",
          "state": {
            "_view_name": "LayoutView",
            "grid_template_rows": null,
            "right": null,
            "justify_content": null,
            "_view_module": "@jupyter-widgets/base",
            "overflow": null,
            "_model_module_version": "1.2.0",
            "_view_count": null,
            "flex_flow": null,
            "width": null,
            "min_width": null,
            "border": null,
            "align_items": null,
            "bottom": null,
            "_model_module": "@jupyter-widgets/base",
            "top": null,
            "grid_column": null,
            "overflow_y": null,
            "overflow_x": null,
            "grid_auto_flow": null,
            "grid_area": null,
            "grid_template_columns": null,
            "flex": null,
            "_model_name": "LayoutModel",
            "justify_items": null,
            "grid_row": null,
            "max_height": null,
            "align_content": null,
            "visibility": null,
            "align_self": null,
            "height": null,
            "min_height": null,
            "padding": null,
            "grid_auto_rows": null,
            "grid_gap": null,
            "max_width": null,
            "order": null,
            "_view_module_version": "1.2.0",
            "grid_template_areas": null,
            "object_position": null,
            "object_fit": null,
            "grid_auto_columns": null,
            "margin": null,
            "display": null,
            "left": null
          }
        },
        "1775160274094663a5a43b508f895724": {
          "model_module": "@jupyter-widgets/controls",
          "model_name": "DescriptionStyleModel",
          "state": {
            "_view_name": "StyleView",
            "_model_name": "DescriptionStyleModel",
            "description_width": "",
            "_view_module": "@jupyter-widgets/base",
            "_model_module_version": "1.5.0",
            "_view_count": null,
            "_view_module_version": "1.2.0",
            "_model_module": "@jupyter-widgets/controls"
          }
        },
        "e1727121d5004317b56e2f4c755cb450": {
          "model_module": "@jupyter-widgets/base",
          "model_name": "LayoutModel",
          "state": {
            "_view_name": "LayoutView",
            "grid_template_rows": null,
            "right": null,
            "justify_content": null,
            "_view_module": "@jupyter-widgets/base",
            "overflow": null,
            "_model_module_version": "1.2.0",
            "_view_count": null,
            "flex_flow": null,
            "width": null,
            "min_width": null,
            "border": null,
            "align_items": null,
            "bottom": null,
            "_model_module": "@jupyter-widgets/base",
            "top": null,
            "grid_column": null,
            "overflow_y": null,
            "overflow_x": null,
            "grid_auto_flow": null,
            "grid_area": null,
            "grid_template_columns": null,
            "flex": null,
            "_model_name": "LayoutModel",
            "justify_items": null,
            "grid_row": null,
            "max_height": null,
            "align_content": null,
            "visibility": null,
            "align_self": null,
            "height": null,
            "min_height": null,
            "padding": null,
            "grid_auto_rows": null,
            "grid_gap": null,
            "max_width": null,
            "order": null,
            "_view_module_version": "1.2.0",
            "grid_template_areas": null,
            "object_position": null,
            "object_fit": null,
            "grid_auto_columns": null,
            "margin": null,
            "display": null,
            "left": null
          }
        },
        "fee3edde0e27471b8294b516bb2836f4": {
          "model_module": "@jupyter-widgets/controls",
          "model_name": "HBoxModel",
          "state": {
            "_view_name": "HBoxView",
            "_dom_classes": [],
            "_model_name": "HBoxModel",
            "_view_module": "@jupyter-widgets/controls",
            "_model_module_version": "1.5.0",
            "_view_count": null,
            "_view_module_version": "1.5.0",
            "box_style": "",
            "layout": "IPY_MODEL_2e00f621c0b348e1bc573ae020abe3c8",
            "_model_module": "@jupyter-widgets/controls",
            "children": [
              "IPY_MODEL_d769d12a5aa34f2f97028bdd3280df34",
              "IPY_MODEL_afdb19150bd84e988e5343ad7286dd25"
            ]
          }
        },
        "2e00f621c0b348e1bc573ae020abe3c8": {
          "model_module": "@jupyter-widgets/base",
          "model_name": "LayoutModel",
          "state": {
            "_view_name": "LayoutView",
            "grid_template_rows": null,
            "right": null,
            "justify_content": null,
            "_view_module": "@jupyter-widgets/base",
            "overflow": null,
            "_model_module_version": "1.2.0",
            "_view_count": null,
            "flex_flow": null,
            "width": null,
            "min_width": null,
            "border": null,
            "align_items": null,
            "bottom": null,
            "_model_module": "@jupyter-widgets/base",
            "top": null,
            "grid_column": null,
            "overflow_y": null,
            "overflow_x": null,
            "grid_auto_flow": null,
            "grid_area": null,
            "grid_template_columns": null,
            "flex": null,
            "_model_name": "LayoutModel",
            "justify_items": null,
            "grid_row": null,
            "max_height": null,
            "align_content": null,
            "visibility": null,
            "align_self": null,
            "height": null,
            "min_height": null,
            "padding": null,
            "grid_auto_rows": null,
            "grid_gap": null,
            "max_width": null,
            "order": null,
            "_view_module_version": "1.2.0",
            "grid_template_areas": null,
            "object_position": null,
            "object_fit": null,
            "grid_auto_columns": null,
            "margin": null,
            "display": null,
            "left": null
          }
        },
        "d769d12a5aa34f2f97028bdd3280df34": {
          "model_module": "@jupyter-widgets/controls",
          "model_name": "FloatProgressModel",
          "state": {
            "_view_name": "ProgressView",
            "style": "IPY_MODEL_22ab802662c94878a2077dbeb0e05054",
            "_dom_classes": [],
            "description": "",
            "_model_name": "FloatProgressModel",
            "bar_style": "info",
            "max": 1,
            "_view_module": "@jupyter-widgets/controls",
            "_model_module_version": "1.5.0",
            "value": 1,
            "_view_count": null,
            "_view_module_version": "1.5.0",
            "orientation": "horizontal",
            "min": 0,
            "description_tooltip": null,
            "_model_module": "@jupyter-widgets/controls",
            "layout": "IPY_MODEL_fe663042e66b4967bdf6a23db7d19254"
          }
        },
        "afdb19150bd84e988e5343ad7286dd25": {
          "model_module": "@jupyter-widgets/controls",
          "model_name": "HTMLModel",
          "state": {
            "_view_name": "HTMLView",
            "style": "IPY_MODEL_4d9c271fa01f4574a2aa719c6aae59e3",
            "_dom_classes": [],
            "description": "",
            "_model_name": "HTMLModel",
            "placeholder": "​",
            "_view_module": "@jupyter-widgets/controls",
            "_model_module_version": "1.5.0",
            "value": " 170500096/? [00:19&lt;00:00, 29220306.42it/s]",
            "_view_count": null,
            "_view_module_version": "1.5.0",
            "description_tooltip": null,
            "_model_module": "@jupyter-widgets/controls",
            "layout": "IPY_MODEL_bdf6cf7b968a4a7888d8edfa2c09cd3f"
          }
        },
        "22ab802662c94878a2077dbeb0e05054": {
          "model_module": "@jupyter-widgets/controls",
          "model_name": "ProgressStyleModel",
          "state": {
            "_view_name": "StyleView",
            "_model_name": "ProgressStyleModel",
            "description_width": "initial",
            "_view_module": "@jupyter-widgets/base",
            "_model_module_version": "1.5.0",
            "_view_count": null,
            "_view_module_version": "1.2.0",
            "bar_color": null,
            "_model_module": "@jupyter-widgets/controls"
          }
        },
        "fe663042e66b4967bdf6a23db7d19254": {
          "model_module": "@jupyter-widgets/base",
          "model_name": "LayoutModel",
          "state": {
            "_view_name": "LayoutView",
            "grid_template_rows": null,
            "right": null,
            "justify_content": null,
            "_view_module": "@jupyter-widgets/base",
            "overflow": null,
            "_model_module_version": "1.2.0",
            "_view_count": null,
            "flex_flow": null,
            "width": null,
            "min_width": null,
            "border": null,
            "align_items": null,
            "bottom": null,
            "_model_module": "@jupyter-widgets/base",
            "top": null,
            "grid_column": null,
            "overflow_y": null,
            "overflow_x": null,
            "grid_auto_flow": null,
            "grid_area": null,
            "grid_template_columns": null,
            "flex": null,
            "_model_name": "LayoutModel",
            "justify_items": null,
            "grid_row": null,
            "max_height": null,
            "align_content": null,
            "visibility": null,
            "align_self": null,
            "height": null,
            "min_height": null,
            "padding": null,
            "grid_auto_rows": null,
            "grid_gap": null,
            "max_width": null,
            "order": null,
            "_view_module_version": "1.2.0",
            "grid_template_areas": null,
            "object_position": null,
            "object_fit": null,
            "grid_auto_columns": null,
            "margin": null,
            "display": null,
            "left": null
          }
        },
        "4d9c271fa01f4574a2aa719c6aae59e3": {
          "model_module": "@jupyter-widgets/controls",
          "model_name": "DescriptionStyleModel",
          "state": {
            "_view_name": "StyleView",
            "_model_name": "DescriptionStyleModel",
            "description_width": "",
            "_view_module": "@jupyter-widgets/base",
            "_model_module_version": "1.5.0",
            "_view_count": null,
            "_view_module_version": "1.2.0",
            "_model_module": "@jupyter-widgets/controls"
          }
        },
        "bdf6cf7b968a4a7888d8edfa2c09cd3f": {
          "model_module": "@jupyter-widgets/base",
          "model_name": "LayoutModel",
          "state": {
            "_view_name": "LayoutView",
            "grid_template_rows": null,
            "right": null,
            "justify_content": null,
            "_view_module": "@jupyter-widgets/base",
            "overflow": null,
            "_model_module_version": "1.2.0",
            "_view_count": null,
            "flex_flow": null,
            "width": null,
            "min_width": null,
            "border": null,
            "align_items": null,
            "bottom": null,
            "_model_module": "@jupyter-widgets/base",
            "top": null,
            "grid_column": null,
            "overflow_y": null,
            "overflow_x": null,
            "grid_auto_flow": null,
            "grid_area": null,
            "grid_template_columns": null,
            "flex": null,
            "_model_name": "LayoutModel",
            "justify_items": null,
            "grid_row": null,
            "max_height": null,
            "align_content": null,
            "visibility": null,
            "align_self": null,
            "height": null,
            "min_height": null,
            "padding": null,
            "grid_auto_rows": null,
            "grid_gap": null,
            "max_width": null,
            "order": null,
            "_view_module_version": "1.2.0",
            "grid_template_areas": null,
            "object_position": null,
            "object_fit": null,
            "grid_auto_columns": null,
            "margin": null,
            "display": null,
            "left": null
          }
        }
      }
    }
  },
  "cells": [
    {
      "cell_type": "markdown",
      "metadata": {
        "id": "NqG18PP_bysn",
        "colab_type": "text"
      },
      "source": [
        "# Imports and Initialization\n",
        "## Import required modules"
      ]
    },
    {
      "cell_type": "code",
      "metadata": {
        "id": "qsYXZc1Hb_ZD",
        "colab_type": "code",
        "colab": {
          "base_uri": "https://localhost:8080/",
          "height": 134
        },
        "outputId": "40009b08-4aae-4c2a-e880-908c4062a1e6"
      },
      "source": [
        "!git clone https://github.com/vamsigp/EVA5"
      ],
      "execution_count": null,
      "outputs": [
        {
          "output_type": "stream",
          "text": [
            "Cloning into 'EVA5'...\n",
            "remote: Enumerating objects: 221, done.\u001b[K\n",
            "remote: Counting objects: 100% (221/221), done.\u001b[K\n",
            "remote: Compressing objects: 100% (171/171), done.\u001b[K\n",
            "remote: Total 221 (delta 88), reused 145 (delta 36), pack-reused 0\u001b[K\n",
            "Receiving objects: 100% (221/221), 14.67 MiB | 11.47 MiB/s, done.\n",
            "Resolving deltas: 100% (88/88), done.\n"
          ],
          "name": "stdout"
        }
      ]
    },
    {
      "cell_type": "code",
      "metadata": {
        "id": "lOfzc8LFcstz",
        "colab_type": "code",
        "colab": {
          "base_uri": "https://localhost:8080/",
          "height": 33
        },
        "outputId": "fafd3527-f839-4229-9ac8-82981b52d1fa"
      },
      "source": [
        "%cd EVA5/trainer"
      ],
      "execution_count": null,
      "outputs": [
        {
          "output_type": "stream",
          "text": [
            "/content/EVA5/trainer\n"
          ],
          "name": "stdout"
        }
      ]
    },
    {
      "cell_type": "code",
      "metadata": {
        "id": "AWe051vtdQMN",
        "colab_type": "code",
        "colab": {}
      },
      "source": [
        "# from models import ResNet18"
      ],
      "execution_count": null,
      "outputs": []
    },
    {
      "cell_type": "code",
      "metadata": {
        "id": "7WMfEs5-byst",
        "colab_type": "code",
        "colab": {}
      },
      "source": [
        "import torch\n",
        "import torchvision\n",
        "import torch.nn as nn\n",
        "import torch.optim as optim\n",
        "from config import ModelConfig\n",
        "from data_engine import DataEngine\n",
        "from train import train\n",
        "from test import test\n",
        "from results import plot_misclassified_images, plot_graph\n",
        "from utils import *"
      ],
      "execution_count": null,
      "outputs": []
    },
    {
      "cell_type": "code",
      "metadata": {
        "id": "XT5nkIdSHoJV",
        "colab_type": "code",
        "colab": {}
      },
      "source": [
        "from models.resnet import ResNet18"
      ],
      "execution_count": null,
      "outputs": []
    },
    {
      "cell_type": "markdown",
      "metadata": {
        "id": "3NNKaMOcbytD",
        "colab_type": "text"
      },
      "source": [
        "# Model Configuration and Set Seed\n",
        "### View model configuration and set the seed"
      ]
    },
    {
      "cell_type": "code",
      "metadata": {
        "id": "pliDF2u0bytQ",
        "colab_type": "code",
        "colab": {
          "base_uri": "https://localhost:8080/",
          "height": 167
        },
        "outputId": "d32b6a4f-9e90-41e1-e5ea-8aa7745ddcd7"
      },
      "source": [
        "# View model config\n",
        "args = ModelConfig()\n",
        "args.print_config()\n",
        "\n",
        "print()\n",
        "# Set seed\n",
        "init_seed(args)"
      ],
      "execution_count": null,
      "outputs": [
        {
          "output_type": "stream",
          "text": [
            "Model Parameters:\n",
            "{ 'batch_size_cpu': 64,\n",
            "  'batch_size_cuda': 64,\n",
            "  'dropout_value': 0.15,\n",
            "  'epochs': 50,\n",
            "  'num_workers': 4,\n",
            "  'seed': 1}\n",
            "\n",
            "CUDA Available\n"
          ],
          "name": "stdout"
        }
      ]
    },
    {
      "cell_type": "markdown",
      "metadata": {
        "id": "R1Vds2KBbyts",
        "colab_type": "text"
      },
      "source": [
        "# Data Loading and Visualization\n",
        "## Preprocess and load the cifar10 dataset. Visualise the dataset."
      ]
    },
    {
      "cell_type": "code",
      "metadata": {
        "id": "4Bs0YbyBbytz",
        "colab_type": "code",
        "colab": {
          "base_uri": "https://localhost:8080/",
          "height": 286,
          "referenced_widgets": [
            "9e38b91e7a894997bd09a3a2c82f6cff",
            "364cbe1d8b684e46bd29919cecd64677",
            "12dbccc26734414e92c3a1f6dbaec40c",
            "24dd989e9e17471c896ccd6775522d1c",
            "6897ea8c42a64b4aafde8fe59e153a5d",
            "096238911b2349159c8c51cd7d297db3",
            "1775160274094663a5a43b508f895724",
            "e1727121d5004317b56e2f4c755cb450",
            "fee3edde0e27471b8294b516bb2836f4",
            "2e00f621c0b348e1bc573ae020abe3c8",
            "d769d12a5aa34f2f97028bdd3280df34",
            "afdb19150bd84e988e5343ad7286dd25",
            "22ab802662c94878a2077dbeb0e05054",
            "fe663042e66b4967bdf6a23db7d19254",
            "4d9c271fa01f4574a2aa719c6aae59e3",
            "bdf6cf7b968a4a7888d8edfa2c09cd3f"
          ]
        },
        "outputId": "67acb851-899b-427c-a682-1f37d9049a97"
      },
      "source": [
        "data = DataEngine(args)\n",
        "\n",
        "# get some random training images\n",
        "dataiter = iter(data.train_loader)\n",
        "images, labels = dataiter.next()\n",
        "\n",
        "# show images\n",
        "imshow(torchvision.utils.make_grid(images[:4]))\n",
        "# print labels\n",
        "print(' '.join('%5s' % data.classes[labels[j]] for j in range(4)))"
      ],
      "execution_count": null,
      "outputs": [
        {
          "output_type": "stream",
          "text": [
            "Downloading https://www.cs.toronto.edu/~kriz/cifar-10-python.tar.gz to ./data/cifar-10-python.tar.gz\n"
          ],
          "name": "stdout"
        },
        {
          "output_type": "display_data",
          "data": {
            "application/vnd.jupyter.widget-view+json": {
              "model_id": "9e38b91e7a894997bd09a3a2c82f6cff",
              "version_minor": 0,
              "version_major": 2
            },
            "text/plain": [
              "HBox(children=(FloatProgress(value=1.0, bar_style='info', max=1.0), HTML(value='')))"
            ]
          },
          "metadata": {
            "tags": []
          }
        },
        {
          "output_type": "stream",
          "text": [
            "Failed download. Trying https -> http instead. Downloading http://www.cs.toronto.edu/~kriz/cifar-10-python.tar.gz to ./data/cifar-10-python.tar.gz\n"
          ],
          "name": "stdout"
        },
        {
          "output_type": "display_data",
          "data": {
            "application/vnd.jupyter.widget-view+json": {
              "model_id": "fee3edde0e27471b8294b516bb2836f4",
              "version_minor": 0,
              "version_major": 2
            },
            "text/plain": [
              "HBox(children=(FloatProgress(value=1.0, bar_style='info', max=1.0), HTML(value='')))"
            ]
          },
          "metadata": {
            "tags": []
          }
        },
        {
          "output_type": "stream",
          "text": [
            "Extracting ./data/cifar-10-python.tar.gz to ./data\n",
            "Files already downloaded and verified\n",
            "plane   dog  deer  deer\n"
          ],
          "name": "stdout"
        },
        {
          "output_type": "display_data",
          "data": {
            "image/png": "[encoded data removed]",
            "text/plain": [
              "<Figure size 432x288 with 1 Axes>"
            ]
          },
          "metadata": {
            "tags": [],
            "needs_background": "light"
          }
        }
      ]
    },
    {
      "cell_type": "code",
      "metadata": {
        "id": "qYUTh8JrDSqT",
        "colab_type": "code",
        "colab": {}
      },
      "source": [
        "# from resnet."
      ],
      "execution_count": null,
      "outputs": []
    },
    {
      "cell_type": "code",
      "metadata": {
        "id": "fh7XWiMcbyuJ",
        "colab_type": "code",
        "colab": {
          "base_uri": "https://localhost:8080/",
          "height": 1000
        },
        "outputId": "12d16a10-2cdb-46f1-8b2b-b53cbdbed63a"
      },
      "source": [
        "device = which_device()\n",
        "# model = Net(args).to(device)\n",
        "model = ResNet18().to(device)\n",
        "show_model_summary(model, device, (3,32,32))"
      ],
      "execution_count": null,
      "outputs": [
        {
          "output_type": "stream",
          "text": [
            "----------------------------------------------------------------\n",
            "        Layer (type)               Output Shape         Param #\n",
            "================================================================\n",
            "            Conv2d-1           [-1, 64, 32, 32]           1,728\n",
            "       BatchNorm2d-2           [-1, 64, 32, 32]             128\n",
            "            Conv2d-3           [-1, 64, 32, 32]          36,864\n",
            "       BatchNorm2d-4           [-1, 64, 32, 32]             128\n",
            "            Conv2d-5           [-1, 64, 32, 32]          36,864\n",
            "       BatchNorm2d-6           [-1, 64, 32, 32]             128\n",
            "        BasicBlock-7           [-1, 64, 32, 32]               0\n",
            "            Conv2d-8           [-1, 64, 32, 32]          36,864\n",
            "       BatchNorm2d-9           [-1, 64, 32, 32]             128\n",
            "           Conv2d-10           [-1, 64, 32, 32]          36,864\n",
            "      BatchNorm2d-11           [-1, 64, 32, 32]             128\n",
            "       BasicBlock-12           [-1, 64, 32, 32]               0\n",
            "           Conv2d-13          [-1, 128, 16, 16]          73,728\n",
            "      BatchNorm2d-14          [-1, 128, 16, 16]             256\n",
            "           Conv2d-15          [-1, 128, 16, 16]         147,456\n",
            "      BatchNorm2d-16          [-1, 128, 16, 16]             256\n",
            "           Conv2d-17          [-1, 128, 16, 16]           8,192\n",
            "      BatchNorm2d-18          [-1, 128, 16, 16]             256\n",
            "       BasicBlock-19          [-1, 128, 16, 16]               0\n",
            "           Conv2d-20          [-1, 128, 16, 16]         147,456\n",
            "      BatchNorm2d-21          [-1, 128, 16, 16]             256\n",
            "           Conv2d-22          [-1, 128, 16, 16]         147,456\n",
            "      BatchNorm2d-23          [-1, 128, 16, 16]             256\n",
            "       BasicBlock-24          [-1, 128, 16, 16]               0\n",
            "           Conv2d-25            [-1, 256, 8, 8]         294,912\n",
            "      BatchNorm2d-26            [-1, 256, 8, 8]             512\n",
            "           Conv2d-27            [-1, 256, 8, 8]         589,824\n",
            "      BatchNorm2d-28            [-1, 256, 8, 8]             512\n",
            "           Conv2d-29            [-1, 256, 8, 8]          32,768\n",
            "      BatchNorm2d-30            [-1, 256, 8, 8]             512\n",
            "       BasicBlock-31            [-1, 256, 8, 8]               0\n",
            "           Conv2d-32            [-1, 256, 8, 8]         589,824\n",
            "      BatchNorm2d-33            [-1, 256, 8, 8]             512\n",
            "           Conv2d-34            [-1, 256, 8, 8]         589,824\n",
            "      BatchNorm2d-35            [-1, 256, 8, 8]             512\n",
            "       BasicBlock-36            [-1, 256, 8, 8]               0\n",
            "           Conv2d-37            [-1, 512, 4, 4]       1,179,648\n",
            "      BatchNorm2d-38            [-1, 512, 4, 4]           1,024\n",
            "           Conv2d-39            [-1, 512, 4, 4]       2,359,296\n",
            "      BatchNorm2d-40            [-1, 512, 4, 4]           1,024\n",
            "           Conv2d-41            [-1, 512, 4, 4]         131,072\n",
            "      BatchNorm2d-42            [-1, 512, 4, 4]           1,024\n",
            "       BasicBlock-43            [-1, 512, 4, 4]               0\n",
            "           Conv2d-44            [-1, 512, 4, 4]       2,359,296\n",
            "      BatchNorm2d-45            [-1, 512, 4, 4]           1,024\n",
            "           Conv2d-46            [-1, 512, 4, 4]       2,359,296\n",
            "      BatchNorm2d-47            [-1, 512, 4, 4]           1,024\n",
            "       BasicBlock-48            [-1, 512, 4, 4]               0\n",
            "           Linear-49                   [-1, 10]           5,130\n",
            "================================================================\n",
            "Total params: 11,173,962\n",
            "Trainable params: 11,173,962\n",
            "Non-trainable params: 0\n",
            "----------------------------------------------------------------\n",
            "Input size (MB): 0.01\n",
            "Forward/backward pass size (MB): 11.25\n",
            "Params size (MB): 42.63\n",
            "Estimated Total Size (MB): 53.89\n",
            "----------------------------------------------------------------\n",
            "None\n"
          ],
          "name": "stdout"
        }
      ]
    },
    {
      "cell_type": "code",
      "metadata": {
        "id": "JpVtV1HKbyue",
        "colab_type": "code",
        "colab": {
          "base_uri": "https://localhost:8080/",
          "height": 1000
        },
        "outputId": "5e91f30e-880d-4e4e-ab16-a38665a5c460"
      },
      "source": [
        "criterion = nn.CrossEntropyLoss()\n",
        "optimizer = optim.SGD(model.parameters(), lr=0.001, momentum=0.9, weight_decay=0.001)\n",
        "\n",
        "def run():\n",
        "  test_losses = []\n",
        "  test_accs = []\n",
        "  misclassified_imgs = []\n",
        "  for epoch in range(args.epochs):\n",
        "      print(\"EPOCH:\", epoch+1)\n",
        "      train(model, device, data.train_loader, criterion, optimizer, epoch)\n",
        "      test(model, device, data.test_loader, criterion, data.classes, test_losses, test_accs, misclassified_imgs, epoch==args.epochs-1)\n",
        "  return test_losses, test_accs, misclassified_imgs\n",
        "\n",
        "# train and test the model\n",
        "test_losses, test_accs, misclassified_imgs = run()"
      ],
      "execution_count": null,
      "outputs": [
        {
          "output_type": "stream",
          "text": [
            "\r  0%|          | 0/782 [00:00<?, ?it/s]"
          ],
          "name": "stderr"
        },
        {
          "output_type": "stream",
          "text": [
            "EPOCH: 1\n"
          ],
          "name": "stdout"
        },
        {
          "output_type": "stream",
          "text": [
            "Loss=0.9805812239646912 Batch_id=781 Accuracy=49.39: 100%|██████████| 782/782 [01:44<00:00,  7.51it/s]\n",
            "  0%|          | 0/782 [00:00<?, ?it/s]"
          ],
          "name": "stderr"
        },
        {
          "output_type": "stream",
          "text": [
            "Test set: Average loss: 0.0166, Accuracy: 6280/10000 (62.80%)\n",
            "\n",
            "EPOCH: 2\n"
          ],
          "name": "stdout"
        },
        {
          "output_type": "stream",
          "text": [
            "Loss=1.3964399099349976 Batch_id=781 Accuracy=68.23: 100%|██████████| 782/782 [01:44<00:00,  7.49it/s]\n",
            "  0%|          | 0/782 [00:00<?, ?it/s]"
          ],
          "name": "stderr"
        },
        {
          "output_type": "stream",
          "text": [
            "Test set: Average loss: 0.0141, Accuracy: 6916/10000 (69.16%)\n",
            "\n",
            "EPOCH: 3\n"
          ],
          "name": "stdout"
        },
        {
          "output_type": "stream",
          "text": [
            "Loss=0.5656836628913879 Batch_id=781 Accuracy=76.51: 100%|██████████| 782/782 [01:44<00:00,  7.51it/s]\n",
            "  0%|          | 0/782 [00:00<?, ?it/s]"
          ],
          "name": "stderr"
        },
        {
          "output_type": "stream",
          "text": [
            "Test set: Average loss: 0.0108, Accuracy: 7581/10000 (75.81%)\n",
            "\n",
            "EPOCH: 4\n"
          ],
          "name": "stdout"
        },
        {
          "output_type": "stream",
          "text": [
            "Loss=0.5013561248779297 Batch_id=781 Accuracy=81.34: 100%|██████████| 782/782 [01:44<00:00,  7.50it/s]\n",
            "  0%|          | 0/782 [00:00<?, ?it/s]"
          ],
          "name": "stderr"
        },
        {
          "output_type": "stream",
          "text": [
            "Test set: Average loss: 0.0110, Accuracy: 7590/10000 (75.90%)\n",
            "\n",
            "EPOCH: 5\n"
          ],
          "name": "stdout"
        },
        {
          "output_type": "stream",
          "text": [
            "Loss=0.7765099406242371 Batch_id=781 Accuracy=84.55: 100%|██████████| 782/782 [01:44<00:00,  7.50it/s]\n",
            "  0%|          | 0/782 [00:00<?, ?it/s]"
          ],
          "name": "stderr"
        },
        {
          "output_type": "stream",
          "text": [
            "Test set: Average loss: 0.0106, Accuracy: 7767/10000 (77.67%)\n",
            "\n",
            "EPOCH: 6\n"
          ],
          "name": "stdout"
        },
        {
          "output_type": "stream",
          "text": [
            "Loss=0.513990044593811 Batch_id=781 Accuracy=87.25: 100%|██████████| 782/782 [01:44<00:00,  7.51it/s]\n",
            "  0%|          | 0/782 [00:00<?, ?it/s]"
          ],
          "name": "stderr"
        },
        {
          "output_type": "stream",
          "text": [
            "Test set: Average loss: 0.0092, Accuracy: 8032/10000 (80.32%)\n",
            "\n",
            "EPOCH: 7\n"
          ],
          "name": "stdout"
        },
        {
          "output_type": "stream",
          "text": [
            "Loss=0.2791840136051178 Batch_id=781 Accuracy=89.45: 100%|██████████| 782/782 [01:43<00:00,  7.52it/s]\n",
            "  0%|          | 0/782 [00:00<?, ?it/s]"
          ],
          "name": "stderr"
        },
        {
          "output_type": "stream",
          "text": [
            "Test set: Average loss: 0.0105, Accuracy: 7898/10000 (78.98%)\n",
            "\n",
            "EPOCH: 8\n"
          ],
          "name": "stdout"
        },
        {
          "output_type": "stream",
          "text": [
            "Loss=0.41409796476364136 Batch_id=781 Accuracy=91.05: 100%|██████████| 782/782 [01:44<00:00,  7.46it/s]\n",
            "  0%|          | 0/782 [00:00<?, ?it/s]"
          ],
          "name": "stderr"
        },
        {
          "output_type": "stream",
          "text": [
            "Test set: Average loss: 0.0088, Accuracy: 8213/10000 (82.13%)\n",
            "\n",
            "EPOCH: 9\n"
          ],
          "name": "stdout"
        },
        {
          "output_type": "stream",
          "text": [
            "Loss=0.41998767852783203 Batch_id=781 Accuracy=93.05: 100%|██████████| 782/782 [01:45<00:00,  7.43it/s]\n",
            "  0%|          | 0/782 [00:00<?, ?it/s]"
          ],
          "name": "stderr"
        },
        {
          "output_type": "stream",
          "text": [
            "Test set: Average loss: 0.0106, Accuracy: 7898/10000 (78.98%)\n",
            "\n",
            "EPOCH: 10\n"
          ],
          "name": "stdout"
        },
        {
          "output_type": "stream",
          "text": [
            "Loss=0.059681572020053864 Batch_id=781 Accuracy=94.15: 100%|██████████| 782/782 [01:44<00:00,  7.49it/s]\n",
            "  0%|          | 0/782 [00:00<?, ?it/s]"
          ],
          "name": "stderr"
        },
        {
          "output_type": "stream",
          "text": [
            "Test set: Average loss: 0.0113, Accuracy: 7881/10000 (78.81%)\n",
            "\n",
            "EPOCH: 11\n"
          ],
          "name": "stdout"
        },
        {
          "output_type": "stream",
          "text": [
            "Loss=0.04840659722685814 Batch_id=781 Accuracy=95.20: 100%|██████████| 782/782 [01:44<00:00,  7.50it/s]\n",
            "  0%|          | 0/782 [00:00<?, ?it/s]"
          ],
          "name": "stderr"
        },
        {
          "output_type": "stream",
          "text": [
            "Test set: Average loss: 0.0098, Accuracy: 8156/10000 (81.56%)\n",
            "\n",
            "EPOCH: 12\n"
          ],
          "name": "stdout"
        },
        {
          "output_type": "stream",
          "text": [
            "Loss=0.16246215999126434 Batch_id=781 Accuracy=96.06: 100%|██████████| 782/782 [01:44<00:00,  7.50it/s]\n",
            "  0%|          | 0/782 [00:00<?, ?it/s]"
          ],
          "name": "stderr"
        },
        {
          "output_type": "stream",
          "text": [
            "Test set: Average loss: 0.0093, Accuracy: 8273/10000 (82.73%)\n",
            "\n",
            "EPOCH: 13\n"
          ],
          "name": "stdout"
        },
        {
          "output_type": "stream",
          "text": [
            "Loss=0.06389272212982178 Batch_id=781 Accuracy=96.77: 100%|██████████| 782/782 [01:44<00:00,  7.48it/s]\n",
            "  0%|          | 0/782 [00:00<?, ?it/s]"
          ],
          "name": "stderr"
        },
        {
          "output_type": "stream",
          "text": [
            "Test set: Average loss: 0.0099, Accuracy: 8176/10000 (81.76%)\n",
            "\n",
            "EPOCH: 14\n"
          ],
          "name": "stdout"
        },
        {
          "output_type": "stream",
          "text": [
            "Loss=0.38447999954223633 Batch_id=781 Accuracy=97.36: 100%|██████████| 782/782 [01:44<00:00,  7.50it/s]\n",
            "  0%|          | 0/782 [00:00<?, ?it/s]"
          ],
          "name": "stderr"
        },
        {
          "output_type": "stream",
          "text": [
            "Test set: Average loss: 0.0121, Accuracy: 7985/10000 (79.85%)\n",
            "\n",
            "EPOCH: 15\n"
          ],
          "name": "stdout"
        },
        {
          "output_type": "stream",
          "text": [
            "Loss=0.038356587290763855 Batch_id=781 Accuracy=97.61: 100%|██████████| 782/782 [01:44<00:00,  7.45it/s]\n",
            "  0%|          | 0/782 [00:00<?, ?it/s]"
          ],
          "name": "stderr"
        },
        {
          "output_type": "stream",
          "text": [
            "Test set: Average loss: 0.0105, Accuracy: 8169/10000 (81.69%)\n",
            "\n",
            "EPOCH: 16\n"
          ],
          "name": "stdout"
        },
        {
          "output_type": "stream",
          "text": [
            "Loss=0.027210542932152748 Batch_id=781 Accuracy=98.07: 100%|██████████| 782/782 [01:44<00:00,  7.46it/s]\n",
            "  0%|          | 0/782 [00:00<?, ?it/s]"
          ],
          "name": "stderr"
        },
        {
          "output_type": "stream",
          "text": [
            "Test set: Average loss: 0.0102, Accuracy: 8240/10000 (82.40%)\n",
            "\n",
            "EPOCH: 17\n"
          ],
          "name": "stdout"
        },
        {
          "output_type": "stream",
          "text": [
            "Loss=0.016233503818511963 Batch_id=781 Accuracy=98.57: 100%|██████████| 782/782 [01:44<00:00,  7.45it/s]\n",
            "  0%|          | 0/782 [00:00<?, ?it/s]"
          ],
          "name": "stderr"
        },
        {
          "output_type": "stream",
          "text": [
            "Test set: Average loss: 0.0107, Accuracy: 8222/10000 (82.22%)\n",
            "\n",
            "EPOCH: 18\n"
          ],
          "name": "stdout"
        },
        {
          "output_type": "stream",
          "text": [
            "Loss=0.016420021653175354 Batch_id=781 Accuracy=98.75: 100%|██████████| 782/782 [01:44<00:00,  7.45it/s]\n",
            "  0%|          | 0/782 [00:00<?, ?it/s]"
          ],
          "name": "stderr"
        },
        {
          "output_type": "stream",
          "text": [
            "Test set: Average loss: 0.0116, Accuracy: 8112/10000 (81.12%)\n",
            "\n",
            "EPOCH: 19\n"
          ],
          "name": "stdout"
        },
        {
          "output_type": "stream",
          "text": [
            "Loss=0.043214667588472366 Batch_id=781 Accuracy=98.80: 100%|██████████| 782/782 [01:44<00:00,  7.46it/s]\n",
            "  0%|          | 0/782 [00:00<?, ?it/s]"
          ],
          "name": "stderr"
        },
        {
          "output_type": "stream",
          "text": [
            "Test set: Average loss: 0.0106, Accuracy: 8309/10000 (83.09%)\n",
            "\n",
            "EPOCH: 20\n"
          ],
          "name": "stdout"
        },
        {
          "output_type": "stream",
          "text": [
            "Loss=0.008851677179336548 Batch_id=781 Accuracy=99.09: 100%|██████████| 782/782 [01:44<00:00,  7.45it/s]\n",
            "  0%|          | 0/782 [00:00<?, ?it/s]"
          ],
          "name": "stderr"
        },
        {
          "output_type": "stream",
          "text": [
            "Test set: Average loss: 0.0097, Accuracy: 8429/10000 (84.29%)\n",
            "\n",
            "EPOCH: 21\n"
          ],
          "name": "stdout"
        },
        {
          "output_type": "stream",
          "text": [
            "Loss=0.3052043616771698 Batch_id=781 Accuracy=99.17: 100%|██████████| 782/782 [01:45<00:00,  7.44it/s]\n",
            "  0%|          | 0/782 [00:00<?, ?it/s]"
          ],
          "name": "stderr"
        },
        {
          "output_type": "stream",
          "text": [
            "Test set: Average loss: 0.0104, Accuracy: 8310/10000 (83.10%)\n",
            "\n",
            "EPOCH: 22\n"
          ],
          "name": "stdout"
        },
        {
          "output_type": "stream",
          "text": [
            "Loss=0.06203040853142738 Batch_id=781 Accuracy=98.79: 100%|██████████| 782/782 [01:44<00:00,  7.45it/s]\n",
            "  0%|          | 0/782 [00:00<?, ?it/s]"
          ],
          "name": "stderr"
        },
        {
          "output_type": "stream",
          "text": [
            "Test set: Average loss: 0.0117, Accuracy: 8134/10000 (81.34%)\n",
            "\n",
            "EPOCH: 23\n"
          ],
          "name": "stdout"
        },
        {
          "output_type": "stream",
          "text": [
            "Loss=0.04910982772707939 Batch_id=781 Accuracy=99.03: 100%|██████████| 782/782 [01:44<00:00,  7.45it/s]\n",
            "  0%|          | 0/782 [00:00<?, ?it/s]"
          ],
          "name": "stderr"
        },
        {
          "output_type": "stream",
          "text": [
            "Test set: Average loss: 0.0100, Accuracy: 8381/10000 (83.81%)\n",
            "\n",
            "EPOCH: 24\n"
          ],
          "name": "stdout"
        },
        {
          "output_type": "stream",
          "text": [
            "Loss=0.012436652556061745 Batch_id=781 Accuracy=99.25: 100%|██████████| 782/782 [01:45<00:00,  7.45it/s]\n",
            "  0%|          | 0/782 [00:00<?, ?it/s]"
          ],
          "name": "stderr"
        },
        {
          "output_type": "stream",
          "text": [
            "Test set: Average loss: 0.0107, Accuracy: 8354/10000 (83.54%)\n",
            "\n",
            "EPOCH: 25\n"
          ],
          "name": "stdout"
        },
        {
          "output_type": "stream",
          "text": [
            "Loss=0.010078747756779194 Batch_id=781 Accuracy=99.39: 100%|██████████| 782/782 [01:45<00:00,  7.45it/s]\n",
            "  0%|          | 0/782 [00:00<?, ?it/s]"
          ],
          "name": "stderr"
        },
        {
          "output_type": "stream",
          "text": [
            "Test set: Average loss: 0.0100, Accuracy: 8403/10000 (84.03%)\n",
            "\n",
            "EPOCH: 26\n"
          ],
          "name": "stdout"
        },
        {
          "output_type": "stream",
          "text": [
            "Loss=0.0042271120473742485 Batch_id=781 Accuracy=99.65: 100%|██████████| 782/782 [01:44<00:00,  7.45it/s]\n",
            "  0%|          | 0/782 [00:00<?, ?it/s]"
          ],
          "name": "stderr"
        },
        {
          "output_type": "stream",
          "text": [
            "Test set: Average loss: 0.0099, Accuracy: 8469/10000 (84.69%)\n",
            "\n",
            "EPOCH: 27\n"
          ],
          "name": "stdout"
        },
        {
          "output_type": "stream",
          "text": [
            "Loss=0.031599193811416626 Batch_id=781 Accuracy=99.68: 100%|██████████| 782/782 [01:45<00:00,  7.43it/s]\n",
            "  0%|          | 0/782 [00:00<?, ?it/s]"
          ],
          "name": "stderr"
        },
        {
          "output_type": "stream",
          "text": [
            "Test set: Average loss: 0.0098, Accuracy: 8446/10000 (84.46%)\n",
            "\n",
            "EPOCH: 28\n"
          ],
          "name": "stdout"
        },
        {
          "output_type": "stream",
          "text": [
            "Loss=0.0919145718216896 Batch_id=781 Accuracy=99.66: 100%|██████████| 782/782 [01:45<00:00,  7.42it/s]\n",
            "  0%|          | 0/782 [00:00<?, ?it/s]"
          ],
          "name": "stderr"
        },
        {
          "output_type": "stream",
          "text": [
            "Test set: Average loss: 0.0097, Accuracy: 8481/10000 (84.81%)\n",
            "\n",
            "EPOCH: 29\n"
          ],
          "name": "stdout"
        },
        {
          "output_type": "stream",
          "text": [
            "Loss=0.21382610499858856 Batch_id=781 Accuracy=99.75: 100%|██████████| 782/782 [01:45<00:00,  7.42it/s]\n",
            "  0%|          | 0/782 [00:00<?, ?it/s]"
          ],
          "name": "stderr"
        },
        {
          "output_type": "stream",
          "text": [
            "Test set: Average loss: 0.0098, Accuracy: 8439/10000 (84.39%)\n",
            "\n",
            "EPOCH: 30\n"
          ],
          "name": "stdout"
        },
        {
          "output_type": "stream",
          "text": [
            "Loss=0.5414292216300964 Batch_id=781 Accuracy=99.65: 100%|██████████| 782/782 [01:45<00:00,  7.43it/s]\n",
            "  0%|          | 0/782 [00:00<?, ?it/s]"
          ],
          "name": "stderr"
        },
        {
          "output_type": "stream",
          "text": [
            "Test set: Average loss: 0.0098, Accuracy: 8469/10000 (84.69%)\n",
            "\n",
            "EPOCH: 31\n"
          ],
          "name": "stdout"
        },
        {
          "output_type": "stream",
          "text": [
            "Loss=0.0022179381921887398 Batch_id=781 Accuracy=99.60: 100%|██████████| 782/782 [01:45<00:00,  7.43it/s]\n",
            "  0%|          | 0/782 [00:00<?, ?it/s]"
          ],
          "name": "stderr"
        },
        {
          "output_type": "stream",
          "text": [
            "Test set: Average loss: 0.0098, Accuracy: 8489/10000 (84.89%)\n",
            "\n",
            "EPOCH: 32\n"
          ],
          "name": "stdout"
        },
        {
          "output_type": "stream",
          "text": [
            "Loss=0.01136853452771902 Batch_id=781 Accuracy=99.81: 100%|██████████| 782/782 [01:45<00:00,  7.42it/s]\n",
            "  0%|          | 0/782 [00:00<?, ?it/s]"
          ],
          "name": "stderr"
        },
        {
          "output_type": "stream",
          "text": [
            "Test set: Average loss: 0.0101, Accuracy: 8442/10000 (84.42%)\n",
            "\n",
            "EPOCH: 33\n"
          ],
          "name": "stdout"
        },
        {
          "output_type": "stream",
          "text": [
            "Loss=0.002718397881835699 Batch_id=781 Accuracy=99.81: 100%|██████████| 782/782 [01:45<00:00,  7.43it/s]\n",
            "  0%|          | 0/782 [00:00<?, ?it/s]"
          ],
          "name": "stderr"
        },
        {
          "output_type": "stream",
          "text": [
            "Test set: Average loss: 0.0098, Accuracy: 8449/10000 (84.49%)\n",
            "\n",
            "EPOCH: 34\n"
          ],
          "name": "stdout"
        },
        {
          "output_type": "stream",
          "text": [
            "Loss=0.0064546517096459866 Batch_id=781 Accuracy=99.92: 100%|██████████| 782/782 [01:45<00:00,  7.43it/s]\n",
            "  0%|          | 0/782 [00:00<?, ?it/s]"
          ],
          "name": "stderr"
        },
        {
          "output_type": "stream",
          "text": [
            "\n",
            "Accuracy of plane : 90 %\n",
            "Accuracy of   car : 95 %\n",
            "Accuracy of  bird : 77 %\n",
            "Accuracy of   cat : 66 %\n",
            "Accuracy of  deer : 79 %\n",
            "Accuracy of   dog : 81 %\n",
            "Accuracy of  frog : 93 %\n",
            "Accuracy of horse : 92 %\n",
            "Accuracy of  ship : 90 %\n",
            "Accuracy of truck : 94 %\n",
            "\n",
            "Test set: Average loss: 0.0090, Accuracy: 8573/10000 (85.73%)\n",
            "\n",
            "EPOCH: 35\n"
          ],
          "name": "stdout"
        },
        {
          "output_type": "stream",
          "text": [
            "Loss=0.07373107969760895 Batch_id=781 Accuracy=99.95: 100%|██████████| 782/782 [01:45<00:00,  7.43it/s]\n",
            "  0%|          | 0/782 [00:00<?, ?it/s]"
          ],
          "name": "stderr"
        },
        {
          "output_type": "stream",
          "text": [
            "\n",
            "Accuracy of plane : 87 %\n",
            "Accuracy of   car : 93 %\n",
            "Accuracy of  bird : 80 %\n",
            "Accuracy of   cat : 66 %\n",
            "Accuracy of  deer : 78 %\n",
            "Accuracy of   dog : 73 %\n",
            "Accuracy of  frog : 87 %\n",
            "Accuracy of horse : 92 %\n",
            "Accuracy of  ship : 96 %\n",
            "Accuracy of truck : 96 %\n",
            "\n",
            "Test set: Average loss: 0.0091, Accuracy: 8572/10000 (85.72%)\n",
            "\n",
            "EPOCH: 36\n"
          ],
          "name": "stdout"
        },
        {
          "output_type": "stream",
          "text": [
            "Loss=0.0014294208958745003 Batch_id=781 Accuracy=99.95: 100%|██████████| 782/782 [01:45<00:00,  7.44it/s]\n",
            "  0%|          | 0/782 [00:00<?, ?it/s]"
          ],
          "name": "stderr"
        },
        {
          "output_type": "stream",
          "text": [
            "\n",
            "Accuracy of plane : 95 %\n",
            "Accuracy of   car : 91 %\n",
            "Accuracy of  bird : 79 %\n",
            "Accuracy of   cat : 68 %\n",
            "Accuracy of  deer : 84 %\n",
            "Accuracy of   dog : 84 %\n",
            "Accuracy of  frog : 89 %\n",
            "Accuracy of horse : 87 %\n",
            "Accuracy of  ship : 95 %\n",
            "Accuracy of truck : 93 %\n",
            "\n",
            "Test set: Average loss: 0.0088, Accuracy: 8591/10000 (85.91%)\n",
            "\n",
            "EPOCH: 37\n"
          ],
          "name": "stdout"
        },
        {
          "output_type": "stream",
          "text": [
            "Loss=0.0023296745494008064 Batch_id=781 Accuracy=99.98: 100%|██████████| 782/782 [01:45<00:00,  7.44it/s]\n",
            "  0%|          | 0/782 [00:00<?, ?it/s]"
          ],
          "name": "stderr"
        },
        {
          "output_type": "stream",
          "text": [
            "\n",
            "Accuracy of plane : 88 %\n",
            "Accuracy of   car : 89 %\n",
            "Accuracy of  bird : 72 %\n",
            "Accuracy of   cat : 75 %\n",
            "Accuracy of  deer : 86 %\n",
            "Accuracy of   dog : 82 %\n",
            "Accuracy of  frog : 89 %\n",
            "Accuracy of horse : 91 %\n",
            "Accuracy of  ship : 95 %\n",
            "Accuracy of truck : 93 %\n",
            "\n",
            "Test set: Average loss: 0.0089, Accuracy: 8612/10000 (86.12%)\n",
            "\n",
            "EPOCH: 38\n"
          ],
          "name": "stdout"
        },
        {
          "output_type": "stream",
          "text": [
            "Loss=0.000476696906844154 Batch_id=781 Accuracy=99.99: 100%|██████████| 782/782 [01:45<00:00,  7.45it/s]\n",
            "  0%|          | 0/782 [00:00<?, ?it/s]"
          ],
          "name": "stderr"
        },
        {
          "output_type": "stream",
          "text": [
            "\n",
            "Accuracy of plane : 92 %\n",
            "Accuracy of   car : 97 %\n",
            "Accuracy of  bird : 75 %\n",
            "Accuracy of   cat : 62 %\n",
            "Accuracy of  deer : 83 %\n",
            "Accuracy of   dog : 80 %\n",
            "Accuracy of  frog : 85 %\n",
            "Accuracy of horse : 88 %\n",
            "Accuracy of  ship : 94 %\n",
            "Accuracy of truck : 91 %\n",
            "\n",
            "Test set: Average loss: 0.0087, Accuracy: 8642/10000 (86.42%)\n",
            "\n",
            "EPOCH: 39\n"
          ],
          "name": "stdout"
        },
        {
          "output_type": "stream",
          "text": [
            "Loss=0.011079601012170315 Batch_id=781 Accuracy=100.00: 100%|██████████| 782/782 [01:45<00:00,  7.43it/s]\n",
            "  0%|          | 0/782 [00:00<?, ?it/s]"
          ],
          "name": "stderr"
        },
        {
          "output_type": "stream",
          "text": [
            "\n",
            "Accuracy of plane : 92 %\n",
            "Accuracy of   car : 97 %\n",
            "Accuracy of  bird : 78 %\n",
            "Accuracy of   cat : 63 %\n",
            "Accuracy of  deer : 79 %\n",
            "Accuracy of   dog : 83 %\n",
            "Accuracy of  frog : 84 %\n",
            "Accuracy of horse : 82 %\n",
            "Accuracy of  ship : 95 %\n",
            "Accuracy of truck : 90 %\n",
            "\n",
            "Test set: Average loss: 0.0086, Accuracy: 8600/10000 (86.00%)\n",
            "\n",
            "EPOCH: 40\n"
          ],
          "name": "stdout"
        },
        {
          "output_type": "stream",
          "text": [
            "Loss=0.010985669679939747 Batch_id=781 Accuracy=100.00: 100%|██████████| 782/782 [01:45<00:00,  7.44it/s]\n",
            "  0%|          | 0/782 [00:00<?, ?it/s]"
          ],
          "name": "stderr"
        },
        {
          "output_type": "stream",
          "text": [
            "\n",
            "Accuracy of plane : 89 %\n",
            "Accuracy of   car : 96 %\n",
            "Accuracy of  bird : 78 %\n",
            "Accuracy of   cat : 60 %\n",
            "Accuracy of  deer : 87 %\n",
            "Accuracy of   dog : 85 %\n",
            "Accuracy of  frog : 94 %\n",
            "Accuracy of horse : 90 %\n",
            "Accuracy of  ship : 98 %\n",
            "Accuracy of truck : 93 %\n",
            "\n",
            "Test set: Average loss: 0.0085, Accuracy: 8643/10000 (86.43%)\n",
            "\n",
            "EPOCH: 41\n"
          ],
          "name": "stdout"
        },
        {
          "output_type": "stream",
          "text": [
            "Loss=0.01045458484441042 Batch_id=781 Accuracy=100.00: 100%|██████████| 782/782 [01:44<00:00,  7.45it/s]\n",
            "  0%|          | 0/782 [00:00<?, ?it/s]"
          ],
          "name": "stderr"
        },
        {
          "output_type": "stream",
          "text": [
            "\n",
            "Accuracy of plane : 92 %\n",
            "Accuracy of   car : 96 %\n",
            "Accuracy of  bird : 71 %\n",
            "Accuracy of   cat : 65 %\n",
            "Accuracy of  deer : 86 %\n",
            "Accuracy of   dog : 81 %\n",
            "Accuracy of  frog : 94 %\n",
            "Accuracy of horse : 90 %\n",
            "Accuracy of  ship : 93 %\n",
            "Accuracy of truck : 86 %\n",
            "\n",
            "Test set: Average loss: 0.0083, Accuracy: 8638/10000 (86.38%)\n",
            "\n",
            "EPOCH: 42\n"
          ],
          "name": "stdout"
        },
        {
          "output_type": "stream",
          "text": [
            "Loss=0.004968011286109686 Batch_id=781 Accuracy=100.00: 100%|██████████| 782/782 [01:45<00:00,  7.44it/s]\n",
            "  0%|          | 0/782 [00:00<?, ?it/s]"
          ],
          "name": "stderr"
        },
        {
          "output_type": "stream",
          "text": [
            "\n",
            "Accuracy of plane : 71 %\n",
            "Accuracy of   car : 100 %\n",
            "Accuracy of  bird : 83 %\n",
            "Accuracy of   cat : 66 %\n",
            "Accuracy of  deer : 82 %\n",
            "Accuracy of   dog : 78 %\n",
            "Accuracy of  frog : 91 %\n",
            "Accuracy of horse : 88 %\n",
            "Accuracy of  ship : 96 %\n",
            "Accuracy of truck : 95 %\n",
            "\n",
            "Test set: Average loss: 0.0084, Accuracy: 8640/10000 (86.40%)\n",
            "\n",
            "EPOCH: 43\n"
          ],
          "name": "stdout"
        },
        {
          "output_type": "stream",
          "text": [
            "Loss=0.007228567730635405 Batch_id=781 Accuracy=100.00: 100%|██████████| 782/782 [01:45<00:00,  7.45it/s]\n",
            "  0%|          | 0/782 [00:00<?, ?it/s]"
          ],
          "name": "stderr"
        },
        {
          "output_type": "stream",
          "text": [
            "\n",
            "Accuracy of plane : 88 %\n",
            "Accuracy of   car : 92 %\n",
            "Accuracy of  bird : 78 %\n",
            "Accuracy of   cat : 70 %\n",
            "Accuracy of  deer : 80 %\n",
            "Accuracy of   dog : 89 %\n",
            "Accuracy of  frog : 89 %\n",
            "Accuracy of horse : 90 %\n",
            "Accuracy of  ship : 91 %\n",
            "Accuracy of truck : 92 %\n",
            "\n",
            "Test set: Average loss: 0.0084, Accuracy: 8630/10000 (86.30%)\n",
            "\n",
            "EPOCH: 44\n"
          ],
          "name": "stdout"
        },
        {
          "output_type": "stream",
          "text": [
            "Loss=0.000764545111451298 Batch_id=781 Accuracy=100.00: 100%|██████████| 782/782 [01:45<00:00,  7.44it/s]\n",
            "  0%|          | 0/782 [00:00<?, ?it/s]"
          ],
          "name": "stderr"
        },
        {
          "output_type": "stream",
          "text": [
            "\n",
            "Accuracy of plane : 87 %\n",
            "Accuracy of   car : 98 %\n",
            "Accuracy of  bird : 86 %\n",
            "Accuracy of   cat : 72 %\n",
            "Accuracy of  deer : 82 %\n",
            "Accuracy of   dog : 74 %\n",
            "Accuracy of  frog : 90 %\n",
            "Accuracy of horse : 90 %\n",
            "Accuracy of  ship : 94 %\n",
            "Accuracy of truck : 95 %\n",
            "\n",
            "Test set: Average loss: 0.0081, Accuracy: 8677/10000 (86.77%)\n",
            "\n",
            "EPOCH: 45\n"
          ],
          "name": "stdout"
        },
        {
          "output_type": "stream",
          "text": [
            "Loss=0.004225286189466715 Batch_id=781 Accuracy=100.00: 100%|██████████| 782/782 [01:45<00:00,  7.44it/s]\n",
            "  0%|          | 0/782 [00:00<?, ?it/s]"
          ],
          "name": "stderr"
        },
        {
          "output_type": "stream",
          "text": [
            "\n",
            "Accuracy of plane : 83 %\n",
            "Accuracy of   car : 96 %\n",
            "Accuracy of  bird : 91 %\n",
            "Accuracy of   cat : 66 %\n",
            "Accuracy of  deer : 85 %\n",
            "Accuracy of   dog : 76 %\n",
            "Accuracy of  frog : 87 %\n",
            "Accuracy of horse : 90 %\n",
            "Accuracy of  ship : 98 %\n",
            "Accuracy of truck : 94 %\n",
            "\n",
            "Test set: Average loss: 0.0082, Accuracy: 8642/10000 (86.42%)\n",
            "\n",
            "EPOCH: 46\n"
          ],
          "name": "stdout"
        },
        {
          "output_type": "stream",
          "text": [
            "Loss=0.00045574811520054936 Batch_id=781 Accuracy=100.00: 100%|██████████| 782/782 [01:45<00:00,  7.44it/s]\n",
            "  0%|          | 0/782 [00:00<?, ?it/s]"
          ],
          "name": "stderr"
        },
        {
          "output_type": "stream",
          "text": [
            "\n",
            "Accuracy of plane : 90 %\n",
            "Accuracy of   car : 92 %\n",
            "Accuracy of  bird : 82 %\n",
            "Accuracy of   cat : 71 %\n",
            "Accuracy of  deer : 85 %\n",
            "Accuracy of   dog : 80 %\n",
            "Accuracy of  frog : 89 %\n",
            "Accuracy of horse : 92 %\n",
            "Accuracy of  ship : 83 %\n",
            "Accuracy of truck : 91 %\n",
            "\n",
            "Test set: Average loss: 0.0084, Accuracy: 8622/10000 (86.22%)\n",
            "\n",
            "EPOCH: 47\n"
          ],
          "name": "stdout"
        },
        {
          "output_type": "stream",
          "text": [
            "Loss=0.00884971208870411 Batch_id=781 Accuracy=100.00: 100%|██████████| 782/782 [01:45<00:00,  7.43it/s]\n",
            "  0%|          | 0/782 [00:00<?, ?it/s]"
          ],
          "name": "stderr"
        },
        {
          "output_type": "stream",
          "text": [
            "\n",
            "Accuracy of plane : 90 %\n",
            "Accuracy of   car : 98 %\n",
            "Accuracy of  bird : 68 %\n",
            "Accuracy of   cat : 57 %\n",
            "Accuracy of  deer : 88 %\n",
            "Accuracy of   dog : 79 %\n",
            "Accuracy of  frog : 88 %\n",
            "Accuracy of horse : 88 %\n",
            "Accuracy of  ship : 93 %\n",
            "Accuracy of truck : 94 %\n",
            "\n",
            "Test set: Average loss: 0.0081, Accuracy: 8652/10000 (86.52%)\n",
            "\n",
            "EPOCH: 48\n"
          ],
          "name": "stdout"
        },
        {
          "output_type": "stream",
          "text": [
            "Loss=0.0014845215482637286 Batch_id=781 Accuracy=100.00: 100%|██████████| 782/782 [01:45<00:00,  7.43it/s]\n",
            "  0%|          | 0/782 [00:00<?, ?it/s]"
          ],
          "name": "stderr"
        },
        {
          "output_type": "stream",
          "text": [
            "\n",
            "Accuracy of plane : 95 %\n",
            "Accuracy of   car : 90 %\n",
            "Accuracy of  bird : 73 %\n",
            "Accuracy of   cat : 72 %\n",
            "Accuracy of  deer : 83 %\n",
            "Accuracy of   dog : 73 %\n",
            "Accuracy of  frog : 96 %\n",
            "Accuracy of horse : 90 %\n",
            "Accuracy of  ship : 91 %\n",
            "Accuracy of truck : 95 %\n",
            "\n",
            "Test set: Average loss: 0.0080, Accuracy: 8629/10000 (86.29%)\n",
            "\n",
            "EPOCH: 49\n"
          ],
          "name": "stdout"
        },
        {
          "output_type": "stream",
          "text": [
            "Loss=0.000976337119936943 Batch_id=781 Accuracy=100.00: 100%|██████████| 782/782 [01:45<00:00,  7.44it/s]\n",
            "  0%|          | 0/782 [00:00<?, ?it/s]"
          ],
          "name": "stderr"
        },
        {
          "output_type": "stream",
          "text": [
            "\n",
            "Accuracy of plane : 93 %\n",
            "Accuracy of   car : 90 %\n",
            "Accuracy of  bird : 82 %\n",
            "Accuracy of   cat : 60 %\n",
            "Accuracy of  deer : 89 %\n",
            "Accuracy of   dog : 86 %\n",
            "Accuracy of  frog : 96 %\n",
            "Accuracy of horse : 92 %\n",
            "Accuracy of  ship : 94 %\n",
            "Accuracy of truck : 94 %\n",
            "\n",
            "Test set: Average loss: 0.0081, Accuracy: 8666/10000 (86.66%)\n",
            "\n",
            "EPOCH: 50\n"
          ],
          "name": "stdout"
        },
        {
          "output_type": "stream",
          "text": [
            "Loss=0.0020624413155019283 Batch_id=781 Accuracy=100.00: 100%|██████████| 782/782 [01:45<00:00,  7.44it/s]\n",
            "/content/EVA5/trainer/test.py:15: UserWarning: This overload of nonzero is deprecated:\n",
            "\tnonzero()\n",
            "Consider using one of the following signatures instead:\n",
            "\tnonzero(*, bool as_tuple) (Triggered internally at  /pytorch/torch/csrc/utils/python_arg_parser.cpp:766.)\n",
            "  misclassified_inds = (is_correct==0).nonzero()[:,0]\n"
          ],
          "name": "stderr"
        },
        {
          "output_type": "stream",
          "text": [
            "\n",
            "Accuracy of plane : 88 %\n",
            "Accuracy of   car : 100 %\n",
            "Accuracy of  bird : 68 %\n",
            "Accuracy of   cat : 77 %\n",
            "Accuracy of  deer : 84 %\n",
            "Accuracy of   dog : 77 %\n",
            "Accuracy of  frog : 80 %\n",
            "Accuracy of horse : 91 %\n",
            "Accuracy of  ship : 97 %\n",
            "Accuracy of truck : 97 %\n",
            "\n",
            "Test set: Average loss: 0.0080, Accuracy: 8661/10000 (86.61%)\n",
            "\n"
          ],
          "name": "stdout"
        }
      ]
    },
    {
      "cell_type": "code",
      "metadata": {
        "id": "nlsVSrqWIVKw",
        "colab_type": "code",
        "colab": {}
      },
      "source": [
        ""
      ],
      "execution_count": null,
      "outputs": []
    },
    {
      "cell_type": "code",
      "metadata": {
        "id": "niYYb4G2sYOI",
        "colab_type": "code",
        "colab": {}
      },
      "source": [
        "classes = ('plane', 'car', 'bird', 'cat', 'deer', 'dog',\n",
        "\t\t\t'frog', 'horse', 'ship', 'truck')"
      ],
      "execution_count": null,
      "outputs": []
    },
    {
      "cell_type": "code",
      "metadata": {
        "id": "kndIl7yynB_T",
        "colab_type": "code",
        "colab": {
          "base_uri": "https://localhost:8080/",
          "height": 729
        },
        "outputId": "86581cac-5806-4536-975a-067f8072be72"
      },
      "source": [
        "plot_misclassified_images(misclassified_imgs, classes, \"misclassified_images.png\")"
      ],
      "execution_count": null,
      "outputs": [
        {
          "output_type": "display_data",
          "data": {
            "image/png": "[encoded data removed]",
            "text/plain": [
              "<Figure size 720x720 with 25 Axes>"
            ]
          },
          "metadata": {
            "tags": [],
            "needs_background": "light"
          }
        }
      ]
    },
    {
      "cell_type": "code",
      "metadata": {
        "id": "d0uuZM1BsqSc",
        "colab_type": "code",
        "colab": {
          "base_uri": "https://localhost:8080/",
          "height": 458
        },
        "outputId": "902e4c37-d94b-4819-ec4b-ef8d892493a1"
      },
      "source": [
        "plot_graph(test_losses, \"Test Losses\")"
      ],
      "execution_count": null,
      "outputs": [
        {
          "output_type": "display_data",
          "data": {
            "image/png": "[encoded data removed]",
            "text/plain": [
              "<Figure size 504x504 with 1 Axes>"
            ]
          },
          "metadata": {
            "tags": [],
            "needs_background": "light"
          }
        }
      ]
    },
    {
      "cell_type": "code",
      "metadata": {
        "id": "ehT4aExjs8A7",
        "colab_type": "code",
        "colab": {
          "base_uri": "https://localhost:8080/",
          "height": 458
        },
        "outputId": "2dc6a164-d2c1-4d68-d118-d73ab7f594d9"
      },
      "source": [
        "plot_graph(test_accs, \"Test Accuracy\")"
      ],
      "execution_count": null,
      "outputs": [
        {
          "output_type": "display_data",
          "data": {
            "image/png": "[encoded data removed]",
            "text/plain": [
              "<Figure size 504x504 with 1 Axes>"
            ]
          },
          "metadata": {
            "tags": [],
            "needs_background": "light"
          }
        }
      ]
    },
    {
      "cell_type": "code",
      "metadata": {
        "id": "ezXILunzgXj4",
        "colab_type": "code",
        "colab": {}
      },
      "source": [
        ""
      ],
      "execution_count": null,
      "outputs": []
    }
  ]
}